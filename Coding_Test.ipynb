{
 "cells": [
  {
   "cell_type": "markdown",
   "id": "d5ec3a9a-9271-4622-a900-6733f7061457",
   "metadata": {},
   "source": [
    "# [문제] 문자열을 구성하는 문자의 개수를 세기\n",
    "<pre>\n",
    "    사용자로부터 임의의 문자열을 입력받아 해당문자열을 구성하는 문자들 및 각 문자의 개수를 출력하는 코드를 작성하세요.\n",
    "    실행예시\n",
    "    입력: 가가가bbbbccc#\n",
    "    출력: 가3b4c3#1\n",
    "</pre>"
   ]
  },
  {
   "cell_type": "code",
   "execution_count": 15,
   "id": "d9ed7dbd-1f8c-4699-9425-0786243323de",
   "metadata": {},
   "outputs": [
    {
     "name": "stdin",
     "output_type": "stream",
     "text": [
      "입력:  가가가bbb333\n"
     ]
    },
    {
     "name": "stdout",
     "output_type": "stream",
     "text": [
      "출력: 가3b333"
     ]
    }
   ],
   "source": [
    "munja10 = input('입력: ')\n",
    "word_list = munja10.split()\n",
    "result = {}\n",
    "for word_list in munja10 :\n",
    "    result [word_list] = result.get (word_list,0)+1\n",
    "print(f'출력: ', end='')\n",
    "keys = result.keys()\n",
    "for k in keys:\n",
    "    print(k, result[k], end='', sep='')"
   ]
  },
  {
   "cell_type": "code",
   "execution_count": 37,
   "id": "772afc3c-67be-4da2-abc5-2f0384fe7cf8",
   "metadata": {},
   "outputs": [
    {
     "name": "stdin",
     "output_type": "stream",
     "text": [
      "입력:  가가가bbb33333\n"
     ]
    },
    {
     "name": "stdout",
     "output_type": "stream",
     "text": [
      "출력: 가3b335"
     ]
    }
   ],
   "source": [
    "data = input('입력: ')\n",
    "charDic = {s:data.count(s) for s in data}\n",
    "print('출력: ', end='')\n",
    "for k,v in charDic.items():\n",
    "    print(k,v,sep='',end='')"
   ]
  },
  {
   "cell_type": "markdown",
   "id": "56161ba3-283a-481c-8c58-a4b3fc4c7d69",
   "metadata": {},
   "source": [
    "# [문제] 분리한 문자열의 첫 번째 문자 출력하기\n",
    "<pre>\n",
    "    사용자로부터 임의의 문자열을 입력받아 공백을 기준으로 분리한 후\n",
    "    분리된 문자열의 첫 번째 글자만 모아서 출력하는 코드를 작성하세요.\n",
    "    (실행예시)\n",
    "    입력: ABC DEF GHI\n",
    "    출력: A,D,G\n",
    "</pre>"
   ]
  },
  {
   "cell_type": "code",
   "execution_count": 68,
   "id": "46a9fb29-7616-4bbf-99c4-393183009d38",
   "metadata": {},
   "outputs": [
    {
     "name": "stdin",
     "output_type": "stream",
     "text": [
      "입력:  abc def ghi\n"
     ]
    },
    {
     "name": "stdout",
     "output_type": "stream",
     "text": [
      "출력: a,d,g\n"
     ]
    }
   ],
   "source": [
    "data = input('입력: ')\n",
    "print('출력: ',end='')\n",
    "for s in data.split(' ') :\n",
    "    print(s[0],end=',')\n",
    "print('\\b')\n",
    "print(','.join([s[0] for s in data.split()]))"
   ]
  },
  {
   "cell_type": "markdown",
   "id": "bb01d30a-da55-489d-a75f-30135028d6ef",
   "metadata": {},
   "source": [
    "# [문제] 순차적으로 문자열 변환하기\n",
    "<pre>\n",
    "사용자로부터 임의의 문자열을 입력받아 가장 마지막 문자부터 \"#\"으로 하나씩 변환해가며 출력하는 코드를 작성하세요.\n",
    "실행예시\n",
    "입력 : AbcdEf\n",
    "출력 :\n",
    "AbcdE#\n",
    "Abcd##\n",
    "Abc###\n",
    "...\n",
    "######"
   ]
  },
  {
   "cell_type": "code",
   "execution_count": 67,
   "id": "c0cf3c2a-da02-45bc-8e25-7c9aff0f2c63",
   "metadata": {},
   "outputs": [
    {
     "name": "stdin",
     "output_type": "stream",
     "text": [
      "입력:  AbcdEf\n"
     ]
    },
    {
     "name": "stdout",
     "output_type": "stream",
     "text": [
      "출력: \n",
      "AbcdE#\n",
      "Abcd##\n",
      "Abc###\n",
      "Ab####\n",
      "A#####\n",
      "######\n"
     ]
    }
   ],
   "source": [
    "data = input('입력: ')\n",
    "print('출력: ')\n",
    "for i in range (len(data)) :\n",
    "    print(data[0:len(data)-(i+1)]+'#'*(i+1))"
   ]
  },
  {
   "cell_type": "markdown",
   "id": "9926ab2e-7c40-4cbe-925c-fcc0ecd31502",
   "metadata": {},
   "source": [
    "# [문제] 소문자 변환\n",
    "<pre>\n",
    "    사용자로부터 임의의 문자열을 입력받아 해당 문자열 내 모든 소문자를 \"#\"으로 변환하여 출력하는 코드를 작성하세요.\n",
    "실행예시\n",
    "입력:abCDeFg\n",
    "출력:##CD#F#\n",
    "힌트 : 문자열의 소문자 여부 판단 함수 사용, islower()\n",
    "</pre>"
   ]
  },
  {
   "cell_type": "code",
   "execution_count": 80,
   "id": "81e7fa11-5014-420b-9ad4-cf56027009c4",
   "metadata": {},
   "outputs": [
    {
     "name": "stdin",
     "output_type": "stream",
     "text": [
      "입력:  abCDeFg\n"
     ]
    },
    {
     "name": "stdout",
     "output_type": "stream",
     "text": [
      "##CD#F#\n"
     ]
    }
   ],
   "source": [
    "data = input('입력: ')\n",
    "result=''\n",
    "for s in data :\n",
    "    if s.islower() :\n",
    "        result +='#'\n",
    "    else:\n",
    "        result += s\n",
    "print (result)"
   ]
  },
  {
   "cell_type": "code",
   "execution_count": 81,
   "id": "d86297a7-8a0b-4c3d-b723-e49305f427b9",
   "metadata": {},
   "outputs": [
    {
     "name": "stdin",
     "output_type": "stream",
     "text": [
      "입력:  abCDeFg\n"
     ]
    },
    {
     "name": "stdout",
     "output_type": "stream",
     "text": [
      "출력:  ##CD#F#\n"
     ]
    }
   ],
   "source": [
    "data = input('입력: ')\n",
    "result = ['#' if s.islower() else s for s in data]\n",
    "print('출력: ', ''.join(result))"
   ]
  },
  {
   "cell_type": "markdown",
   "id": "6a57104c-cd64-4a6d-aab0-9fb4cb1f1695",
   "metadata": {},
   "source": [
    "# [문제] 문자열 검색\n",
    "사용자로부터 입력 받을 문자열의 개수를 입력 받고, 검색할 단어를 입력받은 후, 앞서 입력 받은 숫자만큼 문자열을 입력 받는다. 이후 해당 문자열에서 검색어를 포함하는 문자열을 출력하되 검색어가 존재하지 않을 경우 '검색결과 없음'을 출력하는 코드를 작성하세요.\n",
    "\n",
    "실행예시\n",
    "\n",
    "입력할 단어 개수 : 3\n",
    "검색할 단어: ab\n",
    "\n",
    "단어입력 1: abba\n",
    "단어입력 2: oppa\n",
    "단어입력 3: BCabD\n",
    "\n",
    "검색결과: \n",
    "abba\n",
    "BCabD"
   ]
  },
  {
   "cell_type": "code",
   "execution_count": 6,
   "id": "7f84b30f-2677-49cc-9422-eb227d905b9f",
   "metadata": {},
   "outputs": [
    {
     "name": "stdin",
     "output_type": "stream",
     "text": [
      "입력 문자열 갯수:  3\n",
      "검색할 문자열 abba\n",
      "단어입력 1: oppa\n",
      "단어입력 2: BCabD\n",
      "단어입력 3: abba\n"
     ]
    },
    {
     "name": "stdout",
     "output_type": "stream",
     "text": [
      "검색결과: \n",
      "abba\n"
     ]
    }
   ],
   "source": [
    "num = int(input('입력 문자열 갯수: '))\n",
    "keyword = input('검색할 문자열')\n",
    "input_strings = [ input ('단어입력 %d:'%(i+1)) for i in range(num)]\n",
    "print('검색결과: ')\n",
    "find = False #검색을 계속하고 싶을때 참이 중간에 나와도\n",
    "for s in input_strings: \n",
    "    if s.find(keyword) != -1 :\n",
    "        print(s)\n",
    "        find = True\n",
    "if not find: print('검색결과 없음') "
   ]
  },
  {
   "cell_type": "code",
   "execution_count": 4,
   "id": "369a86f8-670b-4f84-83aa-b943c5508434",
   "metadata": {},
   "outputs": [
    {
     "name": "stdin",
     "output_type": "stream",
     "text": [
      "입력 문자열 갯수:  3\n",
      "검색할 문자열 ab\n",
      "단어입력 1: abba\n",
      "단어입력 2: oppa\n",
      "단어입력 3: BCabD\n"
     ]
    },
    {
     "name": "stdout",
     "output_type": "stream",
     "text": [
      "검색결과: \n",
      "abba\n",
      "BCabD\n"
     ]
    }
   ],
   "source": [
    "num = int(input('입력 문자열 갯수: '))\n",
    "keyword = input('검색할 문자열')\n",
    "input_strings = [ input ('단어입력 %d:'%(i+1)) for i in range(num)]\n",
    "print('검색결과: ')\n",
    "find = False #검색을 계속하고 싶을때 참이 중간에 나와도\n",
    "for s in input_strings: \n",
    "    if keyword in s: \n",
    "        print(s)\n",
    "        find = True\n",
    "if not find: print('검색결과 없음') "
   ]
  },
  {
   "cell_type": "markdown",
   "id": "bfe7a043-b143-44c5-836c-3e7987ea44c6",
   "metadata": {},
   "source": [
    "[문제] 규칙에 따라 문자 변환하기\n",
    "<pre>\n",
    "    사용자로부터 임의의 문자열을 입력 받아 아래와 같은 규칙에 따라 변환한 후 출력하는 코드를 작성하세요.\n",
    "        규칙\n",
    "    A -> 4\n",
    "    E -> 3\n",
    "    G -> 6\n",
    "    I -> 1\n",
    "    O -> 0\n",
    "    S -> 5\n",
    "    Z -> 2\n",
    "        실행예시\n",
    "    입력: Ag#IZkiS\n",
    "    출력: 4g#12ki5\n",
    "</pre>"
   ]
  },
  {
   "cell_type": "code",
   "execution_count": 35,
   "id": "173e9bc1-98b9-451a-824c-cdfff33645d6",
   "metadata": {},
   "outputs": [
    {
     "name": "stdin",
     "output_type": "stream",
     "text": [
      "입력:  Ag#IZkiS\n"
     ]
    },
    {
     "name": "stdout",
     "output_type": "stream",
     "text": [
      "출력:  4g#12ki5\n"
     ]
    }
   ],
   "source": [
    "code = {'A': 4, 'E':3, 'G':6, 'I':1, 'O':0, 'S':5, 'Z':2}\n",
    "text = input('입력: ')\n",
    "result = [code.get(s,s) for s in text]\n",
    "print('출력: ', ''.join(result))"
   ]
  },
  {
   "cell_type": "markdown",
   "id": "ece139bc-c2c6-463c-8a6f-d10954360cea",
   "metadata": {},
   "source": [
    "[문제]\n",
    "<pre>\n",
    "    사용자로부터 key:value 형태로 반복해서 데이터를 입력 받는다. 이때 key는 문자열, value는 정수의 형태이며, 중복되는 key를 입력받을 경우 기존에 입력되어 있던 value에 새로 입력 받은 value를 합한다.\n",
    "    그리고 사용자가 'exit'를 입력하면 이전까지 입력받았던 모든 key와 value를 key=value형태로 출력하면서 종료하는 코드를 작성하세요.\n",
    "    실행예시\n",
    "    입력: \n",
    "    a:1\n",
    "    b:2\n",
    "    c:3\n",
    "    a:4\n",
    "    c:1\n",
    "    exit\n",
    "    출력:\n",
    "    a=5\n",
    "    b=2\n",
    "    c=4\n",
    "</pre>"
   ]
  },
  {
   "cell_type": "code",
   "execution_count": 54,
   "id": "5a645f43-2956-4081-9bd2-9d12f721a3a6",
   "metadata": {},
   "outputs": [
    {
     "name": "stdout",
     "output_type": "stream",
     "text": [
      "입력: \n"
     ]
    },
    {
     "name": "stdin",
     "output_type": "stream",
     "text": [
      " a:1\n",
      " b:2\n",
      " c:3\n",
      " exit\n"
     ]
    },
    {
     "name": "stdout",
     "output_type": "stream",
     "text": [
      "출력: \n",
      "a = 1\n",
      "b = 2\n",
      "c = 3\n"
     ]
    }
   ],
   "source": [
    "print('입력: ')\n",
    "data = dict()\n",
    "while True:\n",
    "    input_data = input()\n",
    "    if input_data == 'exit' : break\n",
    "    split_data = input_data.split(':')\n",
    "    key = split_data [0]\n",
    "    value = int(split_data [1])\n",
    "    if data.get(key) == None:\n",
    "        data[key] = value # 새로운 값을 딕셔너리에 추가하는 법\n",
    "    else :\n",
    "        data[key] += value\n",
    "print('출력: ')\n",
    "for k,v in data.items ():\n",
    "    print(k,'=',v)"
   ]
  },
  {
   "cell_type": "markdown",
   "id": "8271a62c-8df6-4050-a9ca-2187599ca496",
   "metadata": {},
   "source": [
    "[문제] 성적 처리 프로그램\n",
    "<pre>\n",
    "    사용자로부터 총 학생의 수와 합격 기준 점수를 입력 받는다. 그리고 각 학생의 성적과 결석 일수를 공백으로 구분하여 순차적으로 입력받는다.\n",
    "    결석 일수 1일당 5점씩 감점하여 최종 성적을 계산한다.\n",
    "    점수와 결석일수, 최종 성적과 합격여부를 출력한다.\n",
    "    (실행예시)\n",
    "    입력:\n",
    "    학생 수: 3\n",
    "    합격 기준 점수: 60\n",
    "\n",
    "    1번 학생 점수와 결석 일수 (\"100 0\" 형식) : 100 0\n",
    "    2번 학생 점수와 결석 일수  : 60 0\n",
    "    3번 학생 점수와 결석 일수  : 80 5\n",
    "\n",
    "    출력:\n",
    "    점수    결석    성적    합격\n",
    "    100     0        100    합격\n",
    "    60      0        60     합격\n",
    "    80      5        55     불합격\n",
    "</pre>"
   ]
  },
  {
   "cell_type": "code",
   "execution_count": 98,
   "id": "4d178574-762e-459f-a9bb-488496309bcb",
   "metadata": {},
   "outputs": [
    {
     "name": "stdout",
     "output_type": "stream",
     "text": [
      "입력: \n"
     ]
    },
    {
     "name": "stdin",
     "output_type": "stream",
     "text": [
      "학생 수:  3\n",
      "합격 기준 점수:  60\n",
      "1번 학생 점수와 결석 일수 (\"100 0\" 형식) :  100 0\n",
      "2번 학생 점수와 결석 일수 (\"100 0\" 형식) :  60 0\n",
      "3번 학생 점수와 결석 일수 (\"100 0\" 형식) :  80 5\n"
     ]
    },
    {
     "name": "stdout",
     "output_type": "stream",
     "text": [
      "출력: \n",
      "점수\t결석\t성적\t합격여부\n",
      "100\t  0\t100\t 합격\n",
      " 60\t  0\t 60\t 합격\n",
      " 80\t  5\t 55\t불합격\n"
     ]
    }
   ],
   "source": [
    "print('입력: ')\n",
    "num = int(input('학생 수: '))\n",
    "cut = int(input('합격 기준 점수: '))\n",
    "score_data = []\n",
    "for i in range (1,num+1) :\n",
    "    score_abs = input(f'{i}번 학생 점수와 결석 일수 (\"100 0\" 형식) : ')\n",
    "    score = int(score_abs.split()[0])\n",
    "    absent = int(score_abs.split()[1])\n",
    "    final_score = score - (absent*5)\n",
    "    pass_fail = '합격' if final_score >= cut else '불합격'\n",
    "    score_data.append([score, absent, final_score, pass_fail])\n",
    "\n",
    "print('출력: ')\n",
    "print('점수','결석','성적','합격여부', sep='\\t')\n",
    "for student in score_data:\n",
    "    print('%3d\\t%3d\\t%3d\\t%3s'%(student[0],student[1],student[2],student[3]))"
   ]
  },
  {
   "cell_type": "markdown",
   "id": "8385b07d-676a-4399-aa6f-c65178ab0453",
   "metadata": {},
   "source": [
    "[문제] 팩토리얼 값 구하기\n",
    "<pre>\n",
    "n! (n팩토리얼)은 1부터 n까지 존재하는 모든 자연수의 곱을 의미한다.\n",
    "사용자로부터 어떤 자연수 n을 입력받아 n!의 값을 출력하는 코드를 작성하세요.\n",
    "실행예시\n",
    "양의 정수 값 입력:\n",
    "10! = 3,628,800\n",
    "</pre>\n"
   ]
  },
  {
   "cell_type": "code",
   "execution_count": 112,
   "id": "0329a9ad-274e-42c1-a3c0-fb0bee030040",
   "metadata": {},
   "outputs": [
    {
     "name": "stdin",
     "output_type": "stream",
     "text": [
      "양의 정수 값 입력:  10\n"
     ]
    },
    {
     "name": "stdout",
     "output_type": "stream",
     "text": [
      "10!=3,628,800\n"
     ]
    }
   ],
   "source": [
    "n = int(input('양의 정수 값 입력: '))\n",
    "result = n\n",
    "for i in range (n-1, 0, -1) :\n",
    "    result *= i \n",
    "print(f'{n}!={result:,}')"
   ]
  },
  {
   "cell_type": "markdown",
   "id": "ab2a1ea9-aa33-4612-8254-62df4dafad4e",
   "metadata": {},
   "source": [
    "#[문제] 피보나치 수열 구현하기\n",
    "<pre> \n",
    "피보나치 수열은 첫째 및 둘째 항이 1이며, 그 이후의 항은 바로 앞 두항의 합으로 이루어진 수열을 말한다. 사용자로부터 어떤 정수를 입력 받아 입력받은 수보다 작거나 같은 수로만 이루어진 피보나치 수열을 출력하는 코드를 작성하세요.\n",
    "실행예시\n",
    "    입력 : 10\n",
    "    출력 : 1 1 2 3 5 8\n",
    "</pre>"
   ]
  },
  {
   "cell_type": "code",
   "execution_count": 138,
   "id": "47bd1239-af70-472f-9ab5-0bc9b2596dd9",
   "metadata": {},
   "outputs": [
    {
     "name": "stdin",
     "output_type": "stream",
     "text": [
      "입력:  15\n"
     ]
    },
    {
     "name": "stdout",
     "output_type": "stream",
     "text": [
      "출력:  1 1 2 3 5 8 13 "
     ]
    }
   ],
   "source": [
    "n = int(input ('입력: '))\n",
    "result=[1,1]\n",
    "for i in range (0,n+1) :\n",
    "    n1 = int(result[i])+int(result[i+1])\n",
    "    if n1 >= n :\n",
    "         break\n",
    "    result.append(n1)\n",
    "print('출력: ',end = ' ')\n",
    "for i in result: # 리스트 벗기는 법 [] 이 모양\n",
    "    print(i,end=' ')"
   ]
  },
  {
   "cell_type": "code",
   "execution_count": 141,
   "id": "3c4199ac-3ac3-4711-b816-7d56c0c25b54",
   "metadata": {},
   "outputs": [
    {
     "name": "stdin",
     "output_type": "stream",
     "text": [
      "입력:  10\n"
     ]
    },
    {
     "name": "stdout",
     "output_type": "stream",
     "text": [
      "[1, 1, 2, 3, 5, 8]\n"
     ]
    }
   ],
   "source": [
    "n = int(input ('입력: '))\n",
    "result = [1,1]\n",
    "while sum(result[-2:]) <= n:\n",
    "    result.append(sum(result[-2:]))\n",
    "print(result)"
   ]
  },
  {
   "cell_type": "markdown",
   "id": "2b4f2fd2-5193-4351-955b-3fe30eebc7bd",
   "metadata": {},
   "source": [
    "# [문제] 버블 정렬 알고리즘\n",
    "\n",
    "<pre>\n",
    "    버블 정렬은 리스트에서 인접한 두 원소의 크기를 비교하여 순서에 맞게 정렬하는 알고리즘을 말한다.\n",
    "    일반적으로 첫 번째 요소부터 시작해서 첫 번째 요소의 크기와 두 번째 요소의 크기를 비교하여 미리 정한 오름차순 또는 내림차순에 따라 두 요소가 순서에 맞지 않게 위치한 경우 서로 교환한다.\n",
    "    이후 두 번째 요소와 세 번째 요소 또한 같은 방식의 작업을 거치며 이와 같은 작업을 마지막 요소까지 반복해서 수행 한다.\n",
    "    [5,3,7,2,11]\n",
    "    위와 같은 요소로 이루어진 리스트를 선언하고 버블 정렬 알고리즘을 통해 오름차순으로 정렬한 후 결과를 출력하는 코드를 작성하세요.\n",
    "    </pre>"
   ]
  },
  {
   "cell_type": "code",
   "execution_count": 2,
   "id": "8837be20-5151-4baa-8aa6-6a905bafb2c1",
   "metadata": {},
   "outputs": [
    {
     "name": "stdout",
     "output_type": "stream",
     "text": [
      "정렬 전 :  [1, 2, 3, 4, 5]\n",
      "0\n",
      "정렬 후:  [1, 2, 3, 4, 5]\n"
     ]
    }
   ],
   "source": [
    "# values = [5, 3, 7, 2, 11]\n",
    "values = [1,2,3,4,5]\n",
    "print('정렬 전 : ',values)\n",
    "for n in range (len(values)) : #비교횟수\n",
    "    print(n)\n",
    "    swapped = False\n",
    "    for i in range (len(values)-1) : #  자리값\n",
    "         left = i #왼쪽 요소\n",
    "         right = i+1 #오른쪽 요소\n",
    "         if values [left] > values [right] :\n",
    "             temp = values[left]\n",
    "             values[left] = values [right]\n",
    "             values[right] = temp\n",
    "             swapped = True\n",
    "    if not swapped: break\n",
    "print('정렬 후: ', values)"
   ]
  },
  {
   "cell_type": "code",
   "execution_count": null,
   "id": "629bd66f-f7d3-4967-93a2-094417f0c2b6",
   "metadata": {},
   "outputs": [],
   "source": [
    "result=[1,1]\n",
    "for i in range (0,n+1) :\n",
    "    n1 = int(result[i])+int(result[i+1])\n",
    "    if n1 >= n :\n",
    "         break\n",
    "    result.append(n1)\n",
    "print('출력: ',end = ' ')\n",
    "for i in result: # 리스트 벗기는 법 [] 이 모양\n",
    "    print(i,end=' ')"
   ]
  },
  {
   "cell_type": "markdown",
   "id": "a1f6aa06-a453-41f0-810a-ee1b02b989de",
   "metadata": {},
   "source": [
    "\n",
    "[문제] 삽입 정렬 알고리즘\n",
    "<pre>\n",
    "    삽입 정렬은 리스트의 모든 요소를 앞에서부터 차례로 이미 정렬된 부분과 비교하여, 자신을 위치를 찾아 삽입함으로써 정렬을 완성하는 알고리즘이다. \n",
    "    [31, 25, 12, 22, 11]\n",
    "    위와 같은 요소로 이루어진 리스트를 선언하고 삽입 정렬 알고리즘을 통해 오름차순으로 정렬한 후 결과를 출력하는 코드를 작성하세요.\n",
    "</pre>\n",
    "\n"
   ]
  },
  {
   "cell_type": "code",
   "execution_count": 179,
   "id": "a15b41d8-d989-4ccc-b379-d3731221e05c",
   "metadata": {},
   "outputs": [
    {
     "name": "stdout",
     "output_type": "stream",
     "text": [
      "정렬 전:  [31, 25, 12, 22, 11]\n",
      "정렬 후:  [11, 12, 22, 25, 31]\n"
     ]
    }
   ],
   "source": [
    "values = [31, 25, 12, 22, 11]\n",
    "print('정렬 전: ', values)\n",
    "for i in range(1, len(values)):\n",
    "    key = values[i] #비교기준이 되는 값\n",
    "    j = i - 1 #비교기준 값 왼쪽에 있는 값의 인덱스\n",
    "    while j>=0 and values[j] > key: #기준 값보다 왼쪽 값이 크면\n",
    "        values [j+1] = values [j] #오른쪽으로 값 이동\n",
    "        j -= 1\n",
    "    values[j+1] = key #기준 값 삽입\n",
    "print('정렬 후: ', values)         "
   ]
  }
 ],
 "metadata": {
  "kernelspec": {
   "display_name": "Python 3 (ipykernel)",
   "language": "python",
   "name": "python3"
  },
  "language_info": {
   "codemirror_mode": {
    "name": "ipython",
    "version": 3
   },
   "file_extension": ".py",
   "mimetype": "text/x-python",
   "name": "python",
   "nbconvert_exporter": "python",
   "pygments_lexer": "ipython3",
   "version": "3.11.7"
  }
 },
 "nbformat": 4,
 "nbformat_minor": 5
}
