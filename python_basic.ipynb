{
 "cells": [
  {
   "cell_type": "markdown",
   "id": "e4f3c0e4-09f3-4eb5-bb3b-b171f7965534",
   "metadata": {},
   "source": [
    "# 주석문"
   ]
  },
  {
   "cell_type": "markdown",
   "id": "2ff2ac4e-ae95-4f2f-957e-22c2fc058592",
   "metadata": {},
   "source": [
    "- **주석**은 코드의 실행과 무관한 문장을 기록하기 위한 기능이다."
   ]
  },
  {
   "cell_type": "code",
   "execution_count": null,
   "id": "6d32603e-27a7-4c6a-a8f4-3f360ea19c0f",
   "metadata": {},
   "outputs": [],
   "source": [
    "# 변수선언\n",
    "a=10\n",
    "print(a)"
   ]
  },
  {
   "cell_type": "markdown",
   "id": "657ba2ae-168d-4c1c-8bc7-dbe6e210ba3b",
   "metadata": {},
   "source": [
    "# Mark Down 실습"
   ]
  },
  {
   "cell_type": "markdown",
   "id": "94771478-9af8-40ca-ba94-644a3f4a5937",
   "metadata": {},
   "source": [
    "## 블록 인용문"
   ]
  },
  {
   "cell_type": "markdown",
   "id": "ac1d9ad0-de0b-4c3e-a261-fa8e3c888e6e",
   "metadata": {},
   "source": [
    "- 블록 인용문 실습\n",
    "> 첫 번째 블록 인용문\n",
    ">> 두 번째 블록 인용문"
   ]
  },
  {
   "cell_type": "markdown",
   "id": "cc0bd94b-94a1-4260-9f1e-40889de4f31b",
   "metadata": {},
   "source": [
    "## 순서 있는 목록\n",
    "- 숫자와 마침표 사용"
   ]
  },
  {
   "cell_type": "markdown",
   "id": "83e6136f-1b47-4e42-abbb-399bbb0367bf",
   "metadata": {},
   "source": [
    "1. 첫 번째 목록\n",
    "2. 두 번째 목록"
   ]
  },
  {
   "cell_type": "markdown",
   "id": "6ad00685-0848-4cd1-907a-2ce33286efa4",
   "metadata": {},
   "source": [
    "## 줄바꿈\n",
    "- \\<br\\> 태그 또는 공백 두 칸 다음에 엔터"
   ]
  },
  {
   "cell_type": "markdown",
   "id": "8e6357a9-763c-4e6d-bf90-deaa9120184e",
   "metadata": {},
   "source": [
    "문장 1  \n",
    "문장 2"
   ]
  },
  {
   "cell_type": "markdown",
   "id": "6db0ea85-767d-47f3-92d8-88f2f2a1a9bb",
   "metadata": {},
   "source": [
    "## 기울여 쓰기\n",
    "- '*', '_' 로 감싼 텍스트"
   ]
  },
  {
   "cell_type": "markdown",
   "id": "2f2d1756-3ffe-4fdf-9d71-e8cb7fdb9ab7",
   "metadata": {},
   "source": [
    "- 문장 _기울여_ 쓰기"
   ]
  },
  {
   "cell_type": "markdown",
   "id": "7922e789-2889-4c61-b247-ccf5ccb5490b",
   "metadata": {},
   "source": [
    "## 취소선\n",
    "- '~~'로 감싼 텍스트"
   ]
  },
  {
   "cell_type": "markdown",
   "id": "84d8cd5a-d077-481b-a95f-f4192fb334d6",
   "metadata": {},
   "source": [
    "- ~~취소 문장~~"
   ]
  },
  {
   "cell_type": "markdown",
   "id": "7f8bad14-efd7-4661-bc3a-dc2e5abf1628",
   "metadata": {},
   "source": [
    "## 글상자\n",
    "- '`'로 감싼 텍스트\n",
    "- `글상자 테스트`"
   ]
  },
  {
   "cell_type": "markdown",
   "id": "2c3c0eaf-1e5b-4b21-b11c-535f8c2522e6",
   "metadata": {},
   "source": [
    "## 링크\n",
    "- 사이트 및 이메일 링크, \\[제목](주소)"
   ]
  },
  {
   "cell_type": "markdown",
   "id": "058bcd14-0a27-411d-bf3a-03d7ab98343a",
   "metadata": {},
   "source": [
    "[네이버](https://www.naver.com)"
   ]
  },
  {
   "cell_type": "markdown",
   "id": "8f491c05-db9e-4c8e-b23c-e10c879a3002",
   "metadata": {},
   "source": [
    "## 내부 링크\n",
    "- 내부 헤더로 이동하는 링크\n",
    "- \\[제목](#이동할 헤더 제목)\n",
    "- 제목에 띄어쓰기가 있는 경우 '-'로 연결"
   ]
  },
  {
   "cell_type": "markdown",
   "id": "908ffec3-f520-43fb-b188-536a3b1954cf",
   "metadata": {},
   "source": [
    "[마크다운 실습](#Mark-Down-실습)"
   ]
  },
  {
   "cell_type": "markdown",
   "id": "26d402e7-fddf-4709-8785-7a6bc278b1b4",
   "metadata": {},
   "source": [
    "## 이미지 삽입\n",
    "- \\![제목](파일이름 또는 웹 주소)"
   ]
  },
  {
   "cell_type": "markdown",
   "id": "958cbbc5-7461-4bba-9028-95b721ddbd74",
   "metadata": {},
   "source": [
    "![파이썬 로고](python.jpg)"
   ]
  },
  {
   "cell_type": "markdown",
   "id": "96faf0b7-dd8d-409e-b91a-2463e0911063",
   "metadata": {},
   "source": [
    "<img src= 'python.jpg' width='100px' height='120px'>"
   ]
  },
  {
   "cell_type": "markdown",
   "id": "087de867-04ff-4d71-950e-5959f42c4294",
   "metadata": {},
   "source": [
    "## 코드 삽입\n",
    "- \\```코드이름``` 사이에 코드 블록 삽입\n",
    "- 코드이름 : python, html, javascript, java...\n",
    "- 파이썬 코드 삽입\n",
    "```python\n",
    "import time\n",
    "print('hello')```"
   ]
  },
  {
   "cell_type": "markdown",
   "id": "eb1d3890-1f43-4915-9b2a-647cb611d6dd",
   "metadata": {},
   "source": [
    "##  표\n",
    "- 헤더 셀을 구분할 때 3개 이상의 ---기호 사용\n",
    "- 콜론(:)으로 정렬 방식을 지정"
   ]
  },
  {
   "cell_type": "markdown",
   "id": "d0c6d3ae-c2be-4fc6-b464-77d7783af070",
   "metadata": {},
   "source": [
    "|Type-A|Predict|Type-B|\n",
    "|---:|:---|:---:|\n",
    "|kind|Positive|Negative|\n",
    "||10|20\n",
    "|Negative|10|20"
   ]
  },
  {
   "cell_type": "markdown",
   "id": "d229af2d-53c7-49f9-ac66-0ad6f3ae05ff",
   "metadata": {},
   "source": [
    "# 연산자와 데이터"
   ]
  },
  {
   "cell_type": "code",
   "execution_count": null,
   "id": "e7d1b408-56e5-4ca4-9d9f-78bc70084e7e",
   "metadata": {},
   "outputs": [],
   "source": [
    "## 산술 연산자\n",
    "\n",
    "a = 10\n",
    "b = 35\n",
    "\n",
    "print (a+b)\n",
    "print (a-b)\n",
    "print (a*b)\n",
    "print (a/b)\n",
    "print (a//b)\n",
    "print (b//a)"
   ]
  },
  {
   "cell_type": "code",
   "execution_count": null,
   "id": "a9f7cbf4-57ec-478e-b90a-82a73a1ca245",
   "metadata": {},
   "outputs": [],
   "source": [
    "# + 더하기 연산자 오버로딩 : 문자  결합, 단 숫자와 문자열 결합은 불가\n",
    "c = '사과'\n",
    "d = 10\n",
    "print (c+str(d)) #std: d 변수의 데이터 타입을 문자열로 변환"
   ]
  },
  {
   "cell_type": "code",
   "execution_count": null,
   "id": "35c94277-3bad-483e-adec-a76442ee59eb",
   "metadata": {},
   "outputs": [],
   "source": [
    "# * 연산자 오버로딩 : 문자열 반복\n",
    "e = '하'\n",
    "print(e*5)"
   ]
  },
  {
   "cell_type": "code",
   "execution_count": null,
   "id": "c3b86b3d-ed2e-4bc4-8a56-a418615ead1e",
   "metadata": {},
   "outputs": [],
   "source": [
    "# 나머지 연산자 (mod) : %\n",
    "f = 25.5\n",
    "g = 3\n",
    "print(f % g)"
   ]
  },
  {
   "cell_type": "code",
   "execution_count": null,
   "id": "cc5e846e-5819-4236-8965-2a36cd12a66a",
   "metadata": {},
   "outputs": [],
   "source": [
    "# 거듭제곱 연산자: **\n",
    "print(g ** 2)"
   ]
  },
  {
   "cell_type": "code",
   "execution_count": null,
   "id": "8d09ef31-73a6-4bcf-9098-f3f01a07b1fe",
   "metadata": {},
   "outputs": [],
   "source": [
    "# 논리 연산자\n",
    "\n",
    "x = 1 #True\n",
    "y = 0 #False\n",
    "print(x and y)\n",
    "print (x or y)"
   ]
  },
  {
   "cell_type": "code",
   "execution_count": null,
   "id": "1c881f79-e76a-467c-ac83-7fe293c8b023",
   "metadata": {},
   "outputs": [],
   "source": [
    "a = 10\n",
    "b = 20\n",
    "print(a,b)\n",
    "print(a,b, sep=',') # sep 하나의 프린트 함수에 여러 값을 출력할 때 사용할 구분 문자열\n",
    "print(a, end=' ') # end 값을 출력 후 끝에 출력할 문자열 기본값은 '\\n' newline\n",
    "print(b)"
   ]
  },
  {
   "cell_type": "markdown",
   "id": "4fa15dee-f07b-45f8-8bb4-686c0036831d",
   "metadata": {},
   "source": [
    "[문제] A 회사의 주가가 56,000원이고 B 회사의 주가가 125,000원이라고 할 때, 어떤 사람이 A 주식 100주와 B 주식 35주를 가지고 있다면 그 사람이 가지고 있는 주식의 총액을 계산하는 코드를 변수 선언 및 연산자를 사용하여 작성하시오."
   ]
  },
  {
   "cell_type": "code",
   "execution_count": null,
   "id": "d08c2c0a-3bfe-4d9f-8710-e89c54cbb832",
   "metadata": {},
   "outputs": [],
   "source": [
    "A = 56000\n",
    "B = 125000\n",
    "TOTAL_MONEY = (A * 100) + (B * 35)\n",
    "print ('총 주식액: ', TOTAL_MONEY)\n",
    "print(F'총 주식액: {TOTAL_MONEY:,}')"
   ]
  },
  {
   "cell_type": "markdown",
   "id": "ceabcca5-1f0f-422b-b705-c445055d72bd",
   "metadata": {},
   "source": [
    "[문제] 화씨 온도(F)를 섭씨 온도(C)로 변환하는 다음 공식을 이용하여 화씨온도가 50일때 섭씨온도를 계산하시오.\n",
    "- C = (F - 32) / 1.8"
   ]
  },
  {
   "cell_type": "code",
   "execution_count": null,
   "id": "c760ed67-ba98-47f7-810c-5a94b0fac3ab",
   "metadata": {},
   "outputs": [],
   "source": [
    "F = 50\n",
    "C = (F - 32) / 1.8\n",
    "print(F'화씨 온도가 {F}F 일 때 섭씨 온도는 {C}C 이다.')"
   ]
  },
  {
   "cell_type": "markdown",
   "id": "4d5da697-929f-45ea-bdaa-f6e5fa6387ca",
   "metadata": {},
   "source": [
    "# 표준 입출력"
   ]
  },
  {
   "cell_type": "code",
   "execution_count": null,
   "id": "9a8982fb-41c4-4cb6-9446-cd4fdf30f925",
   "metadata": {},
   "outputs": [],
   "source": [
    "a = int(input('밑변의 길이 입력: '))\n",
    "b = int(input('높이의 길이 입력: '))\n",
    "c = a*b\n",
    "print(F'밑변의 길이가 {a}이고, 높이가 {b}인 사각형의 넓이:{c}')"
   ]
  },
  {
   "cell_type": "markdown",
   "id": "2fc75781-9234-469a-8891-a8513ed9ec49",
   "metadata": {},
   "source": [
    "# 제어문"
   ]
  },
  {
   "cell_type": "code",
   "execution_count": null,
   "id": "d39af1b1-c79b-4bac-a0a7-1042e1bc8c11",
   "metadata": {},
   "outputs": [],
   "source": [
    "score = float(input('점수 입력: '))\n",
    "\n",
    "if score >= 90 :\n",
    "    print('합격')\n",
    "elif 70 <= score <= 90 :\n",
    "    print('재시험')\n",
    "else:\n",
    "    print('탈락')"
   ]
  },
  {
   "cell_type": "code",
   "execution_count": null,
   "id": "39cf8ac6-eee5-48fc-9014-00a8bab75435",
   "metadata": {},
   "outputs": [],
   "source": [
    "notEmptyString = 'test'\n",
    "\n",
    "if notEmptyString:\n",
    "    print('문자열이 비어있지 않습니다.')\n",
    "else:\n",
    "    print('문자열이 비어있습니다.')"
   ]
  },
  {
   "cell_type": "code",
   "execution_count": null,
   "id": "7a6e3f56-f3f1-4fa5-8470-b5dbc87f0810",
   "metadata": {},
   "outputs": [],
   "source": [
    "i = 21\n",
    "\n",
    "if not i % 2 == 0:\n",
    "    print('짝수')\n",
    "else:\n",
    "    print('홀수')"
   ]
  },
  {
   "cell_type": "markdown",
   "id": "0a6e8966-f96c-49e3-9c24-fce4903799ce",
   "metadata": {},
   "source": [
    "[문제] 정수 하나를 입력받아 5의 배수인지를 조사하여 그 결과를 출력하시오."
   ]
  },
  {
   "cell_type": "code",
   "execution_count": null,
   "id": "50f68216-c3b0-412f-bf6a-765b767b53c0",
   "metadata": {},
   "outputs": [],
   "source": [
    "i = int(input('정수 하나를 입력하시오: '))\n",
    "if i % 5 == 0 :\n",
    "    print ('5의 배수입니당')\n",
    "else : \n",
    "    print ('5의 배수 아닙니당')"
   ]
  },
  {
   "cell_type": "markdown",
   "id": "ab9b66ca-1d86-4303-9ff2-d15ab7451c91",
   "metadata": {},
   "source": [
    "[문제] 화폐단위 계산\n",
    "사용자로부터 금액을 입력받아 화폐의 단위별 개수를 출력하는 프로그램을 작성하시오.\n",
    "조건) 화폐의 종류 : 만원, 천원, 백원, 십원 (일원단위 절삭)\n",
    "<실행 예>\n",
    "금액을 입력하세요 : 45638\n",
    "만원 : 4개\n",
    "천원 : 5개\n",
    "백원 : 6개 \n",
    "십원 : 3개 "
   ]
  },
  {
   "cell_type": "code",
   "execution_count": null,
   "id": "b7282840-efa5-497c-9dff-59d025d69853",
   "metadata": {},
   "outputs": [],
   "source": [
    "coin = int(input('금액을 입력하세요: '))\n",
    "A = coin//10000\n",
    "B = coin//1000%10\n",
    "C = coin//100%10\n",
    "D = coin//10%10\n",
    "print(f'만원 : {A} 개')\n",
    "print(f'천원 : {B} 개')\n",
    "print(f'백원 : {C} 개')\n",
    "print(f'십원 : {D} 개')"
   ]
  },
  {
   "cell_type": "markdown",
   "id": "792423d5-e0ea-4fd7-9b6b-e36ad432d60b",
   "metadata": {},
   "source": [
    "money = int(input('금액을 입력하세요: '))\n",
    "만원 = money // 10000\n",
    "천원 = (money % 10000)//1000 #(money - 만원*10000) // 1000\n",
    "백원 = (money % 1000)//100\n",
    "십원 = (money % 100)//10\n",
    "print(f'만원 : {만원} 개')\n",
    "print(f'천원 : {천원} 개')\n",
    "print(f'백원 : {백원} 개')\n",
    "print(f'십원 : {십원} 개')"
   ]
  },
  {
   "cell_type": "markdown",
   "id": "5334340f-1054-4103-af57-085541a21948",
   "metadata": {},
   "source": [
    "## 삼항 연산자\n",
    "- 결과값 변수 = 참인 경우 선택될 값 if 조건식 else 거짓인 경우 선택될 값"
   ]
  },
  {
   "cell_type": "code",
   "execution_count": null,
   "id": "5230b836-a338-4180-8650-74ae8ec39c3a",
   "metadata": {},
   "outputs": [],
   "source": [
    "a = 10\n",
    "b = 20\n",
    "result = 'a와 b는 같지않다' if a!= b else 'a와 b는 같다'\n",
    "print(result)"
   ]
  },
  {
   "cell_type": "markdown",
   "id": "62f2d1f4-b92a-4736-a678-c1b76c352474",
   "metadata": {},
   "source": [
    "[문제] 대도시 판단 여부\n",
    "[판단조건] \n",
    "수도이면서 인구가 100만 이상인 도시\n",
    "또는 , 부자가 200만 이상인 도시\n",
    "[실행예시]\n",
    "수도입니까? (수도:1, 수도아님:0) 1\n",
    "인구(단위:만) 150\n",
    "부자의 수(단위:만) 50\n",
    "대도시 여부 : True\n",
    "수도입니까? (수도:1, 수도아님:0) 1\n",
    "인구(단위:만) 90\n",
    "부자의 수(단위:만) 210\n",
    "대도시 여부 : True\n",
    "\n",
    "** 삼항연산자 이용"
   ]
  },
  {
   "cell_type": "code",
   "execution_count": null,
   "id": "7a9595d9-08d9-43cf-8b9c-76cd4cf64189",
   "metadata": {},
   "outputs": [],
   "source": [
    "A = int(input('수도입니까? 수도이면 1, 수도가 아니면 0을 입력해주세요.'))\n",
    "B = int(input('인구(단위:만)으로 입력해주세요.'))\n",
    "C = int(input('부자의 수 (단위:만)으로 입력해주세요.'))\n",
    "result = True if A and (B >= 100 or C >= 200) else 'False'\n",
    "print(f'대도시 여부 : {result} ')"
   ]
  },
  {
   "cell_type": "code",
   "execution_count": null,
   "id": "34f2e973-4185-409e-9c9a-2efe6618f177",
   "metadata": {},
   "outputs": [],
   "source": [
    "isCapital = input('수도입니까?(수도 : 1, 수도아님 : 0)')\n",
    "citizens = int(input('인구(단위:만)'))\n",
    "riches = int(input('부자의 수(단위:만)'))\n",
    "result = True if (isCapital == '1' and citizens >= 100) or riches >= 200 else False\n",
    "print('대도시여부: ', result)"
   ]
  },
  {
   "cell_type": "markdown",
   "id": "61b7543c-120e-48d1-b3d5-af0820b9f774",
   "metadata": {},
   "source": [
    "[문제] 시간제 임금 계산\n",
    "근무한 시간을 입력받아 다음과 같은 규칙에 맞게 임금을 계산하시오.\n",
    "- 8시간까지는 시간당 9,900원이고 8시간 초과분에 대해서는 1.5배를 지급한다.\n",
    "[실행예시]\n",
    "근무시간을 입력하세요: 25\n",
    "임금은 331,650원 입니다. if 문을 이용하시오"
   ]
  },
  {
   "cell_type": "code",
   "execution_count": null,
   "id": "214588e3-6fff-412e-91fd-23d3ddcf2800",
   "metadata": {},
   "outputs": [],
   "source": [
    "worktime = int(input('근무시간을 입력하세요: '))\n",
    "if worktime <= 8 :\n",
    "    print('임금은', worktime * 9900, '원 입니다.')\n",
    "else :\n",
    "    result = ((9900*8) + ((worktime-8)*(9900*1.5)))\n",
    "print(f'임금은 {result:,.0f}원 입니다')"
   ]
  },
  {
   "cell_type": "code",
   "execution_count": null,
   "id": "e9f23ca1-22a3-440e-8a58-53bdf505e614",
   "metadata": {},
   "outputs": [],
   "source": [
    "base_pay = 9900\n",
    "hour = int(input('근무시간을 입력하세요: '))\n",
    "pay = 0 # 최종임금을 저장할 변수\n",
    "if hour > 8:\n",
    "    pay = 8 * base_pay + (hour-8)* base_pay * 1.5\n",
    "else :\n",
    "    pay = hour * base_pay\n",
    "print(f'임금은 {pay:,.0f}원 입니다.')"
   ]
  },
  {
   "cell_type": "markdown",
   "id": "415a72bd-c346-46f7-a4c6-1c125a3c3255",
   "metadata": {},
   "source": [
    "# 반복문"
   ]
  },
  {
   "cell_type": "code",
   "execution_count": null,
   "id": "e4cadf7a-b31d-4e27-a0d5-21efbc23ac39",
   "metadata": {},
   "outputs": [],
   "source": [
    " c = 1\n",
    "while c <= 5:\n",
    "    print(c, end=' ')\n",
    "    c += 1\n",
    "print('End')"
   ]
  },
  {
   "cell_type": "code",
   "execution_count": null,
   "id": "92d4750f-7ed4-4504-86c4-334ff7ed0d55",
   "metadata": {},
   "outputs": [],
   "source": [
    "sum = 0\n",
    "for i in range (1, 11):\n",
    "    sum += i # sum = sum + i\n",
    "print(sum)"
   ]
  },
  {
   "cell_type": "code",
   "execution_count": null,
   "id": "f6a6ab06-9303-4729-a43d-157c487e0a68",
   "metadata": {},
   "outputs": [],
   "source": [
    "while True: #무한반복\n",
    "    s = input('영어 단어를 입력하세요(종료:q) ')\n",
    "    if s == 'q': break \n",
    "    print(s.upper())\n",
    "print('End')"
   ]
  },
  {
   "cell_type": "markdown",
   "id": "cf08ab4d-c12d-4f91-ae62-d125bf2a8eeb",
   "metadata": {},
   "source": [
    "[문제] 1~100 사이의 값 중 짝수에 해당하는 값의 총 합을 구하는 프로그램을 작성하세요."
   ]
  },
  {
   "cell_type": "code",
   "execution_count": null,
   "id": "9888689f-a702-47a8-8e0c-c15ea2cc7d37",
   "metadata": {},
   "outputs": [],
   "source": [
    "sum = 0\n",
    "for i in range(1,101):\n",
    "    if i % 2 == 0 :\n",
    "        sum += i\n",
    "    else :\n",
    "        continue\n",
    "print(sum)"
   ]
  },
  {
   "cell_type": "code",
   "execution_count": null,
   "id": "9421bd82-9aa6-4c73-ab2d-d94074c3763a",
   "metadata": {},
   "outputs": [],
   "source": [
    "sum = 0\n",
    "for i in range (1, 101):\n",
    "    if i % 2 !=0: continue\n",
    "    sum += i\n",
    "print(sum)"
   ]
  },
  {
   "cell_type": "code",
   "execution_count": null,
   "id": "c6c29738-bd54-4c2f-aeff-d5fa5080885a",
   "metadata": {},
   "outputs": [],
   "source": [
    "#파이썬에서 문자열은 집합형 데이터(리스트)로 관리한다.\n",
    "for s in 'abcdef':\n",
    "    print(s, end=',')\n",
    "print('\\b')"
   ]
  },
  {
   "cell_type": "code",
   "execution_count": null,
   "id": "3d39ebb5-ca2d-4c42-bdd9-db71cb2c604c",
   "metadata": {},
   "outputs": [],
   "source": [
    "a = [1,2,3,4] #a는 list 객체\n",
    "result = []\n",
    "for i in a:\n",
    "    result.append(i*3) #append()는 리스트 객체에 값을 추가하는 함수\n",
    "print(result)"
   ]
  },
  {
   "cell_type": "code",
   "execution_count": null,
   "id": "3299c377-ab2d-4719-929f-d94ec8eb1475",
   "metadata": {},
   "outputs": [],
   "source": [
    "1# list comprehension\n",
    "result = [ i*3 for i in a]\n",
    "print(result)"
   ]
  },
  {
   "cell_type": "code",
   "execution_count": null,
   "id": "b6aacfe1-05e1-4dc8-9f57-4e2856df5e70",
   "metadata": {},
   "outputs": [],
   "source": [
    "# list comprehension with if\n",
    "result = [i*3 for i in a if not i%2]\n",
    "print(result)"
   ]
  },
  {
   "cell_type": "code",
   "execution_count": null,
   "id": "54c60c98-0887-4683-9359-a50618546779",
   "metadata": {},
   "outputs": [],
   "source": [
    "# a 원소 중 짝수는 3배수 하고 홀수는 원래의 값을 갖는 리스트를 생성\n",
    "result = [ i*3 if not i%2 else i for i in a ]\n",
    "print(result)"
   ]
  },
  {
   "cell_type": "code",
   "execution_count": null,
   "id": "5fe17ba7-b7f8-4464-a9d8-0f8c51a578be",
   "metadata": {},
   "outputs": [],
   "source": [
    "for i in range(5):\n",
    "    for j in range (5):\n",
    "        print(f'i={i},j={j}')"
   ]
  },
  {
   "cell_type": "markdown",
   "id": "36560654-81e8-4dd4-8a7d-a959059f306c",
   "metadata": {},
   "source": [
    "## for ~ else 문\n",
    "- while ~ else / for ~ else: 반복문이 break 등으로 중간에 빠져나오지 않고 끝까지 실행 됐을 경우 else문이 실행된다."
   ]
  },
  {
   "cell_type": "code",
   "execution_count": null,
   "id": "beb267e3-3b1e-4dc2-a3fa-f08f6d2443d0",
   "metadata": {},
   "outputs": [],
   "source": [
    "word_list = ['java', 'python', 'c++', 'pascal']\n",
    "key_word = input('검색 단어를 입력하세요: ')\n",
    "for word in word_list: \n",
    "    if word == key_word:\n",
    "        print('검색 결과: ', word)\n",
    "        break\n",
    "else: print('검색 결과가 없습니다.')"
   ]
  },
  {
   "cell_type": "markdown",
   "id": "ab5785da-ad1a-48da-99c0-6f2481fd4daa",
   "metadata": {},
   "source": [
    "[문제] for문과 문자열 반복을 이용하여 다음 문자열을 출력하세요.\n",
    "---------+---------+---------+---------+---------+"
   ]
  },
  {
   "cell_type": "code",
   "execution_count": null,
   "id": "af209dcd-8a73-40b5-a0d8-dc3f2657cfaa",
   "metadata": {},
   "outputs": [],
   "source": [
    "for i in range(6):\n",
    "        sum*=i\n",
    "print('---------+'*i, end='')"
   ]
  },
  {
   "cell_type": "code",
   "execution_count": null,
   "id": "041e6fa7-c890-42d5-980f-57f4e1f42497",
   "metadata": {},
   "outputs": [],
   "source": [
    "for i in range (5):\n",
    "    print('-'* 9, end ='')\n",
    "    print('+', end ='')"
   ]
  },
  {
   "cell_type": "code",
   "execution_count": null,
   "id": "cfef2e87-8d55-411d-a93c-530404154a70",
   "metadata": {},
   "outputs": [],
   "source": [
    "for i in range(5):\n",
    "    for j in range(9):\n",
    "        print('-', end='')\n",
    "    print('+', end='')"
   ]
  },
  {
   "cell_type": "code",
   "execution_count": null,
   "id": "88bcff12-a7df-4b37-9cab-6fe4341ab006",
   "metadata": {},
   "outputs": [],
   "source": [
    "[문제] 사용자로부터 입력받은 단의 구구단을 출력하는 프로그램을 작성하세요.\n",
    "[실행예시]\n",
    "단을 입력하세요: 3\n",
    "3 x 1 = 3 ... (아래로) 3 x 9 = 27"
   ]
  },
  {
   "cell_type": "code",
   "execution_count": null,
   "id": "84504919-fc3c-4e57-a589-b82c7ab586b9",
   "metadata": {},
   "outputs": [],
   "source": [
    "a = int(input(\"단을 입력하세요: \"))\n",
    "for i in range (9):\n",
    "    print( a, end=' x ')\n",
    "    print (i+1, end=' = ')\n",
    "    print(a*(i+1))"
   ]
  },
  {
   "cell_type": "code",
   "execution_count": null,
   "id": "35434e33-39be-4cac-b773-0b2691e80e6b",
   "metadata": {},
   "outputs": [],
   "source": [
    "dan = int(input('단을 입력하세요: '))\n",
    "for i in range (1, 10):\n",
    "    # print(dan, 'x', i, '=', dan*i)\n",
    "    print(f'{dan} x {i} = {dan*i:<2d}')"
   ]
  },
  {
   "cell_type": "markdown",
   "id": "4268b866-3c9f-4689-a10a-e17a2fb1498b",
   "metadata": {},
   "source": [
    "[문제] 합계 구하기\n",
    "정수를 입력받아 1부터 입력받은 정수까지의 합을 구하여 출력하는 프로그램을 작성하세요.\n",
    "단, 반복문은 while을 이용할 것"
   ]
  },
  {
   "cell_type": "code",
   "execution_count": null,
   "id": "302ec06c-e204-4a2f-bb9f-decd210f316f",
   "metadata": {},
   "outputs": [],
   "source": [
    "num = int(input('정수입력: '))\n",
    "sum = 0 #전체 합계를 저장\n",
    "cnt = 0 #반복 횟수\n",
    "while cnt < num \n",
    "    cnt += 1\n",
    "    sum += cnt\n",
    "print(f'1 ~ {num}까지의 합 : {sum}')"
   ]
  },
  {
   "cell_type": "markdown",
   "id": "3137f538-e4c3-421c-983f-435a6beed8dc",
   "metadata": {},
   "source": [
    "[문제] 연도를 입력받아 윤년인지 평년인지를 판단하는 프로그램을 작성하세요.\n",
    "프로그램은 반복적으로 수행되며 0을 입력 받으면 프로그램을 종료한다.\n",
    "윤년조건 : 4로 나누어 떨어지고, 100으로 나누어 떨어지지 않는 해 또는 400으로 나누어 떨어지는 해\n",
    "[실행예시]\n",
    "연도를 입력하세요 (종료:0) 2023\n",
    "2023년은 평년입니다. \n",
    "연도를 입력하세요 (종료:0) 2024\n",
    "2024년은 윤년입니다. \n",
    "연도를 입력하세요 (종료:0) 0\n",
    "End"
   ]
  },
  {
   "cell_type": "code",
   "execution_count": null,
   "id": "4fb1a9b0-d9a7-4a03-868e-f688fe7a8e58",
   "metadata": {},
   "outputs": [],
   "source": [
    "while True:\n",
    "    \n",
    "    year = int(input('연도를 입력하세요.(종료: 0): '))\n",
    "    \n",
    "    if year == 0 : \n",
    "        print('End')\n",
    "        break \n",
    "\n",
    "    elif ((year % 4 == 0 and year % 4 != 100) or (year % 400 == 0)) :\n",
    "        print(f'{year} 년은 윤년입니다.')\n",
    "    else :\n",
    "        print(f'{year} 년은 평년입니다.')"
   ]
  },
  {
   "cell_type": "code",
   "execution_count": null,
   "id": "7d74f585-cbde-4c36-a978-da2bc4e40a8a",
   "metadata": {},
   "outputs": [],
   "source": [
    "while True:\n",
    "    year = int(input('연도를 입력하세요(종료:0) '))\n",
    "    if year == 0 : break\n",
    "    result = '윤년' if (year%4==0 and year%100 != 0) or (year%400 == 0) else '평년'\n",
    "    print(f'{year}년은 {result}입니다.')\n",
    "print('End')"
   ]
  },
  {
   "cell_type": "markdown",
   "id": "ac033b9c-ea74-4840-858f-d4132fbd8087",
   "metadata": {},
   "source": [
    "[문제] BMI 측정 프로그램\n",
    "키와 몸무게를 입력받아 BMI 측정 결과를 출력하는 프로그램을 작성하세요.\n",
    "[BMI 계산식]\n",
    "BMI = 몸무게(kg) / 키 (m)의 제곱\n",
    "** BMI 비만도 판단 결과 지표\n",
    "18.5미만 : 저체중\n",
    "18.5 ~ 22.9 : 정상체중\n",
    "23 ~ 29.9: 비만 1단계\n",
    "29.9 초과 : 비만 2단계\n",
    "[실행예시]\n",
    "키를 입력하세요 (CM) : 170\n",
    "몸무게를 입력하세요 (KG) : 85\n",
    "당신의 BMI는 비만 1단계 입니다."
   ]
  },
  {
   "cell_type": "code",
   "execution_count": null,
   "id": "599fd2ac-41f0-49a5-862e-e278d56d28aa",
   "metadata": {},
   "outputs": [],
   "source": [
    "Height = float(input('키를 입력하세요 (cm): '))\n",
    "Weight = float(input('몸무게를 입력하세요 (kg): '))\n",
    "BMI = float (Weight / ((Height/100) **2))\n",
    "if BMI > 29.9 :\n",
    "    print('당신의 BMI는 비만 2단계 입니다.')\n",
    "elif 23 <= BMI <= 29.9 :\n",
    "    print('당신의 BMI는 비만 1단계 입니다.')\n",
    "elif 18.5 <= BMI <=22.9 :\n",
    "    print('당신의 BMI는 정상체중 입니다.')\n",
    "else :\n",
    "    print('당신의 BMI는 저체중 입니다.')"
   ]
  },
  {
   "cell_type": "markdown",
   "id": "507df521-1092-4c05-b5b5-ecb5a3b61e4a",
   "metadata": {},
   "source": [
    "# 문자열 처리"
   ]
  },
  {
   "cell_type": "code",
   "execution_count": null,
   "id": "e5964b3a-73ac-4700-9965-9fa3a2e7135f",
   "metadata": {},
   "outputs": [],
   "source": [
    "mystr = '학교종이 땡땡땡'\n",
    "print(mystr[0])\n",
    "print(mystr[-1])\n",
    "# mystr[1] = '원'\n",
    "for s in mystr:\n",
    "    print(s)"
   ]
  },
  {
   "cell_type": "raw",
   "id": "aac9eb5c-e7cd-4d05-b0f0-37a269a890a1",
   "metadata": {},
   "source": [
    "mystr='''동해물과 백두산이 마르고 닳도록\n",
    "하느님이 보우하사 우리나라 만세\n",
    "무궁화 삼천리 화려 강산\n",
    "대한 사람 대한으로 길이 보전하세'''\n",
    "print(mystr)"
   ]
  },
  {
   "cell_type": "code",
   "execution_count": null,
   "id": "ea642d46-b0f6-462c-a3ad-d7169981d9f7",
   "metadata": {},
   "outputs": [],
   "source": [
    "hello =  '나는 \"안녕하세요\"라고 인사합니다.'\n",
    "print(hello)\n",
    "hello2 = \"나는 \\\"안녕하세요\\\"라고 인사합니다.\"\n",
    "print(hello2)\n",
    "print(\"철수\\t영희\")"
   ]
  },
  {
   "cell_type": "code",
   "execution_count": null,
   "id": "5e3198cc-14f6-4739-b1de-d423bb4edade",
   "metadata": {},
   "outputs": [],
   "source": [
    "[문제] 파일이름 슬라이싱\n",
    "- 파일이름 : \"20240315-163750.jpg\"\n",
    "[출력결과]\n",
    "촬영 날짜 : 2024년 03월 15일 \n",
    "촬영 시간 : 16시 37분\n",
    "확장자: jpg"
   ]
  },
  {
   "cell_type": "code",
   "execution_count": null,
   "id": "f252a4b9-cb0b-40b2-9b55-1ce75d7473dd",
   "metadata": {},
   "outputs": [],
   "source": [
    "mystr = '20240315-163750.jpg'\n",
    "date = mystr[0:4]\n",
    "month = mystr[5:6]\n",
    "day = mystr [6:8]\n",
    "print(f'촬영 날짜 : {date}년 {month}월 {day}일')"
   ]
  },
  {
   "cell_type": "code",
   "execution_count": null,
   "id": "dd0c2877-1024-431d-a3f0-3bdcdb073985",
   "metadata": {},
   "outputs": [],
   "source": [
    "file = \"20240315-163750.jpg\"\n",
    "print(f'촬영 날짜: {file[:4]}년 {file[4:6]}월 {file[6:8]}일')\n",
    "print(f'촬영 시간: {file[9:11]}시 {file[11:13]}분')\n",
    "# print(f'확장자: {file[-3:]}')\n",
    "print(f'확장자: {file[file.find(\".\")+1:]}')"
   ]
  },
  {
   "cell_type": "code",
   "execution_count": null,
   "id": "5d8e6f9b-b5a1-4711-b6d2-d5a27e173913",
   "metadata": {},
   "outputs": [],
   "source": [
    "# 문자열 뒤집기\n",
    "str = 'hello'\n",
    "print(str[::-1])"
   ]
  },
  {
   "cell_type": "markdown",
   "id": "57a2083c-2e8a-4ab6-a13d-325538db8f08",
   "metadata": {},
   "source": [
    "## 문자열 함수"
   ]
  },
  {
   "cell_type": "code",
   "execution_count": null,
   "id": "e880375d-ad87-4eec-a596-7e38f7edc416",
   "metadata": {},
   "outputs": [],
   "source": [
    "s = '''생각이란 생각할수록 생각나므로\n",
    "생각하지 말아야 할 생각은 생각하지 않으려고 하는 생각이\n",
    "옿은 생각이라고 생각합니다.'''\n",
    "print(s.count('생각'))"
   ]
  },
  {
   "cell_type": "code",
   "execution_count": null,
   "id": "b9345651-2f2f-486e-b2f2-4cab4b76e76c",
   "metadata": {},
   "outputs": [],
   "source": [
    "s = 'Python programming'\n",
    "print('a' in s)\n",
    "print('z' in s)"
   ]
  },
  {
   "cell_type": "code",
   "execution_count": null,
   "id": "318a5b76-7b85-4df0-b903-723ad9a6dfce",
   "metadata": {},
   "outputs": [],
   "source": [
    "s = '짜장 짬뽕 탕수육'\n",
    "print(s.split())\n",
    "\n",
    "s2 = '서울->대전->대구->부산'\n",
    "print(s2.split('->'))"
   ]
  },
  {
   "cell_type": "code",
   "execution_count": null,
   "id": "395a9cef-14d1-4104-9070-25889e02f76f",
   "metadata": {},
   "outputs": [],
   "source": [
    "city_list = ['서울', '대전', '대구', '부산']\n",
    "city_string = \",\".join(city_list)\n",
    "print(city_string)"
   ]
  },
  {
   "cell_type": "code",
   "execution_count": null,
   "id": "026c03e6-33fb-4d34-9f58-c6e8fc84c26d",
   "metadata": {},
   "outputs": [],
   "source": [
    "s = '대한민국'\n",
    "print('.'.join(s))"
   ]
  },
  {
   "cell_type": "code",
   "execution_count": null,
   "id": "8f7c2bc1-78ad-4454-9d28-1128a8a4e805",
   "metadata": {},
   "outputs": [],
   "source": [
    "[문제] 주민등록번호 분석하기\n",
    "- 임의의 주민등록번호를 입력받아 다음과 같이 생년과 성별을 추출하는 프로그램을 작성하세요.\n",
    "[실행예시] \n",
    "주민등록번호: 881231-1234567\n",
    "88년생 남자\n",
    "성별 1234중 아니면 : 성별값은 1~4 사이의 값만 유효"
   ]
  },
  {
   "cell_type": "code",
   "execution_count": null,
   "id": "e87d95f5-77f9-4016-9aac-03d58bb088e1",
   "metadata": {},
   "outputs": [],
   "source": [
    "num = input('주민등록번호: ')\n",
    "if num[num.find(\"-\")+1] == \"1\" or num[num.find(\"-\")+1] == \"3\" :\n",
    "    print(f'{num[:2]}년생 남자')\n",
    "elif num[num.find(\"-\")+1] == \"2\" or num[num.find(\"-\")+1] == \"4\" :\n",
    "    print(f'{num[:2]}년생 여자')\n",
    "else :\n",
    "    print(f'성별값은 1~4 사이의 값만 유효')"
   ]
  },
  {
   "cell_type": "code",
   "execution_count": null,
   "id": "c1864599-4214-4d9d-bd68-2775c438e374",
   "metadata": {},
   "outputs": [],
   "source": [
    "jumin = input('주민등록번호: ')\n",
    "year = jumin[:2]\n",
    "gender = jumin[7]\n",
    "s_gender = ''\n",
    "if gender in ['1','3']:\n",
    "    s_gender = '남자'\n",
    "elif gender in ['2','4']:\n",
    "    s_gender = '여자'\n",
    "else :\n",
    "    s_gender = '성별오류'\n",
    "print(f'{year}년생 {s_gender}')"
   ]
  },
  {
   "cell_type": "code",
   "execution_count": null,
   "id": "c29a15bf-1d74-440a-91a4-ed4bb2753bee",
   "metadata": {},
   "outputs": [],
   "source": [
    "## 문자열 대입"
   ]
  },
  {
   "cell_type": "code",
   "execution_count": null,
   "id": "72b5dae7-0a50-4b62-aa2d-86c8a13ad089",
   "metadata": {},
   "outputs": [],
   "source": [
    "print('I eat %d apples.'%3)\n",
    "print('I eat %s apples.'%'five')\n",
    "print('I eat %d%% apples.'%95)"
   ]
  },
  {
   "cell_type": "code",
   "execution_count": null,
   "id": "d03f16a9-3100-4a93-bfcc-6580abaad93f",
   "metadata": {},
   "outputs": [],
   "source": [
    "month = 8\n",
    "day = 15\n",
    "anni = '광복절'\n",
    "print('%d월 %d일은 %s이다.'%(month, day, anni)) # 전달할 값이 많을때 %뒤에 괄호열고 순서대로"
   ]
  },
  {
   "cell_type": "code",
   "execution_count": null,
   "id": "4f786f08-428d-438d-b070-40b271e82fe4",
   "metadata": {},
   "outputs": [],
   "source": [
    "number = 4\n",
    "day = '삼'\n",
    "print('나는 사과 {}개를 먹고 {}일 동안 아팠다.'.format(number, day))\n",
    "print('나는 사과 {1}개를 먹고 {0}일 동안 아팠다.'.format(number, day))\n",
    "print('나는 사과 {number}개를 먹고 {day}일 동안 아팠다.'.format(number=7, day=3))"
   ]
  },
  {
   "cell_type": "code",
   "execution_count": null,
   "id": "9a81ffdf-363e-4add-8464-6adeb27c7096",
   "metadata": {},
   "outputs": [],
   "source": [
    "print('내 이름은 {:->5s}입니다.'.format('홍길동'))"
   ]
  },
  {
   "cell_type": "markdown",
   "id": "f1f5c5bc-bd35-4f55-9f81-88f3128a9174",
   "metadata": {},
   "source": [
    "[문제] 단어 수 세기\n",
    "- 문자열 내 전체 단어가 몇개인가?\n",
    "- 문자열 내 'like' 단어의 갯수가 몇개인가?\n",
    "- 문자열 내 가장 많이 포함되어 있는 단어는 무엇인가?\n",
    ">- 1. 문자열 끝에 엔터 ('\\n' 개행문자를 \"\" 공백으로 치환해라= 한줄의 문자열로)\n",
    ">  2. replace 함수 ('\\n', ' ')\n",
    ">  3. 문자열을 단어로 나눈다. split 함수\n",
    ">  4. 모든 단어를 소문자로 수정한다. lower 함수"
   ]
  },
  {
   "cell_type": "code",
   "execution_count": null,
   "id": "74ffab0a-474d-4599-9c9e-3ba913ea9915",
   "metadata": {},
   "outputs": [],
   "source": [
    "song = \"\"\"Hello, it's me \n",
    "I was wondering if after all these years you'd like to meet\n",
    "To go over everything\n",
    "They say that time's supposed to heal ya\n",
    "But I ain't done much healing\n",
    "Hello, can you hear me?\n",
    "I'm in California dreaming about who we used to be\n",
    "When we were younger and free\n",
    "I've forgotten how it felt before the world fell at our feet\n",
    "There's such a difference between us\n",
    "And a million miles\n",
    "Hello from the other side\n",
    "I must've called a thousand times\n",
    "To tell you I'm sorry for everything that I've done\n",
    "But when I call, you never seem to be home\n",
    "Hello from the outside\n",
    "At least I can say that I've tried\n",
    "To tell you I'm sorry for breaking your heart\n",
    "But it don't matter, it clearly doesn't tear you apart anymore\n",
    "Hello, how are you?\n",
    "It's so typical of me to talk about myself, I'm sorry\n",
    "I hope that you're well\n",
    "Did you ever make it out of that town where nothing ever happened?\n",
    "It's no secret that the both of us are running out of time\n",
    "So hello from the other side (Other side)\n",
    "I must've called a thousand times (Thousand times)\n",
    "To tell you I'm sorry for everything that I've done\n",
    "But when I call, you never seem to be home\n",
    "Hello from the outside (Outside)\n",
    "At least I can say that I've tried (I've tried)\n",
    "To tell you I'm sorry for breaking your heart\n",
    "But it don't matter, it clearly doesn't tear you apart anymore\n",
    "Ooh-ooh, anymore\n",
    "Ooh-ooh-ooh, anymore\n",
    "Ooh-ooh, anymore\n",
    "Anymore\n",
    "Hello from the other side (Other side)\n",
    "I must've called a thousand times (Thousand times)\n",
    "To tell you I'm sorry for everything that I've done\n",
    "But when I call, you never seem to be home\n",
    "Hello from the outside (Outside)\n",
    "At least I can say that I've tried (I've tried)\n",
    "To tell you I'm sorry for breaking your heart\n",
    "But it don't matter, it clearly doesn't tear you apart anymore\"\"\"\n",
    "\n",
    "song = song.lower().replace('\\n',' ')\n",
    "#불용문자 제거하기\n",
    "#punctuation = \",.''`?!()-\"\n",
    "#for p in punctuation:\n",
    "    #song = song.replace(p,'')\n",
    "    \n",
    "max_word_count = 0 #가장 많이 나온 단어의 횟수\n",
    "max_word = '' #가장 많이 나온 단어\n",
    "for word in word_list:\n",
    "    word_count = word_list.count(word)\n",
    "    if word_count > max_word_count:\n",
    "        max_word_count = word_count\n",
    "        max_word = word\n",
    "print('가장 많이 나온 단어는 %s이며 횟수는 %d이다.'%(max_word, max_word_count))\n",
    "#print (song)\n",
    "print('like 단어의 갯수: ', song.count('like'))\n",
    "\n",
    "word_list = song.split()\n",
    "print('전체 단어 갯수: ', len(word_list))"
   ]
  },
  {
   "cell_type": "code",
   "execution_count": null,
   "id": "3da9cdb8-3454-47e5-a915-644d1a9f4de8",
   "metadata": {},
   "outputs": [],
   "source": [
    "<pre>\n",
    "    \n",
    "    [문제] 영화 예매\n",
    "    10개 좌석만 있는 극장의 예매 프로그램 만들기\n",
    "    비어있는 좌석은 0으로 표기하고, 예매가 된 좌석은 1로 표기한다.\n",
    "    만약 예약되어있는 좌석을 예약하려고 했을 때 적절한 오류 메시지를 출력하고 다시 예약을 받는다.\n",
    "    [실행예시]\n",
    "    좌석을 예약하시겠습니까? (예약: 1, 종료:0)\n",
    "    현재의 예약상태는 다음과 같습니다. \n",
    "---------------------\n",
    "1 2 3 4 5 6 7 8 9 10\n",
    "---------------------\n",
    "0 0 0 0 0 0 0 0 0  0 \n",
    "몇 번째 좌석을 예약하시겠습니까? 2\n",
    "예약되었습니다.\n",
    "좌석을 예약하시겠습니까? (예약: 1, 종료:0)\n",
    "---------------------\n",
    "1 2 3 4 5 6 7 8 9 10\n",
    "---------------------\n",
    "0 1 0 0 0 0 0 0 0  0 \n",
    "예약할 수 없습니다. 다른 좌석을 입력하세요.\n",
    "    \n",
    "</pre>"
   ]
  },
  {
   "cell_type": "code",
   "execution_count": null,
   "id": "1b8d49b0-27ba-4d58-8014-f19ccda125fb",
   "metadata": {},
   "outputs": [],
   "source": [
    "#좌석 예약 정보를 저장하는 리스트\n",
    "# 2번 좌석 예약 : seats[방번호1] = 1\n",
    "seats = [0,0,0,0,0,0,0,0,0,0]\n",
    "while True:"
   ]
  },
  {
   "cell_type": "code",
   "execution_count": null,
   "id": "9017e279-4767-4cd7-b83d-6a5cf572e2d5",
   "metadata": {},
   "outputs": [],
   "source": [
    "seats = [0,0,0,0,0,0,0,0,0,0]\n",
    "while True:\n",
    "    iscontinue = int(input('좌석을 예약하시겠습니까? (예약:1, 종료:0)'))\n",
    "    if iscontinue == 0:\n",
    "        break\n",
    "    elif iscontinue == 1:\n",
    "        print('현재의 예약 상태는 다음과 같습니다.')\n",
    "        print('----------------------------------')\n",
    "        print('1 2 3 4 5 6 7 8 9 10')\n",
    "        print('----------------------------------')\n",
    "        for s in seats: \n",
    "            print('%3d'%s, end='')\n",
    "        while True:\n",
    "            seat_num = int(input('몇 번째 좌석을 예약하시겠습니까?'))\n",
    "            if seats[seat_num-1] == 1:\n",
    "                print('해당 좌석은 이미 예약 됐습니다.')\n",
    "            else :\n",
    "                seats[seat_num-1] = 1\n",
    "                print ('예약되었습니다')\n",
    "                break"
   ]
  },
  {
   "cell_type": "markdown",
   "id": "b05be669-3e9d-4345-b81e-b2472402f661",
   "metadata": {},
   "source": [
    "# 리스트(list)"
   ]
  },
  {
   "cell_type": "code",
   "execution_count": null,
   "id": "cb0710ab-3fed-490e-89ee-74af3867be38",
   "metadata": {},
   "outputs": [],
   "source": [
    "# 리스트 선언\n",
    "a = []\n",
    "b = list()\n",
    "c = [1, 2, 3]"
   ]
  },
  {
   "cell_type": "code",
   "execution_count": null,
   "id": "25df2136-7441-4137-a2a2-705966bdd932",
   "metadata": {},
   "outputs": [],
   "source": [
    "# 슬라이싱\n",
    "a = [1, 2, 3, 4, 5, 6, 7]\n",
    "b = a[:2]\n",
    "print(b)\n",
    "c = a[:]\n",
    "print(c)"
   ]
  },
  {
   "cell_type": "code",
   "execution_count": null,
   "id": "eec1d140-5f4d-4243-9161-566f6cb7e6ae",
   "metadata": {},
   "outputs": [],
   "source": [
    "# 리스트 복사\n",
    "a = [1,2,3,4,5,6,7]\n",
    "#얕은복사\n",
    "b=a\n",
    "print(b)\n",
    "b[2]= 20 \n",
    "print(a)\n",
    "#깊은복사\n",
    "c = a[:]\n",
    "c[0] = 200\n",
    "print(a)\n",
    "print (a is b)\n",
    "print (a is c)"
   ]
  },
  {
   "cell_type": "code",
   "execution_count": null,
   "id": "697a54ff-81de-41d5-9e97-e4b5c2a19598",
   "metadata": {},
   "outputs": [],
   "source": [
    "#리스트의 연결(+), 반복(*)\n",
    "a = [1,2,3]\n",
    "b=[4,5,6]\n",
    "print(a+b)\n",
    "print(a*3)"
   ]
  },
  {
   "cell_type": "code",
   "execution_count": null,
   "id": "dcc0f133-a22d-44c5-9bde-4818de03a10c",
   "metadata": {},
   "outputs": [],
   "source": [
    "#리스트에 들어있는 요소 삭제, 수정\n",
    "a = [1,2,3,4,5]\n",
    "a[3]=40\n",
    "print(a)\n",
    "a[1:3] = []\n",
    "print(a)\n",
    "del a[1]\n",
    "print(a)"
   ]
  },
  {
   "cell_type": "markdown",
   "id": "500c9cbf-976d-403c-9264-67e924746154",
   "metadata": {},
   "source": [
    "## 리스트의 함수들"
   ]
  },
  {
   "cell_type": "code",
   "execution_count": null,
   "id": "98d8193d-3dc1-4466-b0dd-cdad3406c1ef",
   "metadata": {},
   "outputs": [],
   "source": [
    "a = [1,5,3,6,7]\n",
    "r = a.sort(reverse=True) # 정렬의 결과를 반환하지 않는다\n",
    "print(r)\n",
    "print(a)"
   ]
  },
  {
   "cell_type": "code",
   "execution_count": null,
   "id": "9aff22dc-84c3-49c0-8fde-d8e643c96e34",
   "metadata": {},
   "outputs": [],
   "source": [
    "a = [1,3,4,2,1,10,22]\n",
    "a.remove(4) # index로 삭제하는 것이 아니고 실제 값을 삭제\n",
    "print(a)\n",
    "temp = a.pop() # 가장 마지막 데이터를 꺼낸 후 삭제\n",
    "print(temp)\n",
    "print(a)"
   ]
  },
  {
   "cell_type": "code",
   "execution_count": null,
   "id": "d46b044d-9a9b-4c9a-853a-665a7d4930a1",
   "metadata": {
    "scrolled": true
   },
   "outputs": [],
   "source": [
    "a = [1,3,4,2,1,10,22]\n",
    "# 다음 함수는 리스트 객체의 함수가 아닌 파이썬의 내장함수\n",
    "print(len(a))\n",
    "print(max(a))\n",
    "print(min(a))\n",
    "print(sum(a))\n",
    "print(sum(a)/len(a))"
   ]
  },
  {
   "cell_type": "code",
   "execution_count": null,
   "id": "c029d20f-c019-4ae9-8dea-9b0410759972",
   "metadata": {},
   "outputs": [],
   "source": [
    "ans = input('결제를 하시겠습니까? ')\n",
    "if ans in ['yes', 'y', 'ok', '네', '예']:\n",
    "    print('구매해주셔서 감사합니다')\n",
    "else :\n",
    "    print('안녕히가세요!')"
   ]
  },
  {
   "cell_type": "markdown",
   "id": "5885864c-0195-4c55-9e7d-5940d1129ad7",
   "metadata": {},
   "source": [
    "## 이중 리스트\n",
    "리스트의 요소로 리스트를 갖는 형태"
   ]
  },
  {
   "cell_type": "code",
   "execution_count": null,
   "id": "ac2ba289-fc64-49d3-a99a-7af4345e0f46",
   "metadata": {},
   "outputs": [],
   "source": [
    "l = [[1,2,3],\n",
    "    [4,5,6],\n",
    "    [7,8,9]]\n",
    "print(l[0])\n",
    "print(l[0][0])\n",
    "\n",
    "for x in l :\n",
    "    for y in x :\n",
    "        print(y, end=' ')\n",
    "    print()"
   ]
  },
  {
   "cell_type": "code",
   "execution_count": null,
   "id": "ef141cdd-45d0-4c11-8d83-cdc9c98c3ab8",
   "metadata": {},
   "outputs": [],
   "source": [
    "- [:]과 deepcopy()의 차이"
   ]
  },
  {
   "cell_type": "code",
   "execution_count": null,
   "id": "0bcf6410-6733-4a68-8f34-c0725a02b3d7",
   "metadata": {},
   "outputs": [],
   "source": [
    "import copy \n",
    "\n",
    "matrix = [[1,2,3],\n",
    "          [4,5,6],\n",
    "          [7,8,9]]\n",
    "#[:]를 이용한 깊은 복사는 서브 리스트까지 깊은 복사를 수행하지 않는다.\n",
    "#copy_m = matrix[:]\n",
    "copy_m = copy.deepcopy(matrix)\n",
    "#반면 deepcopy함수는 모든 요소에 대한 깊은 복사를 수행한다.\n",
    "print(id(matrix[0]))\n",
    "print(id(copy_m[0]))"
   ]
  },
  {
   "cell_type": "code",
   "execution_count": null,
   "id": "0ef970f8-0ec5-416d-89b6-f5cc2a71cf27",
   "metadata": {},
   "outputs": [],
   "source": [
    "[문제] 성적 총점과 평균 구하기\n",
    "학생 3명의 성적에 대해 각각 총점과 평균을 구하고, 전체 평균을 구하세요.\n",
    "score = [[88, 76, 92, 98],\n",
    "        [65, 70, 58, 82],\n",
    "        [82, 80, 78, 88]]\n",
    "[실행결과]\n",
    "1번 학생: 총점: 300, 평균: 82.50\n",
    "2\n",
    "3"
   ]
  },
  {
   "cell_type": "code",
   "execution_count": null,
   "id": "74ab6e7a-11f2-4d2a-854e-95d5d532e0b0",
   "metadata": {},
   "outputs": [],
   "source": [
    "score = [[88, 76, 92, 98],\n",
    "        [65, 70, 58, 82],\n",
    "        [82, 80, 78, 88]]\n",
    "     \n",
    "sum1 = int(sum(score[0]))\n",
    "sum2 = int(sum(score[1]))\n",
    "sum3 = int(sum(score[2]))\n",
    "sum4 = sum1+sum2+sum3\n",
    "\n",
    "print(f'1번 학생-총점: {sum1}, 평균: {sum1/4}')\n",
    "print(f'2번 학생-총점: {sum2}, 평균: {sum2/4}')\n",
    "print(f'3번 학생-총점: {sum3}, 평균: {sum3/4}')\n",
    "print(f'전체 평균: {sum4/4}')\n",
    "\n"
   ]
  },
  {
   "cell_type": "code",
   "execution_count": null,
   "id": "abb41597-7ca3-4b76-bac8-0094613781bd",
   "metadata": {},
   "outputs": [],
   "source": [
    "score = [[88, 76, 92, 98],\n",
    "        [65, 70, 58, 82],\n",
    "        [82, 80, 78, 88]]\n",
    "index = 1\n",
    "total = 0 #전체 모든 학생의 총점을 저장\n",
    "all_subjects = 0 # 전체 과목 수 \n",
    "for student in score:\n",
    "    print(f'{index}번 학생 - 총점: {sum(student)}, 평균:{sum(student)/len(student):.2f}')\n",
    "    index += 1\n",
    "    total += sum(student)\n",
    "    all_subjects += len(student)\n",
    "print(f'전체 평균:{total/all_subjects:.2f}')"
   ]
  },
  {
   "cell_type": "code",
   "execution_count": null,
   "id": "de38710b-c9f9-4e18-843e-2c0833eb169c",
   "metadata": {},
   "outputs": [],
   "source": [
    "[문제] 일수 계산\n",
    "1~12월 중 입력 받은 월이 몇 일까지 있는 지를 계산하는 프로그램을 작성하세요.\n",
    "[실행예시]\n",
    "년도를 입력하세요: 2024\n",
    "월을 입력하세요: 2\n",
    "2024년 2월은 29일까지 있습니다.\n",
    "\n",
    "[참고] 윤년 조건 : 4로 나눠지고, 100으로 나눠지지 않는 해거나 400으로 나누어떨어지는 해\n",
    "daysInMonth = [31,28,31,30,31,30,31,31,30,31,30,31]"
   ]
  },
  {
   "cell_type": "code",
   "execution_count": null,
   "id": "c4079cb7-82e8-4410-bf06-19c8f2c6e7c3",
   "metadata": {},
   "outputs": [],
   "source": [
    "year = int(input('년도를 입력하세요: '))\n",
    "month = int(input('월을 입력하세요: '))\n",
    "days = 0\n",
    "if month ==2:\n",
    "    days = 29 if (not year%4 and year%100) or not year%400 else 28\n",
    "else: \n",
    "    days = daysInMonth[month-1]\n",
    "print(f'{year}년 {month}월은 {days}일까지 있습니다.')"
   ]
  },
  {
   "cell_type": "markdown",
   "id": "fc57804d-5913-46c9-8e80-9df34eb30548",
   "metadata": {},
   "source": [
    "#딕셔너리 (Dictionary)"
   ]
  },
  {
   "cell_type": "code",
   "execution_count": null,
   "id": "a70f0f88-dc36-4795-8f39-01fc65cd4018",
   "metadata": {},
   "outputs": [],
   "source": [
    "# 딕셔너리 생성\n",
    "x = {'name':'홍길동', 'age':32}\n",
    "print(x['name'])\n",
    "x['address']='서울시 강남구'\n",
    "print(x['address'])\n",
    "x['address']='서울시 강서구'\n",
    "print(x)\n",
    "print(x.get('birth', '생일 미등록'))"
   ]
  },
  {
   "cell_type": "code",
   "execution_count": null,
   "id": "a2c3df81-74b0-45ed-9a68-1deddc748ad5",
   "metadata": {},
   "outputs": [],
   "source": [
    "#딕셔너리 데이터 순회\n",
    "y= {'name':'전우치', 'phone':'010-1234-5678', 'age':28}\n",
    "print(y.keys())\n",
    "print(y.items())\n",
    "for key in y.keys():\n",
    "    print(key, y[key])\n",
    "print('-'*15)\n",
    "for key, value in y.items():\n",
    "    print(key, value)"
   ]
  },
  {
   "cell_type": "code",
   "execution_count": null,
   "id": "371a29bf-ce3b-4c1a-9eaa-ac5c4e821ab0",
   "metadata": {},
   "outputs": [],
   "source": [
    "score = {'홍길동':89, '임꺽정':88, '손오공':80, '전우치':67}\n",
    "print('합계: ', sum(score.values()))\n",
    "print(sorted(score.items(), key=lambda x:x[1]))"
   ]
  },
  {
   "cell_type": "markdown",
   "id": "70752e1a-5e65-4cc2-814d-31f9928ac91e",
   "metadata": {},
   "source": [
    "[문제] 단어 빈도수 구하기\n",
    "- text 문장 안에 포함된 각 단어의 빈도수를 구하여 dictionary형태로 결과를 출력\n",
    "- 단어는 key가 되고 빈도수는 value값이 된다."
   ]
  },
  {
   "cell_type": "code",
   "execution_count": null,
   "id": "15622f2d-1794-4ebe-ba29-f29e7292fbc0",
   "metadata": {},
   "outputs": [],
   "source": [
    "song = \"\"\"Hello, it's me \n",
    "I was wondering if after all these years you'd like to meet\n",
    "To go over everything\n",
    "They say that time's supposed to heal ya\n",
    "But I ain't done much healing\n",
    "Hello, can you hear me?\n",
    "I'm in California dreaming about who we used to be\n",
    "When we were younger and free\n",
    "I've forgotten how it felt before the world fell at our feet\n",
    "There's such a difference between us\n",
    "And a million miles\n",
    "Hello from the other side\n",
    "I must've called a thousand times\n",
    "To tell you I'm sorry for everything that I've done\n",
    "But when I call, you never seem to be home\n",
    "Hello from the outside\n",
    "At least I can say that I've tried\n",
    "To tell you I'm sorry for breaking your heart\n",
    "But it don't matter, it clearly doesn't tear you apart anymore\n",
    "Hello, how are you?\n",
    "It's so typical of me to talk about myself, I'm sorry\n",
    "I hope that you're well\n",
    "Did you ever make it out of that town where nothing ever happened?\n",
    "It's no secret that the both of us are running out of time\n",
    "So hello from the other side (Other side)\n",
    "I must've called a thousand times (Thousand times)\n",
    "To tell you I'm sorry for everything that I've done\n",
    "But when I call, you never seem to be home\n",
    "Hello from the outside (Outside)\n",
    "At least I can say that I've tried (I've tried)\n",
    "To tell you I'm sorry for breaking your heart\n",
    "But it don't matter, it clearly doesn't tear you apart anymore\n",
    "Ooh-ooh, anymore\n",
    "Ooh-ooh-ooh, anymore\n",
    "Ooh-ooh, anymore\n",
    "Anymore\n",
    "Hello from the other side (Other side)\n",
    "I must've called a thousand times (Thousand times)\n",
    "To tell you I'm sorry for everything that I've done\n",
    "But when I call, you never seem to be home\n",
    "Hello from the outside (Outside)\n",
    "At least I can say that I've tried (I've tried)\n",
    "To tell you I'm sorry for breaking your heart\n",
    "But it don't matter, it clearly doesn't tear you apart anymore\"\"\"\n",
    "\n",
    "song = song.lower().replace('\\n',' ')\n",
    "punctuation = \",.''`?!()-\"\n",
    "for p in punctuation:\n",
    "    song = song.replace(p,'')\n",
    "word_list = song.split()\n",
    "result = {}\n",
    "for word in word_list :\n",
    "    if result.get(word) == None :\n",
    "        result[word]=1 #값없을시 에러\n",
    "    else : \n",
    "        result[word]+=1\n",
    "\n",
    "* #for word in word_list:\n",
    "* #   result[word] = result.get(word,0)+1\n",
    "    \n",
    "print(sorted(result.items(), key=lambda x:x[1], reverse=True))"
   ]
  },
  {
   "cell_type": "markdown",
   "id": "790204bd-45b1-40b0-8481-25f1f3a33300",
   "metadata": {},
   "source": [
    "# 집합 (SET)"
   ]
  },
  {
   "cell_type": "code",
   "execution_count": null,
   "id": "799114ff-b464-4f04-b03c-07c5bf8fde41",
   "metadata": {},
   "outputs": [],
   "source": [
    "print(set('Hello Python')) #중복값과 공백 주의"
   ]
  },
  {
   "cell_type": "code",
   "execution_count": null,
   "id": "4ee21b5d-7483-4f2f-84b5-b68245214b42",
   "metadata": {},
   "outputs": [],
   "source": [
    "a = {1,2,3,4,5,6}\n",
    "b = {5,6,7,8}\n",
    "print('합집합: ', a.union(b))\n",
    "print('교집합: ', a.intersection(b))\n",
    "print('차집합: ', a.difference(b))"
   ]
  },
  {
   "cell_type": "markdown",
   "id": "8eae7c65-0e43-4692-8f1e-c26d6f11cd3d",
   "metadata": {},
   "source": [
    "# Comprehension"
   ]
  },
  {
   "cell_type": "code",
   "execution_count": null,
   "id": "bed2b43c-1ea7-4a44-9ae8-dbf7f1859a9e",
   "metadata": {},
   "outputs": [],
   "source": [
    "tmp = [1,2,4,6,7,33,65,7,3,10,43]\n",
    "a = [ i for i in tmp]\n",
    "print(a)\n",
    "\n",
    "b = [i*3 for i in tmp]\n",
    "print(b)\n",
    "\n",
    "c = [i for i in tmp if not i%2]\n",
    "print(c)\n",
    "\n",
    "#4행 7열 형태의 이중 리스트\n",
    "double_list =[[0,0,0,0,0,0,0],\n",
    "              [0,0,0,0,0,0,0],\n",
    "              [0,0,0,0,0,0,0],\n",
    "              [0,0,0,0,0,0,0]]\n",
    "double_list = [ [ 0 for col in range (7)]for row in range(4)]\n",
    "print(double_list)"
   ]
  },
  {
   "cell_type": "markdown",
   "id": "fa846671-b864-4713-9af3-4bdf9c15b2bb",
   "metadata": {},
   "source": [
    "# set comprehension"
   ]
  },
  {
   "cell_type": "code",
   "execution_count": null,
   "id": "62ea747b-b46d-45c2-b181-4c1459a0bf43",
   "metadata": {},
   "outputs": [],
   "source": [
    "s = {i for i in range(1,11)}\n",
    "print(s)"
   ]
  },
  {
   "cell_type": "code",
   "execution_count": null,
   "id": "791d1679-fe65-4688-88dd-16481762a952",
   "metadata": {},
   "outputs": [],
   "source": [
    "# dictionary comprehension\n",
    "result = {word: word_list.count(word) for word in word_list }\n",
    "print(result)"
   ]
  },
  {
   "cell_type": "markdown",
   "id": "8f4f73fb-8c1b-4335-8781-2b67296df49e",
   "metadata": {},
   "source": [
    "[문제] 1~100까지 1씩 증가하는 데이터를 생성해서 3의 배수\n",
    "이거나 5의 배수인 데이터만 리스트에 포함시키는 프로그램을 작성하세요."
   ]
  },
  {
   "cell_type": "code",
   "execution_count": null,
   "id": "7ccf060c-1c2a-4177-8646-f6d588f54d16",
   "metadata": {},
   "outputs": [],
   "source": [
    "result = [i for i in range(1,101) if not i % 3 or not i % 5]\n",
    "print(result)"
   ]
  },
  {
   "cell_type": "markdown",
   "id": "625b2eec-5803-4e8b-8755-3e0c493be566",
   "metadata": {},
   "source": [
    "# zip()"
   ]
  },
  {
   "cell_type": "code",
   "execution_count": null,
   "id": "9221815b-964c-4d2d-85ec-d01b7775da43",
   "metadata": {
    "scrolled": true
   },
   "outputs": [],
   "source": [
    "data1 = [1,2,3,4,5]\n",
    "data2 = [10,20,30,40,50]\n",
    "data3 = [100,200,300,400,500]\n",
    "\n",
    "result1 = [x for x in zip (data1, data2)]\n",
    "print(result1)\n",
    "result2 = [sum (x) for x in zip (data1, data2, data3)]\n",
    "print(result2)"
   ]
  },
  {
   "cell_type": "code",
   "execution_count": null,
   "id": "3bbe60cf-b5fe-427d-8efe-98233530931f",
   "metadata": {},
   "outputs": [],
   "source": [
    "yoil = ['월','화','수','목','금','토','일']\n",
    "food = ['갈비탕', '순댓국', '칼국수', '삼겹살']\n",
    "for y, f in zip (yoil, food):\n",
    "    print(f'{y}요일 메뉴:{f}')"
   ]
  },
  {
   "cell_type": "code",
   "execution_count": null,
   "id": "a1b91076-d4a5-4849-adbb-2bb6994e50c0",
   "metadata": {},
   "outputs": [],
   "source": [
    "d= dict(zip(yoil,food))\n",
    "print(d)"
   ]
  },
  {
   "cell_type": "code",
   "execution_count": null,
   "id": "260cb8b5-e6ac-48f7-9ced-127a6424c0fa",
   "metadata": {},
   "outputs": [],
   "source": [
    "yoil = ['월','화','수','목','금','토','일']\n",
    "print(list(enumerate(yoil)))\n",
    "\n",
    "for i, item in enumerate(yoil,1):\n",
    "    print(i,item)"
   ]
  },
  {
   "cell_type": "code",
   "execution_count": null,
   "id": "20ada360-1126-41f9-9ffd-fe3122faa88e",
   "metadata": {},
   "outputs": [],
   "source": [
    "color = ['빨강','주황','노랑','초록','파랑']\n",
    "mapping = {v:i for i, v in enumerate (color)}\n",
    "print(mapping)"
   ]
  },
  {
   "cell_type": "markdown",
   "id": "874a07d0-a3d1-4180-9c86-bf3776378c94",
   "metadata": {},
   "source": [
    "# 함수"
   ]
  },
  {
   "cell_type": "code",
   "execution_count": null,
   "id": "8f7fe4aa-2d5d-4470-a67d-f8e07bbd293d",
   "metadata": {},
   "outputs": [],
   "source": [
    "def restaurant(food, drink, desert):\n",
    "    return {'food':food, 'drink':drink, 'desert':desert}\n",
    "# 위치 인자를 이용한 함수의 호출\n",
    "first = restaurant('스테이크', '포도주', '치즈케익')\n",
    "print(first)\n",
    "# 키워드 인자를 이용한 함수의 호출 (정의된 매개변수 순서에 상관없이 호출 가능)\n",
    "second = restaurant(drink='막걸리', desert='파전', food='잔치국수')\n",
    "print(second)"
   ]
  },
  {
   "cell_type": "code",
   "execution_count": null,
   "id": "d4855d9f-0b51-42b3-98f3-1b6abc653f25",
   "metadata": {},
   "outputs": [],
   "source": [
    "def restaurant(food='연어초밥', drink='사케', desert='아이스크림'):\n",
    "    return {'food':food, 'drink':drink, 'desert':desert}\n",
    "print(restaurant())\n",
    "print(restaurant('돈부리'))"
   ]
  },
  {
   "cell_type": "code",
   "execution_count": null,
   "id": "c910ab1f-9a32-4c13-8508-588136cd5080",
   "metadata": {},
   "outputs": [],
   "source": [
    "def calcstep(begin, end, step=1):\n",
    "    hap = 0\n",
    "    for num in range (begin, end+1, step):\n",
    "        hap += num \n",
    "    return hap \n",
    "\n",
    "print('1~10까지의 합 = ', calcstep(1,10))"
   ]
  },
  {
   "cell_type": "code",
   "execution_count": null,
   "id": "f1ed4813-ea96-4b4b-b076-723c9c5fce3b",
   "metadata": {},
   "outputs": [],
   "source": [
    "price = 1000 #전역변수\n",
    "\n",
    "def sales():\n",
    "    global price\n",
    "    price = 5000 #지역변수\n",
    "    b_price = 500\n",
    "sales() # 함수의 호출(사용)\n",
    "print('sales() 함수 호출 후 price 값: ', price)\n",
    "#print(b_price) #지역 변수는 함수 밖에서 호출 불가능\n"
   ]
  },
  {
   "cell_type": "markdown",
   "id": "6a760ed5-ac52-4d27-8cb4-659751052c8a",
   "metadata": {},
   "source": [
    "[문제] 다음과 같은 결과를 출력하는 함수를 정의하세요.\n",
    "<pre>\n",
    "    print_star(5)\n",
    "    *\n",
    "    **\n",
    "    ***\n",
    "    ****\n",
    "    *****\n",
    "</pre>"
   ]
  },
  {
   "cell_type": "code",
   "execution_count": null,
   "id": "606f0007-f7f1-4822-b1a2-f2773902dc66",
   "metadata": {},
   "outputs": [],
   "source": [
    "print('print_star (5)')\n",
    "a = 5\n",
    "def print_star (a):\n",
    "    for a in range(a+1) :\n",
    "        print( '*' * a)\n",
    "print_star(a)"
   ]
  },
  {
   "cell_type": "code",
   "execution_count": null,
   "id": "a4d71ba3-541d-4734-96e6-3b18de3044bc",
   "metadata": {},
   "outputs": [],
   "source": [
    "def print_star(n):\n",
    "    result=[]\n",
    "    for i in range(1, n+1):\n",
    "        result.append(i*'*')\n",
    "    return '\\n'.join(result)\n",
    "\n",
    "r = print_star(5)\n",
    "print(r)"
   ]
  },
  {
   "cell_type": "code",
   "execution_count": null,
   "id": "b61e22d8-2acb-4fca-bba2-a9418f722350",
   "metadata": {},
   "outputs": [],
   "source": [
    "balance = 100\n",
    "def deposit(amount):\n",
    "    global balance\n",
    "    balance += amount\n",
    "    return balance\n",
    "\n",
    "def withdraw(amount):\n",
    "    result = False #출금결과 저장 (True: 성공, False:실패)\n",
    "    global balance\n",
    "    if balance >= amount:\n",
    "        balance -= amount\n",
    "        result = True\n",
    "    return result\n",
    "\n",
    "# result = deposit(10)\n",
    "#print (result)\n",
    "\n",
    "success = withdraw(1000)\n",
    "if success :\n",
    "    print('출금성공')\n",
    "else :\n",
    "    print('잔고부족')"
   ]
  },
  {
   "cell_type": "markdown",
   "id": "401e6351-dda5-4f72-81b3-47726794a68c",
   "metadata": {},
   "source": [
    "[문제] 함수를 이용한 계산기\n",
    "<pre>\n",
    "이항사칙연산식을 매개변수로 받아 연산의 결과를 출력하는 함수를 정의하세요.\n",
    "- 함수 형식 : calculator(exp), 반환 값 없음\n",
    "- exp: 사용자로부터 입력 받은 문자열 형태의 연산식\n",
    "- +, -, *, / 외 연산자 사용 시 오류 메시지 출력\n",
    "- 나누기 연산에서 부모의 값이 0인 경우 오류 메시지 출력\n",
    "(실행예시)\n",
    "계산식을 입력하세요: 10+20\n",
    "10 + 20 = 30.00\n",
    "연산자 오류\n",
    "</pre>"
   ]
  },
  {
   "cell_type": "code",
   "execution_count": null,
   "id": "d10ff295-6701-4514-a4ce-17aff52e1e6a",
   "metadata": {},
   "outputs": [],
   "source": [
    "# 함수의 정의\n",
    "def calculator(exp):\n",
    "    operator = '' #발견된 연산자 문자열을 저장 \n",
    "    for op in ['+','-','*','/']:\n",
    "        op_index = exp.find(op) #op 위치값 (발견 안되면 -1을 반환)\n",
    "        if op_index != -1: #연산식 내에서 찾고자 하는 연산자가 발견이 됐을 경우\n",
    "            operator = op\n",
    "            break\n",
    "    if op_index != -1: #for문을 다 돌아봐야 연산자 오류(-1)이 진짜인지 아닌지 알 수 있기 때문에 이 if문은 밖으로 빼줌\n",
    "        value1 = float(exp.split(operator)[0])\n",
    "        value2 = float(exp.split(operator)[1])\n",
    "\n",
    "        if operator == '+':\n",
    "            print(f'{exp} = {value1+value2:.2f}')\n",
    "        elif operator == '-':\n",
    "            print(f'{exp} = {value1-value2:.2f}')\n",
    "        elif operator == '*':\n",
    "            print(f'{exp} = {value1*value2:.2f}')\n",
    "        elif operator == '/':\n",
    "            if value2 != 0:\n",
    "                print(f'{exp} = {value1/value2:.2f}')\n",
    "            else:\n",
    "                print('0으로 나눌 수 없습니다.')\n",
    "    else: \n",
    "        print('연산자 오류!')\n",
    "d = input('계산식을 입력하세요: ')\n",
    "calculator(d)"
   ]
  },
  {
   "cell_type": "markdown",
   "id": "8deac08e-0296-417f-adf9-0e5b28ffd1b5",
   "metadata": {},
   "source": [
    "## eval() - 동적 코드 실행\n",
    "- eval 함수는 문자열 형태로 된 파이썬 표현식을 평가하여 그 결과를 리턴한다."
   ]
  },
  {
   "cell_type": "code",
   "execution_count": null,
   "id": "bc8812b7-9604-4b07-8e55-4bff491b8e27",
   "metadata": {},
   "outputs": [],
   "source": [
    "result = eval('1+2*3')\n",
    "print(result)\n",
    "\n",
    "a = 2\n",
    "print(eval('a+3'))\n",
    "\n",
    "data = '[\"서울\", \"대전\", \"광주\"]'\n",
    "for c in eval(data):\n",
    "    print(c)"
   ]
  },
  {
   "cell_type": "markdown",
   "id": "80e489f9-ef76-4136-a345-23a93e5242e4",
   "metadata": {},
   "source": [
    "# *arg와 **kwargs 매개변수"
   ]
  },
  {
   "cell_type": "code",
   "execution_count": null,
   "id": "ce958661-f4e2-42c2-92b6-3f4d38221c07",
   "metadata": {},
   "outputs": [],
   "source": [
    "def test(*args):\n",
    "    print('매개변수 값: ', args)\n",
    "test()\n",
    "test(1,)\n",
    "test(1,2,3,'a','b','c')"
   ]
  },
  {
   "cell_type": "code",
   "execution_count": null,
   "id": "a7260b1f-d93b-48e8-9fa6-b6dbe915d359",
   "metadata": {},
   "outputs": [],
   "source": [
    "def test (a,b,*args):\n",
    "    print('a->',a)\n",
    "    print('b->',b)\n",
    "    print('args->',args)\n",
    "test(10,20,30)"
   ]
  },
  {
   "cell_type": "code",
   "execution_count": null,
   "id": "296c681b-3171-4777-8235-0d8c606379e3",
   "metadata": {},
   "outputs": [],
   "source": [
    "def test(a, **kwargs):\n",
    "    print(a,kwargs)\n",
    "test(10)\n",
    "test(10,b=20)"
   ]
  },
  {
   "cell_type": "code",
   "execution_count": null,
   "id": "647db606-f60e-4126-a4e6-8f2a7ecf91f2",
   "metadata": {},
   "outputs": [],
   "source": [
    "def calcstep(**kwargs):\n",
    "    begin = kwargs['begin']\n",
    "    end = kwargs['end']\n",
    "    step = kwargs['step']\n",
    "\n",
    "    hap = 0\n",
    "    for n in range(begin, end+1, step):\n",
    "        hap += n\n",
    "    \n",
    "    return hap\n",
    "    \n",
    "print('1~10 합계: ', calcstep(begin =1, end=10, step=1))"
   ]
  },
  {
   "cell_type": "code",
   "execution_count": null,
   "id": "79b93d42-cbf7-4700-a7b8-2cd19ea65dac",
   "metadata": {},
   "outputs": [],
   "source": [
    "dic={}\n",
    "dic['a'] #없으면 키 에러\n",
    "dic.get('a')#없으면 none 리턴"
   ]
  },
  {
   "cell_type": "markdown",
   "id": "2e0f5a56-ec16-4931-80bc-3fdd8b189dee",
   "metadata": {},
   "source": [
    "# Filter, Map, Reduce"
   ]
  },
  {
   "cell_type": "code",
   "execution_count": null,
   "id": "6a57650c-1534-4925-ac83-b275155ca64f",
   "metadata": {},
   "outputs": [],
   "source": [
    "def fluck(s):\n",
    "    return s < 60\n",
    "    \n",
    "score = [45,89,72,53,94]\n",
    "for s in filter(fluck,score) :\n",
    "    print('낙제점수: ',s)"
   ]
  },
  {
   "cell_type": "code",
   "execution_count": null,
   "id": "96f51e56-b1fe-4b88-bf66-3d133da86ffb",
   "metadata": {},
   "outputs": [],
   "source": [
    "def half(s):\n",
    "    return s/2\n",
    "score = [45,89,72,53,94]\n",
    "for s in map(half, score):\n",
    "    print(s, end=\" \")"
   ]
  },
  {
   "cell_type": "code",
   "execution_count": null,
   "id": "6c672ed4-4d6f-400a-91dd-a7de278eb395",
   "metadata": {},
   "outputs": [],
   "source": [
    "from functools import reduce\n",
    "# reduce 함수에 사용할 집계 함수는 두개의 인수를 받는다.\n",
    "# 첫 번째 매개변수는 누적자(accumulator)가 되고 \n",
    "# 두 번째 매개변수는 현재 값이 넘어오게 된다.\n",
    "def hap(a,b):\n",
    "    return a+b\n",
    "score = [45,89,72,53,94]\n",
    "print(reduce(sum, score))\n",
    "\n",
    "alphabat = ['H','e','l','l','o']\n",
    "print(reduce(hap, alphabat))"
   ]
  },
  {
   "cell_type": "markdown",
   "id": "b5d2b87c-a673-4c7d-858d-7129d0658114",
   "metadata": {},
   "source": [
    "# lambda"
   ]
  },
  {
   "cell_type": "code",
   "execution_count": null,
   "id": "9a791a5f-e7be-4a48-9e82-572c68fad3b9",
   "metadata": {},
   "outputs": [],
   "source": [
    "def myfunc(x,y):\n",
    "    return x+y\n",
    "\n",
    "result = myfunc(10,20)\n",
    "print(result)"
   ]
  },
  {
   "cell_type": "code",
   "execution_count": 6,
   "id": "35448e65-973c-4c33-a140-347a609dfa1f",
   "metadata": {},
   "outputs": [
    {
     "name": "stdout",
     "output_type": "stream",
     "text": [
      "30\n"
     ]
    }
   ],
   "source": [
    "result = lambda x, y: x+y\n",
    "print(result(10,20))"
   ]
  },
  {
   "cell_type": "code",
   "execution_count": null,
   "id": "9385cc45-612e-45d2-8304-e23574f4db54",
   "metadata": {},
   "outputs": [],
   "source": [
    "data = {'a':10, 'b':2, 'c':13, 'd':7}\n",
    "print(sorted(data))\n",
    "print(sorted(data.items(), key=lambda x:x[1]))"
   ]
  },
  {
   "cell_type": "code",
   "execution_count": null,
   "id": "96c75225-ae32-4e50-84dd-c208d313b120",
   "metadata": {},
   "outputs": [],
   "source": [
    "def squared(s):\n",
    "    return s**2\n",
    "\n",
    "a = [1,2,3,4,5]\n",
    "print(list(map(lambda x:x**2, a)))\n",
    "print(list(map(squared, a)))"
   ]
  },
  {
   "cell_type": "code",
   "execution_count": 7,
   "id": "806603b9-0ede-4acc-807d-9faaadb74cd2",
   "metadata": {},
   "outputs": [
    {
     "name": "stdout",
     "output_type": "stream",
     "text": [
      "[3, 7, 11, 15, 19]\n"
     ]
    }
   ],
   "source": [
    "x = [1,3,5,7,9]\n",
    "y = [2,4,6,8,10]\n",
    "\n",
    "print(list(map(lambda x1, y1:x1+y1, x, y)))"
   ]
  },
  {
   "cell_type": "code",
   "execution_count": 8,
   "id": "c5c69e10-a92d-4d17-b7be-ecf0ed3036de",
   "metadata": {},
   "outputs": [
    {
     "name": "stdout",
     "output_type": "stream",
     "text": [
      "[1, 2, 3, 4, 5, 6, 7, 8, 9, 10]\n",
      "[1, 4, 3, 16, 5, 36, 7, 64, 9, 100]\n"
     ]
    }
   ],
   "source": [
    "k = list(range(1,11))\n",
    "print(k)\n",
    "print(list(map(lambda x: x**2 if not x%2 else x, k)))"
   ]
  },
  {
   "cell_type": "code",
   "execution_count": 5,
   "id": "80ff6bf5-4498-4c7d-abee-4640c4afc3d0",
   "metadata": {},
   "outputs": [
    {
     "name": "stdout",
     "output_type": "stream",
     "text": [
      "[45, 30]\n"
     ]
    }
   ],
   "source": [
    "score = [45, 30, 90, 100, 67]\n",
    "print(list(filter(lambda x:x<60, score)))"
   ]
  },
  {
   "cell_type": "code",
   "execution_count": null,
   "id": "2521b0a8-0d77-41ff-8092-06e03d93e370",
   "metadata": {},
   "outputs": [],
   "source": [
    "def calc(op, a, b):\n",
    "    op(a,b)\n",
    "def add(a, b):\n",
    "    print(a+b)\n",
    "def multi(a,b):\n",
    "    print(a*b)\n",
    "calc(add,1,2)"
   ]
  },
  {
   "cell_type": "code",
   "execution_count": null,
   "id": "501937e5-76b2-4f4e-a7a2-f9e210c9ff53",
   "metadata": {},
   "outputs": [],
   "source": [
    "calc(lambda a,b:print(a/b),5,2)"
   ]
  },
  {
   "cell_type": "markdown",
   "id": "2dc50a47-e0ea-4cf1-837e-300c96a909ec",
   "metadata": {},
   "source": [
    "# 표준모듈"
   ]
  },
  {
   "cell_type": "code",
   "execution_count": null,
   "id": "86f29774-2fcc-428f-ae03-11c72d87835e",
   "metadata": {},
   "outputs": [],
   "source": [
    "import time\n",
    "\n",
    "t = time.time()\n",
    "print(time.ctime())"
   ]
  },
  {
   "cell_type": "code",
   "execution_count": null,
   "id": "5b170a6c-5f3c-4cad-a0f1-e94986cd83b0",
   "metadata": {},
   "outputs": [],
   "source": [
    "import time\n",
    "\n",
    "start = time.time()\n",
    "sum = 0\n",
    "for i in range(1, 100000001):\n",
    "    sum += i\n",
    "end = time.time()\n",
    "prin_t"
   ]
  },
  {
   "cell_type": "code",
   "execution_count": null,
   "id": "1a235bae-2c8d-4641-9059-ecefc5bb14e0",
   "metadata": {},
   "outputs": [],
   "source": [
    "import time\n",
    "\n",
    "now = time.localtime()\n",
    "#print(now)\n",
    "print ('%d년 %d월 %d일'%(now.tm_year, now.tm_mon, now.tm_mday))\n",
    "print ('%d시 %d분 %d초'%(now.tm_hour, now.tm_min, now.tm_sec))"
   ]
  },
  {
   "cell_type": "code",
   "execution_count": null,
   "id": "76f6ea10-2fef-499e-91c4-3b8a5ef66288",
   "metadata": {},
   "outputs": [],
   "source": [
    "import time\n",
    "print('이 문장은')\n",
    "time.sleep(2)\n",
    "print('2초마다')\n",
    "time.sleep(2)\n",
    "print('출력됩니다.')"
   ]
  },
  {
   "cell_type": "code",
   "execution_count": null,
   "id": "63ba1d19-4b2b-4a48-8905-6fc73ab3c745",
   "metadata": {},
   "outputs": [],
   "source": [
    "import random\n",
    "\n",
    "random.seed(0)\n",
    "for i in range(5):\n",
    "    print(random.randint(1,10))"
   ]
  },
  {
   "cell_type": "code",
   "execution_count": null,
   "id": "52386784-0446-4f75-bf19-e881945430b1",
   "metadata": {},
   "outputs": [],
   "source": [
    "import random\n",
    "food = ['짜장면', '짬뽕', '탕수육', '군만두']\n",
    "print(food)\n",
    "random.shuffle(food)\n",
    "print(food)"
   ]
  },
  {
   "cell_type": "code",
   "execution_count": null,
   "id": "21fb1a50-afd8-415c-b379-bb03f3b12cfa",
   "metadata": {},
   "outputs": [],
   "source": [
    "print(random.choice(food))"
   ]
  },
  {
   "cell_type": "code",
   "execution_count": null,
   "id": "7e20525e-a057-4a76-be54-9d68db570822",
   "metadata": {},
   "outputs": [],
   "source": [
    "print(random.sample(food, 2))"
   ]
  },
  {
   "cell_type": "markdown",
   "id": "55f67988-668c-4d6b-8136-acf4dfaea08b",
   "metadata": {},
   "source": [
    "[문제] 숫자 맞추기 게임\n",
    "- 1~100사이의 난수를 맞추는 게임\n",
    "- 입력 값과 난수 값을 비교하여 어떤 값이 더 큰지 힌트를 알려준다.\n",
    "- 난수를 맞추면 시도 횟수 출력과 함께 프로그램을 종료한다."
   ]
  },
  {
   "cell_type": "code",
   "execution_count": null,
   "id": "53d6bb3a-655e-436d-9818-d256bcf60699",
   "metadata": {},
   "outputs": [],
   "source": [
    "import random\n",
    "\n",
    "x = random.randint(1,100)\n",
    "while True:\n",
    "    y = int(input('난수맞추기 게임~! 값을 입력해주세요: '))\n",
    "    i += 1\n",
    "    if x == y :\n",
    "        print('정답!! 축하합니당! 시도횟수 총 :',i)\n",
    "        break\n",
    "    if x < y :\n",
    "        print('실패!! 더 작은 값을 추측해보세요~!')\n",
    "    else :\n",
    "        print('실패!! 더 큰 값을 추측해보세요~!')"
   ]
  },
  {
   "cell_type": "code",
   "execution_count": null,
   "id": "8c0030d3-c975-4942-975e-9731a0610fb0",
   "metadata": {},
   "outputs": [],
   "source": [
    "import random\n",
    "\n",
    "num = random.randint(1,100)\n",
    "count = 0\n",
    "while True:\n",
    "    guess = int(input('숫자를 입력하세요: '))\n",
    "    count += 1\n",
    "    if num == guess :\n",
    "        print(f'{count}번만에 맞췄습니다.')\n",
    "        break\n",
    "    elif guess > num :\n",
    "        print('입력한 숫자보다 더 작습니다.')\n",
    "    else : \n",
    "        print('입력한 숫자보다 더 큽니다.')"
   ]
  },
  {
   "cell_type": "markdown",
   "id": "d0a72991-bd8d-4e7b-b014-b9e228267987",
   "metadata": {},
   "source": [
    "# File I/O"
   ]
  },
  {
   "cell_type": "code",
   "execution_count": null,
   "id": "31107c14-da6f-4c68-8ea5-4ed6969cb813",
   "metadata": {},
   "outputs": [],
   "source": [
    "#파일생성\n",
    "f = open('myfile.txt', 'w')\n",
    "f.close()\n",
    "print('End')"
   ]
  },
  {
   "cell_type": "code",
   "execution_count": null,
   "id": "8dd763e0-7d4c-4514-a00b-73887aee107a",
   "metadata": {},
   "outputs": [],
   "source": [
    "# 파일 생성 후 문자열 쓰기\n",
    "f = open('myfile.txt','w')\n",
    "f.write('Hello world')\n",
    "f.close()\n",
    "print('End')"
   ]
  },
  {
   "cell_type": "code",
   "execution_count": null,
   "id": "1dd42c66-2520-449b-9f22-be5b6d5874f6",
   "metadata": {},
   "outputs": [],
   "source": [
    "# 파일 생성 후 한글이 포함된 문자열 쓰기\n",
    "f = open('myfile.txt','w', encoding='utf-8')\n",
    "f.write('안녕하세요!')\n",
    "f.close()\n",
    "print('End')"
   ]
  },
  {
   "cell_type": "code",
   "execution_count": null,
   "id": "8096fc5d-e83e-41f5-b5ea-712ab733ae8b",
   "metadata": {},
   "outputs": [],
   "source": [
    "f = open('song .txt','r')\n",
    "data = f.readlines()\n",
    "print(data)\n",
    "f.close()"
   ]
  },
  {
   "cell_type": "code",
   "execution_count": null,
   "id": "8d662ab0-db34-451b-905f-4e89bf63bbb0",
   "metadata": {},
   "outputs": [],
   "source": [
    "f = open('song .txt','r')\n",
    "data = f.read()\n",
    "print(data)\n",
    "f.close()"
   ]
  },
  {
   "cell_type": "code",
   "execution_count": null,
   "id": "e42f0be6-4684-4593-9261-34de35c28311",
   "metadata": {
    "scrolled": true
   },
   "outputs": [],
   "source": [
    "f = open('song .txt','r')\n",
    "while True:\n",
    "    line = f.readline()\n",
    "    if not line: break\n",
    "    print(line, end='')\n",
    "f.close()"
   ]
  },
  {
   "cell_type": "markdown",
   "id": "c2292100-f9fe-48b0-b222-9decd7b26468",
   "metadata": {},
   "source": [
    "# 데이터 추가"
   ]
  },
  {
   "cell_type": "code",
   "execution_count": null,
   "id": "2ffa96a4-5644-467f-8f83-fee02b4be994",
   "metadata": {},
   "outputs": [],
   "source": [
    "f = open('song .txt', 'a')\n",
    "f.write ('========================================')\n",
    "f.close()\n",
    "print('end')"
   ]
  },
  {
   "cell_type": "markdown",
   "id": "6ae221f3-dfdb-4fac-9f47-6ca28aa55a43",
   "metadata": {},
   "source": [
    "## with 문 사용\n",
    "- with 문을 사용하면 with 블럭을 벗어나는 순간 열린 파일 객체가 자동으로 닫힌다."
   ]
  },
  {
   "cell_type": "code",
   "execution_count": null,
   "id": "ae500091-1005-4b4e-ad22-130886f709b3",
   "metadata": {
    "scrolled": true
   },
   "outputs": [],
   "source": [
    "with open('song .txt', 'r') as f:\n",
    "    print(f.read())"
   ]
  },
  {
   "cell_type": "code",
   "execution_count": null,
   "id": "d2ddf143-0e56-4848-8451-47590b5f3ebe",
   "metadata": {},
   "outputs": [],
   "source": [
    "poem = \"\"\"Program is fun\n",
    "When the word is done\n",
    "if you wanna make your work also fun\n",
    "use Python!\n",
    "\"\"\"\n",
    "with open('poem.txt', 'w') as f:\n",
    "    f.write(poem)"
   ]
  },
  {
   "cell_type": "code",
   "execution_count": null,
   "id": "031c7f0f-a012-43da-a7f0-e0fa3423bf7f",
   "metadata": {
    "scrolled": true
   },
   "outputs": [],
   "source": [
    "f = open ('poem.txt', 'r')\n",
    "f.seek(3, 0)\n",
    "print(f.read())"
   ]
  },
  {
   "cell_type": "code",
   "execution_count": null,
   "id": "c6fc845c-825d-414f-87b3-a564f8dad17b",
   "metadata": {},
   "outputs": [],
   "source": [
    "original = open('python.jpg', 'rb')\n",
    "target = open('copy_python.jpg','wb')\n",
    "data = original.read( )\n",
    "target.write(data)\n",
    "original.close\n",
    "target.close\n",
    "print('end')"
   ]
  },
  {
   "cell_type": "markdown",
   "id": "ac17866f-2ebf-4060-aee0-b3eb41fe4cf9",
   "metadata": {},
   "source": [
    "[문제] 학생들의 성적 합계, 평균 구하여 저장하기\n",
    "<pre>\n",
    "    score.tx 파일에 저장되어 있는 학생들의 점수를 읽어서 합계와 평균을 구한 후 result.txt에 결과를 저장하세요.\n",
    "(저장형식)\n",
    "    이름 합계 평균\n",
    "    홍길동 370점 70.0\n",
    "    임꺽정\n",
    "</pre>"
   ]
  },
  {
   "cell_type": "code",
   "execution_count": null,
   "id": "6afc318e-053c-4c68-9562-b55e31540b7b",
   "metadata": {},
   "outputs": [],
   "source": [
    "source = open('score.txt', 'r', encoding ='utf-8')\n",
    "target = open('result.txt', 'w', encoding = 'utf-8')\n",
    "target.write ('이름\\t합계\\t평균\\n')\n",
    "while True:\n",
    "    score = source.readline()\n",
    "    if not score: break\n",
    "    data = score.split()\n",
    "    total = int(data[1])+int(data[2])+int(data[3])\n",
    "    avg = total / 3\n",
    "    target.write('%3s\\t%4d\\t%.2f\\n'%(data[0],total,avg))\n",
    "source.close()\n",
    "target.close()\n",
    "print('End')"
   ]
  },
  {
   "cell_type": "markdown",
   "id": "39df4e17-0c4e-4277-8afb-8ac9039a21c8",
   "metadata": {},
   "source": [
    "# File 과 Directory"
   ]
  },
  {
   "cell_type": "markdown",
   "id": "49aacebf-dcb1-46e5-8249-1d93280dd4dc",
   "metadata": {},
   "source": [
    "## os 모듈"
   ]
  },
  {
   "cell_type": "code",
   "execution_count": null,
   "id": "5a057d5a-052b-4394-bad5-c3a83714982d",
   "metadata": {},
   "outputs": [],
   "source": [
    "import os\n",
    "\n",
    "path = r'g:\\내 드라이브\\DIMA 4\\01.Python'\n",
    "os.chdir(path)"
   ]
  },
  {
   "cell_type": "code",
   "execution_count": null,
   "id": "8f1245c6-17e9-4b29-8582-4f7d2df2b8d0",
   "metadata": {},
   "outputs": [],
   "source": [
    "# 현재 작업 디렉토리 및 경로 변경\n",
    "\n",
    "c_path = os.getcwd()\n",
    "print('현재 작업 디렉토리: ', c_path)\n",
    "os.chdir('..')\n",
    "print('상위 디렉토리 이동')\n",
    "c_path = os.getcwd()\n",
    "print('현재 작업 디렉토리: ', c_path)"
   ]
  },
  {
   "cell_type": "code",
   "execution_count": null,
   "id": "43e203a1-3486-4324-94fc-719fa5d38708",
   "metadata": {},
   "outputs": [],
   "source": [
    "# 파일 및 디렉토리 목록 확인\n",
    "\n",
    "path = r'g:\\내 드라이브\\DIMA 4\\01.Python'\n",
    "os.chdir(path)\n",
    "list = os.listdir()\n",
    "for item in list:\n",
    "    if os.path.isfile(item):\n",
    "        print('File:',item, ',', os.path.getsize(item), 'bytes')\n",
    "    else:\n",
    "        print('Dir:',item)"
   ]
  },
  {
   "cell_type": "markdown",
   "id": "7af0c8dd-ac26-42b4-b404-b2ac7867e147",
   "metadata": {},
   "source": [
    "## glob 모듈"
   ]
  },
  {
   "cell_type": "code",
   "execution_count": null,
   "id": "ffdccd43-8ea4-4bca-be45-606ae4bcc981",
   "metadata": {},
   "outputs": [],
   "source": [
    "import os\n",
    "import glob\n",
    "os. chdir('..')\n",
    "print('현재 작업 디렉토리: ', os.getcwd())\n",
    "# 현재 디렉토리 내 모든 디렉토리 출력: **/, */\n",
    "for f in glob.glob('**/'):\n",
    "    print(f)"
   ]
  },
  {
   "cell_type": "code",
   "execution_count": null,
   "id": "a2823c87-16a9-478a-a439-935931eb2c51",
   "metadata": {},
   "outputs": [],
   "source": [
    "# 현재 디렉토리 내 디렉토리와 파일 출력: **, *\n",
    "os.chdir('./01.Python')\n",
    "for f in glob.glob('**'):\n",
    "    print(f)"
   ]
  },
  {
   "cell_type": "code",
   "execution_count": null,
   "id": "a624d0fa-8a3d-44e8-9e2e-2a6e6386555a",
   "metadata": {},
   "outputs": [],
   "source": [
    "os.chdir (r'g:\\내 드라이브\\DIMA 4\\01.Python')\n",
    "for f in glob.glob('*.ipynb'):\n",
    "    print(f)"
   ]
  },
  {
   "cell_type": "markdown",
   "id": "4f374c71-f0ba-4334-be10-e5cead45ae65",
   "metadata": {},
   "source": [
    "# 예외 (Exception)"
   ]
  },
  {
   "cell_type": "code",
   "execution_count": null,
   "id": "8546fa32-9a32-452e-8f9c-810f01eccb5e",
   "metadata": {},
   "outputs": [],
   "source": [
    "## 예외 발생 상황"
   ]
  },
  {
   "cell_type": "code",
   "execution_count": null,
   "id": "959d70f2-d1e4-403d-a7f4-49a01b81ac0d",
   "metadata": {},
   "outputs": [],
   "source": [
    "# indexef\n",
    "a = [1,2,3,4,5]\n",
    "# print(a[5])\n",
    "b = '1234b'\n",
    "c = int(b)\n",
    "#zero divisionError\n",
    "#print(10/10)\n",
    "\n",
    "#FilenotfoundError\n",
    "f = open('now_exists.txt,'3)"
   ]
  },
  {
   "cell_type": "code",
   "execution_count": null,
   "id": "e8b8cb8c-cdf1-4295-9c58-3d3c4e46cfd2",
   "metadata": {},
   "outputs": [],
   "source": [
    "# 예외처리 (try~except)"
   ]
  },
  {
   "cell_type": "code",
   "execution_count": null,
   "id": "46ecaecb-1c76-49b2-b8da-eaf4e35f012e",
   "metadata": {},
   "outputs": [],
   "source": [
    "try:\n",
    "    data = 10/0\n",
    "except: \n",
    "    print('0으로 나눌 수 없습니다.')\n",
    "print('end')"
   ]
  },
  {
   "cell_type": "markdown",
   "id": "affebc7f-faf7-47e3-a6a8-0698a8b9d39f",
   "metadata": {},
   "source": [
    "## 예외 처리 (try~except~except)"
   ]
  },
  {
   "cell_type": "code",
   "execution_count": null,
   "id": "a00c426b-ccb1-4f4e-bcb2-550a1ebd01b1",
   "metadata": {},
   "outputs": [],
   "source": [
    "try :\n",
    "    a = [1,2,3]\n",
    "    # print(10/0)\n",
    "    print(a[3])\n",
    "except ZeroDivisionError as ze:\n",
    "    print('0으로 나눌 수 없습니다.')\n",
    "    print(ze)\n",
    "except IndexError as ie:\n",
    "    print('리스트의 범위를 벗어났습니다.')\n",
    "    print(ie)\n",
    "print('end')"
   ]
  },
  {
   "cell_type": "code",
   "execution_count": null,
   "id": "860f84ae-3306-41c6-9957-e6eaa42f9f96",
   "metadata": {},
   "outputs": [],
   "source": [
    "try:\n",
    "    print(10/0)\n",
    "    a = [1,2,3]\n",
    "    print(a[3])\n",
    "except (ZeroDivisionError, IndexError) as e:\n",
    "    print(e)"
   ]
  },
  {
   "cell_type": "markdown",
   "id": "a59a65b1-f69f-430d-8742-e87ae771eeaa",
   "metadata": {},
   "source": [
    "## 예외 처리 (try~except~finally)"
   ]
  },
  {
   "cell_type": "code",
   "execution_count": null,
   "id": "cf10eef3-b5fe-45b7-a2ac-2ae37a3c5b40",
   "metadata": {},
   "outputs": [],
   "source": [
    "try: \n",
    "    a = [1,2,3]\n",
    "    print(a[3])\n",
    "except IndexError:\n",
    "    print('리스트의 범위를 벗어났습니다.')\n",
    "finally:\n",
    "    print('항상 실행되는 코드')\n",
    "print('end')"
   ]
  },
  {
   "cell_type": "code",
   "execution_count": null,
   "id": "74f267b5-48e1-422d-b6a2-fb9218d80522",
   "metadata": {},
   "outputs": [],
   "source": [
    "def inputNum():\n",
    "    num =int(input('양수 입력: '))\n",
    "    if num < 0:\n",
    "        raise ValueError('양의 정수만 입력')\n",
    "    return num \n",
    "try:\n",
    "    num = inputNum()\n",
    "    print(num)\n",
    "except ValueError as e:\n",
    "    print(e)"
   ]
  },
  {
   "cell_type": "code",
   "execution_count": null,
   "id": "7d7f4d1d-0bbe-4eed-900c-7a316e325a0f",
   "metadata": {},
   "outputs": [],
   "source": [
    "a = 10\n",
    "print((type (a)))\n",
    "\n",
    "b = 'abc'\n",
    "print((type (b)))"
   ]
  },
  {
   "cell_type": "markdown",
   "id": "7818645c-54bf-4a2d-ab8c-b416e4276772",
   "metadata": {},
   "source": [
    "# Class"
   ]
  },
  {
   "cell_type": "code",
   "execution_count": null,
   "id": "13166a48-e65e-4174-beef-1fb2b984ecdb",
   "metadata": {},
   "outputs": [],
   "source": [
    "class FourCal:\n",
    "    pass\n",
    "    #생성자 : 클래스의 객체를 생성할 때 멤버 변수를 초기화 하기 위한 함수\n",
    "    #def __init__(self, first, second):\n",
    "        #self.first = first #FourCal 클래스의 매개 변수\n",
    "        #self.second = second #FourCal 클래스의 매개 변수\n",
    "#a = FourCal(3,4)\n",
    "a=FourCal()\n",
    "#print(a.first)\n",
    "#print(a.second)"
   ]
  },
  {
   "cell_type": "code",
   "execution_count": null,
   "id": "85f46129-8ee6-443a-acd8-eae9965d0502",
   "metadata": {},
   "outputs": [],
   "source": [
    "class Account:\n",
    "    # Account 클래스의 속성을 (멤버변수) 특정 값으로 초기화 하기 위한 생성자\n",
    "    def __init__(self, accNo, balance, owner):\n",
    "        self.accNo = accNo\n",
    "        self.balance = balance\n",
    "        self.owner = owner\n",
    "    # Account 객체가 가지고 있는 잔고 값을 조회하는 함수\n",
    "    def getBalance(self):\n",
    "        return self.balance\n",
    "\n",
    "    def accountInfo (self):\n",
    "        print(f'계좌번호 : {self.accNo}, 소유주:{self.owner}')\n",
    "\n",
    "a1 = Account('11-11',500,'홍길동')\n",
    "a2 = Account('11-12',600,'손오공')\n",
    "\n",
    "a1.accountInfo()\n",
    "print('잔고:', a1.getBalance())\n",
    "a2.accountInfo()"
   ]
  },
  {
   "cell_type": "markdown",
   "id": "438f41be-eeb2-4c78-b15a-4ab26a9cc981",
   "metadata": {},
   "source": [
    "# 상속"
   ]
  },
  {
   "cell_type": "code",
   "execution_count": null,
   "id": "0ef0cee8-11b4-4216-903a-5d944e216344",
   "metadata": {},
   "outputs": [],
   "source": [
    "class Human:\n",
    "    def __init__(self, name, age):\n",
    "        self.name = name\n",
    "        self.age = age\n",
    "    def intro(self) :\n",
    "        print(f'저는 {self.age}살 {self.name}입니다.')\n",
    "kim = Human('김철수', 29)\n",
    "kim.intro()\n",
    "\n",
    "lee = Human('이길동',19)\n",
    "lee.intro()\n",
    "    "
   ]
  },
  {
   "cell_type": "code",
   "execution_count": null,
   "id": "d8446b96-283e-4191-a8a1-480c1db9acd0",
   "metadata": {},
   "outputs": [],
   "source": [
    "class Student(Human):\n",
    "    def __init__(self, name, age, stdNo):\n",
    "        super().__init__(name, age) #부모 클래스(Human)의 생성자 호출\n",
    "        self.stdNo = stdNo\n",
    "\n",
    "    def study(self):\n",
    "        print('Study Hard~!!')\n",
    "    # method overriding (매서드 재정의)\n",
    "    # 상속관계에서 부모 클래스에 정의된 매서드(함수)를 자식 클래스의 상황에 맞게 재정의 하는 것\n",
    "    def intro(self):\n",
    "        super().intro() #부모 클래스(Human)의 intro() 메서드 호출\n",
    "        print(f'학번은 {self.stdNo}입니다.')\n",
    "kim = Student('김한별', 21, '2024')\n",
    "kim.study()\n",
    "kim.intro()"
   ]
  },
  {
   "cell_type": "markdown",
   "id": "f2e838ba-e59d-4638-8858-2d29101983bf",
   "metadata": {},
   "source": [
    "# 은닉 (Encapsulation)"
   ]
  },
  {
   "cell_type": "markdown",
   "id": "c916d7bc-dec8-4c29-a148-13e008434bb0",
   "metadata": {},
   "source": [
    "- property를 이용한 setter/getter\n",
    "    - 멤버 변수에 접근할 때 getter/setter 메서드를 이용하지 않고 직접 멤버 변수를 호출하여 사용 가능\n",
    "    - 하지만 내부적으로는 getter/setter 메서드를 통해 값을 읽고 쓰게 된다."
   ]
  },
  {
   "cell_type": "code",
   "execution_count": 4,
   "id": "55ca91d9-b74e-4e32-92d5-1d8b53643642",
   "metadata": {},
   "outputs": [
    {
     "name": "stdout",
     "output_type": "stream",
     "text": [
      "setMonth() call\n",
      "getMonth() call\n",
      "3\n",
      "setMonth() call\n",
      "getMonth() call\n",
      "11\n",
      "getMonth() call\n",
      "11\n",
      "{'_Date__inner_month': 11, '__inner_month': 10}\n"
     ]
    }
   ],
   "source": [
    "class Date:\n",
    "    def __init__(self, month):\n",
    "        # 가급적 멤버 변수의 이름을 어렵게 설정\n",
    "        self.__inner_month = month\n",
    "        \n",
    "    def getMonth(self) : \n",
    "        print('getMonth() call')\n",
    "        return self.__inner_month\n",
    "        \n",
    "    def setMonth(self, month):\n",
    "        if 1<= month<=12:\n",
    "            self.__inner_month = month\n",
    "        print('setMonth() call')\n",
    "        \n",
    "    month = property(getMonth, setMonth)\n",
    "    \n",
    "today = Date(3)\n",
    "\n",
    "#print(today.month)\n",
    "today.month = 15\n",
    "print(today.month)\n",
    "today.month = 11\n",
    "print(today.month)\n",
    "today.__inner_month = 10 # 은닉된 멤버 변수에 새로운 값을 쓴 것이 아니라 새로운 멤버 변수를 추가한 것임\n",
    "print(today.month)\n",
    "print(today.__dict__)"
   ]
  },
  {
   "cell_type": "markdown",
   "id": "88fc5a43-362d-4a55-bd7c-4d55879f79e8",
   "metadata": {},
   "source": [
    "- @property 데코레이션을 이용한 setter/getter\n",
    "    - getter 메서드 앞: @property\n",
    "    - setter 메서드 앞: @<프로퍼티 이름>.setter "
   ]
  },
  {
   "cell_type": "code",
   "execution_count": 8,
   "id": "0eefa900-c950-4385-b205-f7bc47a05de7",
   "metadata": {},
   "outputs": [
    {
     "name": "stdout",
     "output_type": "stream",
     "text": [
      "getMonth()call\n",
      "3\n",
      "setMonth() call\n"
     ]
    }
   ],
   "source": [
    "class Date:\n",
    "    def __init__(self, month):\n",
    "        self.__inner_month = month\n",
    "    @property\n",
    "    def month(self):\n",
    "        print('getMonth()call')\n",
    "        return self.__inner_month\n",
    "    @month.setter\n",
    "    def month(self, month):\n",
    "         if 1<= month<=12:\n",
    "            self.__inner_month = month\n",
    "            print('setMonth() call')\n",
    "today = Date(3)\n",
    "print(today.month)\n",
    "today.month = 4"
   ]
  },
  {
   "cell_type": "markdown",
   "id": "ef273409-5fd3-4849-83ae-69027e0ed6ba",
   "metadata": {},
   "source": [
    "# 사용자 정의 예외 클래스"
   ]
  },
  {
   "cell_type": "code",
   "execution_count": 11,
   "id": "622cab89-2e6a-4e03-a0dc-ffca38a09f15",
   "metadata": {},
   "outputs": [
    {
     "ename": "MyException",
     "evalue": "Test",
     "output_type": "error",
     "traceback": [
      "\u001b[1;31m---------------------------------------------------------------------------\u001b[0m",
      "\u001b[1;31mMyException\u001b[0m                               Traceback (most recent call last)",
      "Cell \u001b[1;32mIn[11], line 5\u001b[0m\n\u001b[0;32m      2\u001b[0m     \u001b[38;5;28;01mdef\u001b[39;00m \u001b[38;5;21m__init__\u001b[39m(\u001b[38;5;28mself\u001b[39m, message):\n\u001b[0;32m      3\u001b[0m         \u001b[38;5;28msuper\u001b[39m()\u001b[38;5;241m.\u001b[39m\u001b[38;5;21m__init__\u001b[39m(message)\n\u001b[1;32m----> 5\u001b[0m \u001b[38;5;28;01mraise\u001b[39;00m MyException(\u001b[38;5;124m\"\u001b[39m\u001b[38;5;124mTest\u001b[39m\u001b[38;5;124m\"\u001b[39m)\n",
      "\u001b[1;31mMyException\u001b[0m: Test"
     ]
    }
   ],
   "source": [
    "class MyException(Exception):\n",
    "    def __init__(self, message):\n",
    "        super().__init__(message)\n",
    "        \n",
    "raise MyException(\"Test\")"
   ]
  },
  {
   "cell_type": "markdown",
   "id": "d66f76a9-8c09-410b-a2a3-46808a180e44",
   "metadata": {},
   "source": [
    "# 다형성 (Polymorphism) - 오버라이딩"
   ]
  },
  {
   "cell_type": "code",
   "execution_count": 22,
   "id": "b356ee6d-0d22-4bb5-8179-e8692f860982",
   "metadata": {},
   "outputs": [
    {
     "name": "stdout",
     "output_type": "stream",
     "text": [
      "False\n",
      "True\n"
     ]
    }
   ],
   "source": [
    "class MyDate:\n",
    "    def __init__(self, year, month, day):\n",
    "        self.year = year\n",
    "        self.month = month\n",
    "        self.day =  day\n",
    "    # object 클래스에 있는 __str__매서드 재정의\n",
    "    def __str__(self):\n",
    "        return f'{self.year}-{self.month}-{self.day}'\n",
    "    def __eq__(self, other): #참조값 같게 만들어주\n",
    "        return self.year == other.year and self.month == other.month and self.day == other.day\n",
    "\n",
    "    def __gt__(self, other):\n",
    "        if self.year > other.year:\n",
    "            return True\n",
    "        elif self.year == other.year and self.month > other.month:\n",
    "            return True\n",
    "        elif self.year == other.year and self.month == other.month and self.day > other.day:\n",
    "            return True\n",
    "        else:\n",
    "            return False\n",
    "        \n",
    "d1 = MyDate(2024, 3, 26)\n",
    "d2 = MyDate(2024, 3, 25) # 참조값 달라서 false\n",
    "print(d1 == d2)\n",
    "d2 = d1 # 참조값 같아서 true\n",
    "print(d1==d2)"
   ]
  },
  {
   "cell_type": "markdown",
   "id": "87430e45-793f-4f3b-8853-7498181c574f",
   "metadata": {},
   "source": [
    "# Banking System"
   ]
  },
  {
   "cell_type": "code",
   "execution_count": 1,
   "id": "3617f152-002d-4760-bc45-243ae6ee651d",
   "metadata": {},
   "outputs": [
    {
     "name": "stdout",
     "output_type": "stream",
     "text": [
      "소유주 :홍길동, 계좌번호: 11-11, 잔고: 500\n",
      "소유주 :김철수, 계좌번호: 11-12, 잔고: 1000\n",
      "홍길동->김철수 계좌이체\n",
      "이제 잔고가 부족합니다.\n",
      "소유주 :홍길동, 계좌번호: 11-11, 잔고: 500\n",
      "소유주 :김철수, 계좌번호: 11-12, 잔고: 1000\n",
      "11-11 계좌 검색\n",
      "소유주 :홍길동, 계좌번호: 11-11, 잔고: 500\n"
     ]
    }
   ],
   "source": [
    "from bank import Account, BankManager, InvalidTransactionException\n",
    "\n",
    "a1 = Account('홍길동','11-11',500)\n",
    "print(a1.showAccountInfo())\n",
    "\n",
    "a2 = Account('김철수', '11-12', 1000)\n",
    "print(a2.showAccountInfo())\n",
    "\n",
    "print('홍길동->김철수 계좌이체')\n",
    "try:\n",
    "    a1.transfer(600, a2)\n",
    "except InvalidTransactionException as e :\n",
    "    print(e)\n",
    "print(a1.showAccountInfo())\n",
    "print(a2.showAccountInfo())\n",
    "\n",
    "bm = BankManager()\n",
    "bm.addAccount(a1)\n",
    "bm.addAccount(a2)\n",
    "print('11-11 계좌 검색')\n",
    "r = bm.searchAccount('11-11')\n",
    "if r == None:\n",
    "    print('검색 결과가 없습니다.')\n",
    "else:\n",
    "    print(r.showAccountInfo())"
   ]
  },
  {
   "cell_type": "code",
   "execution_count": 4,
   "id": "322b69f8-8c8e-4ed6-b795-5ab3f1390197",
   "metadata": {},
   "outputs": [
    {
     "name": "stdout",
     "output_type": "stream",
     "text": [
      "--------------------\n",
      "Welcome to DIMA Bank\n",
      "--------------------\n",
      "1. 계좌생성\n",
      "2. 입금\n",
      "3. 출금\n",
      "4. 이체\n",
      "5. 전체 계좌정보 출력\n",
      "6. 종료\n"
     ]
    },
    {
     "name": "stdin",
     "output_type": "stream",
     "text": [
      "메뉴 선택:  6\n"
     ]
    },
    {
     "name": "stdout",
     "output_type": "stream",
     "text": [
      "뱅킹 시스템 종료!\n"
     ]
    }
   ],
   "source": [
    "from bank import Account, BankManager, InvalidTransactionException\n",
    "\n",
    "def print_main_menu():\n",
    "    print('--------------------')\n",
    "    print('Welcome to DIMA Bank')\n",
    "    print('--------------------')\n",
    "    print('1. 계좌생성')\n",
    "    print('2. 입금')\n",
    "    print('3. 출금')\n",
    "    print('4. 이체')\n",
    "    print('5. 전체 계좌정보 출력')\n",
    "    print('6. 종료')\n",
    "\n",
    "manager = BankManager()\n",
    "manager.loadData()\n",
    "while True:    \n",
    "    print_main_menu()\n",
    "    num = input('메뉴 선택: ')\n",
    "    if num == '1':\n",
    "        name = input('이름을 입력하세요: ')\n",
    "        accNo = input('계좌번호를 입력하세요: ')\n",
    "        balance = int(input('초기 잔고금액을 설정하세요: '))\n",
    "        a1 = Account(name,accNo,balance)\n",
    "        manager.addAccount(a1)\n",
    "        print('다음과 같이 계좌가 생성되었습니다.',a1.showAccountInfo())\n",
    "        \n",
    "    elif num == '2':\n",
    "        while True:\n",
    "            accNo = input('당신의 계좌번호를 입력하세요: ')\n",
    "            result = manager.searchAccount(accNo)\n",
    "            if result == None :\n",
    "                print('계좌번호가 잘못되었습니다. 다시 입력하세요')\n",
    "            else: \n",
    "                break\n",
    "        amount = int(input('당신의 계좌가 확인되었습니다. 입금할 금액을 입력하세요: '))\n",
    "        result.deposit(amount)\n",
    "        print('처리 후 잔액을 확인해주세요.', result.showAccountInfo())\n",
    "        \n",
    "    elif num == '3':\n",
    "        while True:\n",
    "            accNo = input('당신의 계좌번호를 입력하세요: ')\n",
    "            result = manager.searchAccount(accNo)\n",
    "            if result == None :\n",
    "                print('계좌번호가 잘못되었습니다. 다시 입력하세요')\n",
    "            else: \n",
    "                break\n",
    "        amount = int(input('당신의 계좌가 확인되었습니다. 출금할 금액을 입력하세요: '))\n",
    "        \n",
    "        if amount != None:\n",
    "            try:\n",
    "                result.withdraw(amount)\n",
    "                print('처리 후 잔액을 확인해주세요.', result.showAccountInfo())\n",
    "            except InvalidTransactionException as e:\n",
    "                print(e)\n",
    "         \n",
    "    elif num == '4':\n",
    "        from_accNo = input('출금 계좌번호: ')\n",
    "        to_accNo = input('입금 계좌번호: ')\n",
    "        amount = int(input('이체할 금액을 입력해주세요: '))\n",
    "        from_a = manager.searchAccount (from_accNo)\n",
    "        to_a = manager.searchAccount(to_accNo)\n",
    "        if from_a != None and to_a != None:\n",
    "            try:\n",
    "                from_a.transfer(amount, to_a)\n",
    "                print('이체가 완료되었습니다',  from_a.showAccountInfo())\n",
    "            except InvalidTransactionException as e:\n",
    "                print(e)\n",
    "        else:\n",
    "            print('출금 또는 입금계좌가 존재하지 않습니다.')\n",
    "    elif num == '5':\n",
    "        all_account = manager.getAllAcountList ()\n",
    "        for a1 in all_account:\n",
    "            print(a1.showAccountInfo())\n",
    "    elif num == '6':\n",
    "        manager.saveData()\n",
    "        print('뱅킹 시스템 종료!')\n",
    "        break\n",
    "    else:\n",
    "        print('메뉴선택 오류!')"
   ]
  }
 ],
 "metadata": {
  "kernelspec": {
   "display_name": "Python 3 (ipykernel)",
   "language": "python",
   "name": "python3"
  },
  "language_info": {
   "codemirror_mode": {
    "name": "ipython",
    "version": 3
   },
   "file_extension": ".py",
   "mimetype": "text/x-python",
   "name": "python",
   "nbconvert_exporter": "python",
   "pygments_lexer": "ipython3",
   "version": "3.11.7"
  }
 },
 "nbformat": 4,
 "nbformat_minor": 5
}
