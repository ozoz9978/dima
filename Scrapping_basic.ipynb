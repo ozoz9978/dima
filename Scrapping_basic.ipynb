{
 "cells": [
  {
   "cell_type": "markdown",
   "id": "70fc1ea2-4343-4bd3-9456-85248ca80d36",
   "metadata": {},
   "source": [
    "# request 패키지"
   ]
  },
  {
   "cell_type": "code",
   "execution_count": null,
   "id": "559a8328-6299-4a4d-b611-861edec17783",
   "metadata": {},
   "outputs": [],
   "source": [
    "!pip install requests"
   ]
  },
  {
   "cell_type": "code",
   "execution_count": null,
   "id": "c6a393c0-2995-4f4d-b8db-0e34c23088b5",
   "metadata": {},
   "outputs": [],
   "source": [
    "import requests\n",
    "\n",
    "URL = 'https://www.naver.com'\n",
    "response = requests.get(URL) # get 방식으로 요청\n",
    "# print(response.status_code) #서버가 요청을 처리한 결과를 나타내는 코드\n",
    "# print(response.text) #서버로부터 받은 응답을 문자열로 다 나타냄\n",
    "\n",
    "URL = 'https://search.naver.com/search.naver'\n",
    "query = {'query':'python'} #query는 검색어를 뜻함\n",
    "response = requests.get(URL, params=query) #get뒤에 검색어 조건 추가를 위해 params=\n",
    "print(response.status_code)\n",
    "print(response.text)"
   ]
  },
  {
   "cell_type": "markdown",
   "id": "54b81e3b-1386-44fb-a0d7-8b307f18230b",
   "metadata": {},
   "source": [
    "# user_agent 값 설정"
   ]
  },
  {
   "cell_type": "code",
   "execution_count": null,
   "id": "1417f65b-6d4c-4256-b38f-51162c6c4b42",
   "metadata": {},
   "outputs": [],
   "source": [
    "- 로봇이 아님을 나타내기 위해서  user-agent라는 값을 header에 넣어서 보냄\n",
    "- 직접적인 URL주소로 요청 시 웹 사이트에서 웹 크롤링을 통해 접근한 것으로 감지하고 접속을 차단하게 됨\n",
    "- user_agent 헤더값을 포함하여 요청하면 브라우저를 통해 요청하는 것으로 인식되어 해결\n",
    "- 웹 브라우저 실행 -> F12 개발자 모드 진입 -> console에 navigator.userAgent 입력\n",
    "\n",
    "headers = {'user-agent':'Mozilla/5.0 (Windows NT 10.0; Win64; x64) AppleWebKit/537.36 (KHTML, like Gecko) Chrome/123.0.0.0 Safari/537.36'}"
   ]
  },
  {
   "cell_type": "code",
   "execution_count": 7,
   "id": "033c3845-288c-4519-ade1-6594af28e437",
   "metadata": {},
   "outputs": [
    {
     "name": "stdout",
     "output_type": "stream",
     "text": [
      "저장완료!\n"
     ]
    }
   ],
   "source": [
    "import requests\n",
    "\n",
    "URL = 'http://www.google.com/search'\n",
    "params = {'q':'python'}\n",
    "headers = {'user-agent':'Mozilla/5.0 (Windows NT 10.0; Win64; x64) AppleWebKit/537.36 (KHTML, like Gecko) Chrome/122.0.0.0 Safari/537.36 Edg/122.0.0.0'}\n",
    "\n",
    "response = requests.get(URL, params = params)\n",
    "response.raise_for_status() #응답코드가 200이 아니면 오류내고 멈춤\n",
    "result = response.text\n",
    "with open('mygoogle.html','w', encoding='utf-8') as f:\n",
    "    f.write(result)\n",
    "print('저장완료!')"
   ]
  },
  {
   "cell_type": "markdown",
   "id": "28cc7a1a-e492-47ab-b126-03ceaa1c272a",
   "metadata": {},
   "source": [
    "## [실습] 네이버 데이터랩에서 실시간 인기 검색어 추출"
   ]
  },
  {
   "cell_type": "code",
   "execution_count": 28,
   "id": "4d7ecdd4-e284-40b2-96c9-ca9070362c80",
   "metadata": {},
   "outputs": [
    {
     "name": "stdout",
     "output_type": "stream",
     "text": [
      "트위드자켓\n"
     ]
    }
   ],
   "source": [
    "import requests \n",
    "\n",
    "response = requests.get('https://datalab.naver.com')\n",
    "html_text = response.text\n",
    "#temp = html_text.split('<em class=\"num\">1</em>')[1] #()안의 값 밑 전체의 내용이 나오게 됨. \n",
    "for i in range(1,10)\n",
    "temp = temp.split('<span class=\"title\">')[1]\n",
    "temp = temp.split('</span>')[0]\n",
    "print(temp)\n"
   ]
  },
  {
   "cell_type": "markdown",
   "id": "975913b3-b319-4ca6-9c3a-2679b4335fd0",
   "metadata": {},
   "source": [
    "# BeautifulSoup 패키지"
   ]
  },
  {
   "cell_type": "markdown",
   "id": "249fe488-042f-4f17-a934-c9a26bc49e3f",
   "metadata": {},
   "source": [
    "## Parser별 출력 결과 비교"
   ]
  },
  {
   "cell_type": "code",
   "execution_count": null,
   "id": "1af54e92-9640-4d09-bb81-73da74c1bad2",
   "metadata": {},
   "outputs": [],
   "source": [
    "!pip install html5lib\n",
    "#!pip install lxml"
   ]
  },
  {
   "cell_type": "code",
   "execution_count": 29,
   "id": "66e27437-2f07-487a-9c1d-f30cf956277d",
   "metadata": {},
   "outputs": [
    {
     "name": "stdout",
     "output_type": "stream",
     "text": [
      "html.parser\n",
      "<a></a>\n",
      "----------------------------------------\n",
      "lxml\n",
      "<html><body><a> </a></body></html>\n",
      "----------------------------------------\n",
      "xml\n",
      "<?xml version=\"1.0\" encoding=\"utf-8\"?>\n",
      "<a> </a>\n",
      "----------------------------------------\n",
      "html5lib\n",
      "<html><head></head><body><a> <p></p></a></body></html>\n",
      "----------------------------------------\n"
     ]
    }
   ],
   "source": [
    "from bs4 import BeautifulSoup\n",
    "\n",
    "soup = BeautifulSoup ('<a></p>', 'html.parser')\n",
    "print('html.parser')\n",
    "print(soup)\n",
    "print('-'*40)\n",
    "\n",
    "soup = BeautifulSoup ('<a> </p>', 'lxml')\n",
    "print('lxml')\n",
    "print(soup)\n",
    "print('-'*40)\n",
    "\n",
    "soup = BeautifulSoup ('<a> </p>', 'xml')\n",
    "print('xml')\n",
    "print(soup)\n",
    "print('-'*40)\n",
    "\n",
    "soup = BeautifulSoup ('<a> </p>', 'html5lib')\n",
    "print('html5lib')\n",
    "print(soup)\n",
    "print('-'*40)"
   ]
  },
  {
   "cell_type": "markdown",
   "id": "758444c6-0ce9-4cf0-a3b6-959c670ddb4d",
   "metadata": {},
   "source": [
    "## 기본 사용법"
   ]
  },
  {
   "cell_type": "code",
   "execution_count": null,
   "id": "188161ad-8907-4e7f-b32d-b22f320e4c3f",
   "metadata": {},
   "outputs": [],
   "source": [
    "import requests\n",
    "from bs4 import BeautifulSoup\n",
    "\n",
    "URL = 'https://ko.wikipedia.org/wiki/%EC%9B%B9_%ED%81%AC%EB%A1%A4%EB%9F%AC'\n",
    "response = requests.get(URL).text\n",
    "페이지 싹긁어옴\n",
    "# soup 객체 생성\n",
    "soup = BeautifulSoup(response.text, 'lxml')\n",
    "\n",
    "# 태그를 이용한 접근\n",
    "print(soup.title)\n",
    "print(soup.footer.ul.li.text)\n",
    "\n",
    "# 태그와 속성을 이용한 접근\n",
    "print(soup.a) #soup 객체에서 첫 번째로 만나는 a 태그 출력\n",
    "#print(soup.a['id']) #만약 속성이 존재하지 않으면 에러 발생\n",
    "print(soup.a['href'])\n",
    "\n",
    "#find() 함수를 이용한 태그 내의 다양한 속성을 이용한 접근\n",
    "print(soup.find('a', attrs={'title':'구글봇'})) # a 태그 중 title 속성의 값이 '구글봇'인 데이터 검색"
   ]
  },
  {
   "cell_type": "markdown",
   "id": "8783d1e1-ef46-4bdd-9954-c2541365700d",
   "metadata": {},
   "source": [
    "## 자식 태그들을 반복 가능한 객체로 반환"
   ]
  },
  {
   "cell_type": "code",
   "execution_count": 30,
   "id": "b1de79e8-3433-43da-ab55-1fe9d33ac564",
   "metadata": {},
   "outputs": [
    {
     "name": "stdout",
     "output_type": "stream",
     "text": [
      "\n",
      "\n",
      "<p align=\"center\" class=\"a\">text1</p>\n",
      "\n",
      "\n",
      "<p align=\"center\" class=\"b\">text2</p>\n",
      "\n",
      "\n",
      "<p align=\"center\" class=\"c\">text3</p>\n",
      "\n",
      "\n",
      "<div>\n",
      "<img height=\"200\" src=\"\\source\" width=\"300\"/>\n",
      "</div>\n",
      "\n",
      "\n"
     ]
    }
   ],
   "source": [
    "html = '''\n",
    "<html>\n",
    "    <head>\n",
    "        <title> Web Scrapping </title>\n",
    "    </head>\n",
    "    <body>\n",
    "        <p class=\"a\" align = \"center\">text1</p>\n",
    "        <p class=\"b\" align = \"center\">text2</p>\n",
    "        <p class=\"c\" align = \"center\">text3</p>\n",
    "        <div>\n",
    "            <img src=\"\\source\" width=\"300\" height=\"200\">\n",
    "        </div>   \n",
    "    </body>\n",
    "</html>\n",
    "'''\n",
    "from bs4 import BeautifulSoup\n",
    "soup = BeautifulSoup(html, 'html.parser')\n",
    "contents = soup.find('body')\n",
    "#print(contents)\n",
    "for child in contents.children:\n",
    "    print(child)"
   ]
  },
  {
   "cell_type": "markdown",
   "id": "5a970d28-9573-4e2b-877c-7f164325a426",
   "metadata": {},
   "source": [
    "## 자신을 포함한 부모 태그까지 출력"
   ]
  },
  {
   "cell_type": "code",
   "execution_count": null,
   "id": "025a6b15-cd75-4ad0-9aae-4dcb4a4d9b13",
   "metadata": {},
   "outputs": [],
   "source": [
    "html = '''\n",
    "<html>\n",
    "    <head>\n",
    "        <title> Web Scrapping </title>\n",
    "    </head>\n",
    "    <body>\n",
    "        <p class=\"a\" align = \"center\">text1</p>\n",
    "        <p class=\"b\" align = \"center\">text2</p>\n",
    "        <p class=\"c\" align = \"center\">text3</p>\n",
    "        <div>\n",
    "            <img src=\"\\source\" width=\"300\" height=\"200\">\n",
    "        </div>   \n",
    "    </body>\n",
    "</html>\n",
    "'''\n",
    "from bs4 import BeautifulSoup\n",
    "soup = BeautifulSoup(html, 'html.parser')\n",
    "contents = soup.find('body')\n",
    "img_tag = contents.find('img')\n",
    "print(img_tag)\n",
    "print('/n')\n",
    "print(img_tag.parent)"
   ]
  },
  {
   "cell_type": "markdown",
   "id": "579f96ef-1d8d-4bbd-abc6-e18115798f1e",
   "metadata": {},
   "source": [
    "## 특정 부모 태그까지 검색해서 올라가는 법 (바로 위말고 그이상까지)"
   ]
  },
  {
   "cell_type": "code",
   "execution_count": null,
   "id": "04990ad5-7c71-4e99-9aac-387b3490a256",
   "metadata": {},
   "outputs": [],
   "source": [
    "html = '''\n",
    "<html>\n",
    "    <head>\n",
    "        <title> Web Scrapping </title>\n",
    "    </head>\n",
    "    <body>\n",
    "        <p class=\"a\" align = \"center\">text1</p>\n",
    "        <p class=\"b\" align = \"center\">text2</p>\n",
    "        <p class=\"c\" align = \"center\">text3</p>\n",
    "        <div>\n",
    "            <img src=\"\\source\" width=\"300\" height=\"200\">\n",
    "        </div>   \n",
    "    </body>\n",
    "</html>\n",
    "'''\n",
    "from bs4 import BeautifulSoup\n",
    "soup = BeautifulSoup(html, 'html.parser')\n",
    "contents = soup.find('body')\n",
    "img_tag = contents.find('img')\n",
    "print(img_tag.find_parent('body')) #  지정된 부모 태그까지 올라감"
   ]
  },
  {
   "cell_type": "markdown",
   "id": "dc4ac7f2-5794-4d6c-9493-25dd555c1cec",
   "metadata": {},
   "source": [
    "## 형제 태그 검색"
   ]
  },
  {
   "cell_type": "code",
   "execution_count": null,
   "id": "7fbc30aa-324e-4489-a9a6-505c35d568ca",
   "metadata": {},
   "outputs": [],
   "source": [
    "html = '''\n",
    "<html>\n",
    "    <head>\n",
    "        <title> Web Scrapping </title>\n",
    "    </head>\n",
    "    <body>\n",
    "        <p class=\"a\" align = \"center\">text1</p>\n",
    "        <p class=\"b\" align = \"center\">text2</p>\n",
    "        <p class=\"c\" align = \"center\">text3</p>\n",
    "        <div>\n",
    "            <img src=\"\\source\" width=\"300\" height=\"200\">\n",
    "        </div>   \n",
    "    </body>\n",
    "</html>\n",
    "'''\n",
    "from bs4 import BeautifulSoup\n",
    "soup = BeautifulSoup(html, 'html.parser')\n",
    "p_tag = soup.find('p', attrs={'class':'b'})\n",
    "print(p_tag)\n",
    "print('바로 다음 형제태그')\n",
    "print(p_tag.find_next_sibling())\n",
    "print('모든 다음 형제태그')\n",
    "print(p_tag.find_next_siblings())\n",
    "print('바로 이전 형제태그')\n",
    "print(p_tag.find_previous_sibling())\n",
    "print('모든 이전 형제태그')\n",
    "print(p_tag.find_previous_siblings())"
   ]
  },
  {
   "cell_type": "markdown",
   "id": "5da91e8d-edaa-4733-88cd-90e78efcba3c",
   "metadata": {},
   "source": [
    "## 검색:find()"
   ]
  },
  {
   "cell_type": "code",
   "execution_count": 1,
   "id": "f9f91d2f-c060-4436-ab73-63051bf2f93e",
   "metadata": {},
   "outputs": [
    {
     "name": "stdout",
     "output_type": "stream",
     "text": [
      "<title>NAVER</title>\n",
      "<a href=\"#topAsideButton\"><span>상단영역 바로가기</span></a>\n",
      "<div class=\"search_group_inner\" id=\"search\"> <h1 class=\"search_logo\" id=\"special-input-logo\"></h1> <form action=\"https://search.naver.com/search.naver\" id=\"sform\" method=\"get\" name=\"search\" role=\"search\"> <fieldset> <legend class=\"blind\">검색</legend> <input name=\"where\" type=\"hidden\" value=\"nexearch\"/> <input id=\"sm\" name=\"sm\" type=\"hidden\" value=\"top_hty\"/> <input id=\"fbm\" name=\"fbm\" type=\"hidden\" value=\"0\"/> <input disabled=\"disabled\" id=\"acr\" name=\"acr\" type=\"hidden\" value=\"\"/> <input disabled=\"disabled\" id=\"acq\" name=\"acq\" type=\"hidden\" value=\"\"/> <input disabled=\"disabled\" id=\"qdt\" name=\"qdt\" type=\"hidden\" value=\"\"/> <input id=\"ie\" name=\"ie\" type=\"hidden\" value=\"utf8\"/> <input disabled=\"disabled\" id=\"acir\" name=\"acir\" type=\"hidden\" value=\"\"/> <input disabled=\"disabled\" id=\"os\" name=\"os\" type=\"hidden\" value=\"\"/> <input disabled=\"disabled\" id=\"bid\" name=\"bid\" type=\"hidden\" value=\"\"/> <input disabled=\"disabled\" id=\"pkid\" name=\"pkid\" type=\"hidden\" value=\"\"/> <input disabled=\"disabled\" id=\"eid\" name=\"eid\" type=\"hidden\" value=\"\"/> <input disabled=\"disabled\" id=\"mra\" name=\"mra\" type=\"hidden\" value=\"\"/> <div class=\"search_input_box\"> <input autocomplete=\"off\" class=\"search_input\" data-atcmp-element=\"\" id=\"query\" maxlength=\"255\" name=\"query\" placeholder=\"검색어를 입력해 주세요.\" title=\"검색어를 입력해 주세요.\" type=\"search\"/> </div> <button class=\"btn_search\" onclick='window.nclk_v2(this,\"sch.action\")' type=\"submit\"> <span class=\"ico_btn_search_svg\"> <svg id=\"search-btn\" viewbox=\"0 0 50 50\" xmlns=\"http://www.w3.org/2000/svg\"> <path d=\"M22.13.5c11.378 0 20.632 9.256 20.632 20.63 0 4.699-1.566 9.155-4.439 12.782l10.164 10.165a2.41 2.41 0 0 1-1.706 4.115 2.412 2.412 0 0 1-1.706-.705L33.31 35.719a2.41 2.41 0 0 1 0-3.41 15.71 15.71 0 0 0 4.628-11.178c0-8.718-7.09-15.808-15.807-15.808-8.718 0-15.808 7.09-15.808 15.808 0 7.15 4.817 13.43 11.714 15.273a2.41 2.41 0 0 1 1.705 2.954 2.41 2.41 0 0 1-2.95 1.705C7.788 38.658 1.5 30.46 1.5 21.131 1.5 9.756 10.756.5 22.13.5zm4.716 34.746a3.483 3.483 0 1 1 0 6.966 3.483 3.483 0 0 1 0-6.966z\"></path> </svg> </span> <span class=\"blind\">검색</span> </button> </fieldset> </form> <div class=\"search_box\"> <button aria-pressed=\"false\" class=\"btn_keyboard\" id=\"ke_kbd_btn\" type=\"button\"> <span class=\"keybord_text\"> <span class=\"blind\">입력도구</span> </span> </button> <div id=\"_nx_kbd\" style=\"display:none\"></div> <button class=\"btn_arrow\" data-atcmp-element=\"\" id=\"nautocomplete\" type=\"button\"> <span class=\"blind\">자동완성/최근검색어펼치기</span> </button> </div> <div class=\"layer_atcmp\" id=\"autoFrame\" style=\"display:none\"> <div class=\"ly_atcmp\" data-atcmp-element=\"\"> <div class=\"api_atcmp_wrap\"> <div class=\"atcmp_fixer _recent_layer\" style=\"display:none\"> <div class=\"atcmp_header _recent_header\"> <strong class=\"tit\">최근 검색어</strong> <div class=\"option\"> <a aria-pressed=\"false\" class=\"item _delAll\" href=\"#\" role=\"button\">전체삭제</a> </div> </div> <div class=\"atcmp_container\"> <ul class=\"kwd_lst _recent\"></ul> <div class=\"kwd_info kwd_off _offMsg\" style=\"display:none\">검색어 저장 기능이 꺼져 있습니다.<br/><span class=\"kwd_dsc\">설정이 초기화 된다면 <a class=\"kwd_help\" data-clk=\"sly.help\" href=\"https://help.naver.com/alias/search/word/word_35.naver\" target=\"_blank\">도움말</a>을 확인해주세요.</span></div> <div class=\"kwd_info kwd_none _recentNone\" style=\"display:none\">최근 검색어 내역이 없습니다.<br/><span class=\"kwd_dsc\">설정이 초기화 된다면 <a class=\"kwd_help\" data-clk=\"sly.help\" href=\"https://help.naver.com/alias/search/word/word_35.naver\" target=\"_blank\">도움말</a>을 확인해주세요.</span></div> </div> <div class=\"atcmp_footer\"> <span class=\"side_opt_area\"> <span class=\"opt_item\"> <a class=\"close _keywordOnOff\" href=\"#\">자동저장 끄기</a> </span> <span class=\"opt_item\"><a data-clk=\"sly.help\" href=\"https://help.naver.com/alias/search/word/word_35.naver\" target=\"_blank\">도움말</a></span> </span> <span class=\"rside_opt_area\"> <span class=\"opt_item\"><a class=\"close _close\" href=\"#\">닫기</a></span> </span> </div> </div> <div class=\"atcmp_fixer _atcmp_layer\" style=\"display:none\"> <div class=\"atcmp_container _words\"> <ul class=\"kwd_lst _kwd_list\"></ul> <div class=\"atcmp_cue type_line _cue_root\"> <div class=\"cue_header\"><i class=\"imgsvg ico_cue\">CUE</i>대화하듯 질문해 보세요<a aria-pressed=\"false\" class=\"btn_help _tg_btn\" href=\"#\" role=\"button\"><i class=\"imgsvg ico_alert\">이 정보가 표시된 이유</i></a> <div class=\"layer_plus\"> <p class=\"dsc\">검색어와 포함된 키워드를 기반으로 AI 기술을 활용하여 연관된 추천 질문을 제공합니다.</p> <a class=\"btn_close _tg_btn\" href=\"#\" role=\"button\"><i class=\"imgsvg ico_close\">레이어 닫기</i></a> </div> </div> <ul class=\"cue_list _ul\"></ul> </div> <div class=\"atcmp_alert _alert\"> <div class=\"dsc_election\"> <p class=\"dsc\"> <i class=\"imgsvg ico_election\"></i> <span class=\"_alert_passage\"></span> </p> <span class=\"dsc_inner\"> <span class=\"_alert_passage2\"></span> <a class=\"link _alert_link\" href=\"#\" target=\"_blank\">자세히보기</a> </span> </div> </div> <div class=\"atcmp_plus _plus\"> <div class=\"dsc_plus\"> <a class=\"link_dsc\" data-clk=\"sug.cxhelp\" href=\"https://help.naver.com/alias/search/word/word_16.naver\" target=\"_blank\">관심사를 반영한 컨텍스트 자동완성<i class=\"imgsvg ico_help\">도움말</i></a> </div> <div class=\"switch\"> <a aria-pressed=\"false\" class=\"bt_switch active _plus_btn\" href=\"#\" role=\"button\"><i class=\"imgsvg ico_option\">컨텍스트 자동완성</i></a> </div> <div class=\"layer_plus _plus_layer\"> <strong class=\"tit\">컨텍스트 자동완성</strong> <div class=\"_plus_layer_isloggedin\" style=\"display:none\"> <p class=\"dsc\">ON/OFF 설정은 해당기기(브라우저)에 저장됩니다.</p> <div class=\"btn_area\"> <a class=\"link_view\" data-clk=\"sug.cxlink\" href=\"https://help.naver.com/alias/search/word/word_16.naver\" target=\"_blank\">자세히 보기</a> </div> </div> <div class=\"_plus_layer_isnotloggedin\" style=\"display:none\"> <p class=\"dsc\">동일한 시간대・연령대・남녀별 사용자 그룹의 관심사에 맞춰 자동완성을 제공합니다. <a class=\"link_view\" data-clk=\"sug.cxlink\" href=\"https://help.naver.com/support/alias/search/word/word_16.naver\" target=\"_blank\">자세히 보기</a> </p> <div class=\"btn_area\"> <a class=\"btn btn_login\" data-clk=\"sug.cxlogin\" href=\"https://nid.naver.com/nidlogin.login\"><i class=\"imgsvg ico_naver\">네이버</i>로그인</a> </div> </div> <a class=\"btn_close _plus_layer_close\" href=\"#\" role=\"button\"><i class=\"imgsvg ico_close\">컨텍스트 자동완성 레이어 닫기</i></a> </div> </div> </div> <div class=\"atcmp_footer\"> <span class=\"side_opt_area\"> <span class=\"opt_item\"> <a class=\"close _suggestOnOff\" href=\"#\">자동완성 끄기</a> </span> <span class=\"opt_item\"><a data-clk=\"sug.help\" href=\"https://help.naver.com/alias/search/word/word_17.naver\" target=\"_blank\">도움말</a></span> <span class=\"opt_item\"><a class=\"report\" data-clk=\"sug.report\" href=\"https://help.naver.com/alias/search/word/word_18.naver\" target=\"_blank\">신고</a></span> </span> <span class=\"rside_opt_area\"> <span class=\"opt_item\"><a class=\"close _close\" href=\"#\">닫기</a></span> </span> </div> </div> </div> </div> </div> </div>\n"
     ]
    }
   ],
   "source": [
    "import requests\n",
    "from bs4 import BeautifulSoup\n",
    "\n",
    "response = requests.get('https://www.naver.com')\n",
    "soup = BeautifulSoup(response.text,'lxml')\n",
    "print(soup.find('title'))\n",
    "print(soup.find('a'))\n",
    "print(soup.find(id='search')) #id속성의 값이 search인 정보를 가져옴 soup.find(attrs={'id'='search'})와 동일"
   ]
  },
  {
   "cell_type": "markdown",
   "id": "bf90ba97-f626-490c-b3a4-500716cc9f6e",
   "metadata": {},
   "source": [
    "## 검색:find_all()"
   ]
  },
  {
   "cell_type": "code",
   "execution_count": null,
   "id": "bf1588fe-8a16-4488-a20e-a0401ff20a2f",
   "metadata": {},
   "outputs": [],
   "source": [
    "a_tags = soup.find_all('a', limit=2)\n",
    "print(len(a_tags))\n",
    "print(a_tags)"
   ]
  },
  {
   "cell_type": "code",
   "execution_count": null,
   "id": "e26acc87-5f41-410c-8b4a-9746ff3cb961",
   "metadata": {},
   "outputs": [],
   "source": [
    "[실습] 네이버 뉴스 페이지에서 언론사 목록 가져오기"
   ]
  },
  {
   "cell_type": "code",
   "execution_count": 36,
   "id": "6b636db8-e954-4d42-9fae-2a15a35221f2",
   "metadata": {},
   "outputs": [
    {
     "name": "stdout",
     "output_type": "stream",
     "text": [
      "아이뉴스24\n",
      "['아이뉴스24', '비즈워치', '경기일보', '한겨레', '머니투데이', '주간동아', '부산일보', '전자신문', '연합뉴스TV', '더스쿠프']\n"
     ]
    }
   ],
   "source": [
    "import requests\n",
    "from bs4 import BeautifulSoup\n",
    "\n",
    "res = requests.get('https://news.naver.com')\n",
    "soup = BeautifulSoup(res.text, 'lxml')\n",
    "result = soup.find_all('h4', attrs={'class':'channel'})\n",
    "\n",
    "print(list(result[0].children)[0]) #하위속성만 뜨고 \n",
    "press_list = [ list(tag.children)[0] for tag in result]\n",
    "print(press_list[:10])"
   ]
  },
  {
   "cell_type": "code",
   "execution_count": 37,
   "id": "3975dd06-0130-4928-b196-2061afae1159",
   "metadata": {},
   "outputs": [
    {
     "name": "stdout",
     "output_type": "stream",
     "text": [
      "['주간경향', '시사IN', '한경비즈니스', '더스쿠프', '주간동아', '신동아', '한겨레21', '주간조선', '시사저널', '이코노미스트']\n"
     ]
    }
   ],
   "source": [
    "res = requests.get('https://news.naver.com')\n",
    "soup = BeautifulSoup(res.text, 'lxml')\n",
    "result = soup.find_all('div', attrs={'class':'cjs_age_name'})\n",
    "press_list = [tag.text for tag in result]\n",
    "print(press_list[:10])"
   ]
  },
  {
   "cell_type": "markdown",
   "id": "f7feb2c4-1107-4349-b134-c6a0f4e3ca1f",
   "metadata": {},
   "source": [
    "## 검색: select_one(), select()"
   ]
  },
  {
   "cell_type": "code",
   "execution_count": 3,
   "id": "39256d9e-cca2-4030-b636-20d2aa6bb81b",
   "metadata": {},
   "outputs": [
    {
     "name": "stdout",
     "output_type": "stream",
     "text": [
      "<a class=\"show\" href=\"/page/KITA_MAIN\">KITA 무역아카데미</a>\n",
      "220\n",
      "<h3 class=\"tit\">공지사항</h3>\n",
      "None\n"
     ]
    }
   ],
   "source": [
    "import requests\n",
    "from bs4 import BeautifulSoup\n",
    "\n",
    "res = requests.get('http://www.tradecampus.com')\n",
    "soup = BeautifulSoup(res.text, 'html.parser')\n",
    "print(soup.select_one('div > a'))\n",
    "result = soup.select('div a')\n",
    "print(len(result))\n",
    "print(soup.select_one('body > div > div.wrapper.main_page > div.renew_main > div.col-12 > div > div.renew_main_notice > div > div > h3')) # 개발자모드 selector copy하면 나오는 것\n",
    "#notice = soup.select('body > div > div.wrapper.main_page > div.renew_main > div.col-12 > div > div.renew_main_notice > div > ul > li:nth-child(2) > p > a')\n",
    "notice = soup.select('body > div > div.wrapper.main_page > div.renew_main > div.col-12 > div > div.renew_main_notice > div > ul > li > p > a') #-> 다 가져오고 싶을때 목록 li 만\n",
    "print(notice[0].txt)"
   ]
  },
  {
   "cell_type": "markdown",
   "id": "02274c94-eca8-4488-b7f8-2d285db24f89",
   "metadata": {},
   "source": [
    "## 텍스트 가져오기: text, get_text()\n",
    "-  검색결과에서 태그를 제외한 텍스트만 추출"
   ]
  },
  {
   "cell_type": "code",
   "execution_count": 2,
   "id": "fd9f02d8-2c63-4cb3-930d-1966a45f6809",
   "metadata": {},
   "outputs": [
    {
     "ename": "AttributeError",
     "evalue": "'NoneType' object has no attribute 'get_text'",
     "output_type": "error",
     "traceback": [
      "\u001b[1;31m---------------------------------------------------------------------------\u001b[0m",
      "\u001b[1;31mAttributeError\u001b[0m                            Traceback (most recent call last)",
      "Cell \u001b[1;32mIn[2], line 3\u001b[0m\n\u001b[0;32m      1\u001b[0m \u001b[38;5;66;03m# 고객센터 영역 텍스트 가져오기\u001b[39;00m\n\u001b[0;32m      2\u001b[0m tag \u001b[38;5;241m=\u001b[39m soup\u001b[38;5;241m.\u001b[39mfind(\u001b[38;5;124m'\u001b[39m\u001b[38;5;124mdiv\u001b[39m\u001b[38;5;124m'\u001b[39m, attrs \u001b[38;5;241m=\u001b[39m {\u001b[38;5;124m'\u001b[39m\u001b[38;5;124mclass\u001b[39m\u001b[38;5;124m'\u001b[39m: \u001b[38;5;124m'\u001b[39m\u001b[38;5;124mserviceInfo\u001b[39m\u001b[38;5;124m'\u001b[39m})\n\u001b[1;32m----> 3\u001b[0m \u001b[38;5;28mprint\u001b[39m(tag\u001b[38;5;241m.\u001b[39mget_text())\n",
      "\u001b[1;31mAttributeError\u001b[0m: 'NoneType' object has no attribute 'get_text'"
     ]
    }
   ],
   "source": [
    "# 고객센터 영역 텍스트 가져오기\n",
    "tag = soup.find('div', attrs = {'class': 'serviceInfo'})\n",
    "print(tag.get_text())"
   ]
  },
  {
   "cell_type": "code",
   "execution_count": 4,
   "id": "9914e995-6761-4439-9dde-f32a21776c2d",
   "metadata": {},
   "outputs": [
    {
     "name": "stdout",
     "output_type": "stream",
     "text": [
      "/weven_template_repository/theme/KITAAC/1/resource/img/ico_sns_facebook.png\n",
      "/weven_template_repository/theme/KITAAC/1/resource/img/ico_sns_facebook.png\n"
     ]
    }
   ],
   "source": [
    "tag = soup.find('img', attrs={'class':'mobile_icon black'})\n",
    "print(tag['src'])\n",
    "print(tag.get('src'))"
   ]
  },
  {
   "cell_type": "markdown",
   "id": "40e7a048-efb1-4d95-b781-458e75fae6fa",
   "metadata": {},
   "source": [
    "## 텍스트 가져오기: string\n",
    "- 검색결과에서 **태그 안에 또 다른 태그가 없는 경우 **해당 내용을 추출"
   ]
  },
  {
   "cell_type": "code",
   "execution_count": null,
   "id": "25261bf9-9367-4938-9045-56e3a5125dfd",
   "metadata": {},
   "outputs": [],
   "source": [
    "tag = soup.find('div', attrs = {'class': 'serviceInfo'})\n",
    "tag = tag.find('span')\n",
    "print(tag.string)"
   ]
  },
  {
   "cell_type": "code",
   "execution_count": null,
   "id": "93f4845e-9644-4524-9843-63ab1d2b4fbc",
   "metadata": {},
   "outputs": [],
   "source": [
    "[실습] 네이버 웹툰 제목 가져오기"
   ]
  },
  {
   "cell_type": "code",
   "execution_count": null,
   "id": "2359cd90-8b56-4ce7-aeec-1a51a4b97640",
   "metadata": {
    "scrolled": true
   },
   "outputs": [],
   "source": [
    "!pip install selenium"
   ]
  },
  {
   "cell_type": "code",
   "execution_count": null,
   "id": "df4dfae6-8236-4a2e-bc2b-a5b3dcfda8d0",
   "metadata": {
    "scrolled": true
   },
   "outputs": [],
   "source": [
    "!pip install webdriver_manager"
   ]
  },
  {
   "cell_type": "code",
   "execution_count": null,
   "id": "a92ddef0-96a4-43f8-80c3-1d0f68357546",
   "metadata": {},
   "outputs": [],
   "source": [
    "import requests\n",
    "import time\n",
    "from bs4 import BeautifulSoup\n",
    "from selenium.webdriver.chrome.service import Service\n",
    "from selenium.webdriver import Chrome, ChromeOptions\n",
    "from webdriver_manager.chrome import ChromeDriverManager\n",
    "\n",
    "driver = Chrome(service=Service(ChromeDriverManager().install()),options=ChromeOptions())\n",
    "\n",
    "URL = 'https://comic.naver.com/webtoon'\n",
    "driver.get(URL)\n",
    "time.sleep(4) # 동적으로 생성되는 페이지의 내용이 완성될 때까지 대기\n",
    "soup = BeautifulSoup(driver.page_source,'lxml')\n",
    "\n",
    "# 요일별 전체 웹툰 CSS 선택자\n",
    "temp = soup.select_one('#container > div.component_wrap.type2 > div.WeekdayMainView__daily_all_wrap--UvRFc')\n",
    "\n",
    "# 요일별 div 태그 검색\n",
    "temp = temp.find_all('ul', attrs = {'class':'WeekdayMainView__daily_list--R52q0'})\n",
    "week = ['월','화','수','목','금','토','일']\n",
    "for i, w in enumerate(temp):\n",
    "    print(f'==== {week[i]}요 웹튼 ====')\n",
    "    webtoon_list = w.find_all('li', attrs = {'class':'DailyListItem__item--LP6_T'})\n",
    "    for webtoon in webtoon_list:\n",
    "        print(webtoon.find('span', attrs={'class':'text'}).text)\n",
    "    print()"
   ]
  },
  {
   "cell_type": "code",
   "execution_count": null,
   "id": "75a1ac92-fa3f-4b0e-b3f6-9fddecfbdbd4",
   "metadata": {},
   "outputs": [],
   "source": [
    "[실습] 메가박스 영화정보 사이트에서 영화 포스터 다운로드 하기"
   ]
  },
  {
   "cell_type": "code",
   "execution_count": 50,
   "id": "f1174d9d-7cf7-478e-ab2e-7ddccff79972",
   "metadata": {},
   "outputs": [
    {
     "name": "stdout",
     "output_type": "stream",
     "text": [
      "Poster downloaded successfully!\n",
      "End\n"
     ]
    }
   ],
   "source": [
    "# 사전 테스트 : 박스 오피스 1위 영화 포스터 이미지 가져오기\n",
    "from bs4 import BeautifulSoup\n",
    "from selenium.webdriver.chrome.service import Service\n",
    "from selenium.webdriver.chrome.options import ChromiumOptions\n",
    "from webdriver_manager.chrome import ChromeDriverManager\n",
    "\n",
    "driver = Chrome(service=Service(ChromeDriverManager().install()),options=ChromeOptions())\n",
    "URL = 'https://megabox.co.kr/movie'\n",
    "driver.get(URL)\n",
    "soup = BeautifulSoup(driver.page_source,'lxml')\n",
    "poster_img = soup.select_one('#movieList > li:nth-child(1) > div.movie-list-info > img')\n",
    "\n",
    "if not poster_img:\n",
    "  poster_img = soup.select_one('#movieList > li:nth-child(1) > div.movie-info > img')\n",
    "\n",
    "if poster_img:\n",
    "  poster_img_src = poster_img.get('src')\n",
    "  import requests\n",
    "  res = requests.get(poster_img_src)\n",
    "  with open('poster.jpg', 'wb') as f:\n",
    "    f.write(res.content)\n",
    "  print('Poster downloaded successfully!')\n",
    "else:\n",
    "  print('Could not find poster image on the page.')\n",
    "\n",
    "driver.quit()\n",
    "print('End')"
   ]
  },
  {
   "cell_type": "markdown",
   "id": "42445a04-f83d-43f9-a29e-af20c7c9e895",
   "metadata": {},
   "source": [
    "[문제] 메가박스 영화 사이트에 첫 페이지에 있는 모든 영화 포스트 이미지 수집하기\n",
    "- 메가박스 영화 사이트 첫 페이지에 있는 20개의 영화 포스트 이미지 수집\n",
    "- 현재 작업 디렉토리 밑에 'poster_img' 폴더가 없는 경우 폴더를 생성한다. (os 패키지 이용)\n",
    "- 저장되는 각 포스터 이미지의 파일이름은 영화제목으로 한다."
   ]
  },
  {
   "cell_type": "code",
   "execution_count": null,
   "id": "60f4979d-4a32-4317-b839-942e7a59fe99",
   "metadata": {},
   "outputs": [],
   "source": [
    "#모범답안\n",
    "from bs4 import BeautifulSoup\n",
    "from selenium.webdriver.chrome.service import Service\n",
    "from selenium.webdriver.chrome.options import ChromiumOptions\n",
    "from webdriver_manager.chrome import ChromeDriverManager\n",
    "import os\n",
    "if not os.path.exists('poster_img'):\n",
    "    os.makedirs('poster_img')\n",
    "\n",
    "driver = Chrome(service = Service(ChromeDriverManager().install()), options=ChromeOptions())\n",
    "\n",
    "\n",
    "URL = 'https://www.megabox.co.kr/movie'\n",
    "driver.get(URL)\n",
    "soup = BeautifulSoup(driver.page_source, 'lxml')\n",
    "\n",
    "movie_posters = soup.select('#movieList > li > div.movie-list-info > img')\n",
    "for i, poster in enumerate(movie_posters, start=1):\n",
    "    movie_title = poster.get('alt').strip().replace(':', '_') # 영화 제목 추출\n",
    "    poster_img_src = poster.get('src') # 영화 포스터 이미지 URL 추출\n",
    "    res = requests.get(poster_img_src) # 영화 포스터 이미지 다운로드 및 저장\n",
    "    with open(f'poster_img/{movie_title}.jpg', 'wb') as f:\n",
    "        f.write(res.content)\n",
    "    print(f\"{i}. '{movie_title}'의 포스터 이미지를 저장했습니다.\")\n",
    "\n",
    "# 작업 완료 후 브라우저 닫기\n",
    "driver.quit()\n",
    "print('모든 포스터 이미지 수집 및 저장이 완료되었습니다.')\n",
    "from webdriver_manager.chrome import ChromeDriverManager\n",
    "\n",
    "driver = Chrome(service = Service(ChromeDriverManager().install()), options=ChromeOptions())\n",
    "URL = 'https://www.megabox.co.kr/movie'\n",
    "driver.get(URL)\n",
    "soup = BeautifulSoup(driver.page_source, 'lxml')\n",
    "\n",
    "# 포스터 이미지를 가지고 있는 모든 img 태그를 검색\n",
    "poster_imgs= soup.find_all('img',attrs={'class':'poster lozad'})\n",
    "# print(len(poster_imgs))\n",
    "\n",
    "#이미지를 저장할 폴더 생성\n",
    "import options\n",
    "img_dir = \"./poster_img/\"\n",
    "if not os.path.exists('img_dir'):\n",
    "    os.makedirs('img_dir')\n",
    "    print('폴더 생성 완료')\n",
    "else:\n",
    "    print('폴더가 존재함')\n",
    "\n",
    "for i, poster in enumerate(poster_imgs,1): \n",
    "    title = poster.get('alt')\n",
    "    img_url = poster.get('src')\n",
    "    \n",
    "    print(i,':',img_url)\n",
    "    img_res = requests.get(img_url)\n",
    "\n",
    "    if \":\"in title:\n",
    "        title = title.replace(':',' ')\n",
    "\n",
    "    with open(img_dir+f'[{i}].{title}.jpg','wb') as f:\n",
    "        f.write(img_res.content)"
   ]
  },
  {
   "cell_type": "markdown",
   "id": "dcdf3dd9-1c26-451a-9d92-5fbd8280621e",
   "metadata": {},
   "source": [
    "[실습] 네이버 뉴스 사이트에서 경제 관련 언론사별 랭킹뉴스 추출하기\n",
    "URL = 'https://news.naver.com/'"
   ]
  },
  {
   "cell_type": "code",
   "execution_count": null,
   "id": "587b73a3-a315-4e2e-85f1-9b2873e00b44",
   "metadata": {
    "scrolled": true
   },
   "outputs": [],
   "source": [
    "import requests\n",
    "from bs4 import BeautifulSoup\n",
    "URL = 'https://news.naver.com/main/ranking/popularDay.naver'\n",
    "res = requests.get(URL)\n",
    "soup = BeautifulSoup(res.text, 'html.parser')\n",
    "news_list = soup.find_all('div', attrs={'class': 'rankingnews_box'})\n",
    "print('등록 언론사 개수: ',len(news_list))\n",
    "\n",
    "for news in news_list:\n",
    "    press_title = news.find('strong').text\n",
    "    if '경제' in press_title:\n",
    "        print('언론사: ', press_title)\n",
    "        press_news = news.find_all('div', attrs={'class':'list_content'})\n",
    "        for i, ranking_news in enumerate(press_news,1):\n",
    "            print(f'{i}:{ranking_news.find(\"a\").get_text()}')"
   ]
  },
  {
   "cell_type": "markdown",
   "id": "5ad55cec-1fed-4502-8238-86e925aa7e79",
   "metadata": {},
   "source": [
    "# Selenium \n",
    "로그인 필요한 사이트나 동적으로 html으로 만드는 경우 request 한계있음 (스크롤이나 클릭하면 데이터 생성되거나 변경, 표나 테이블형데이터)\n",
    "브라우저띄워서 사람 조작하는 것처럼 할 수 있\n",
    "\n"
   ]
  },
  {
   "cell_type": "markdown",
   "id": "fb364b5e-45fe-4082-a52a-1662d79c8f39",
   "metadata": {},
   "source": [
    "## find_element() \n",
    "By 속성은 아래와 같습니다.\n",
    "\n",
    "ID = \"id\"\n",
    "XPATH = \"xpath\"\n",
    "LINK_TEXT = \"link text\"\n",
    "PARTIAL_LINK_TEXT = \"partial link text\"\n",
    "NAME = \"name\"\n",
    "TAG_NAME = \"tag name\"\n",
    "CLASS_NAME = \"class name\"\n",
    "CSS_SELECTOR = \"css selector\" <P태그같"
   ]
  },
  {
   "cell_type": "code",
   "execution_count": 14,
   "id": "a658f146-a331-4f8f-9988-403002c021b3",
   "metadata": {},
   "outputs": [
    {
     "name": "stdout",
     "output_type": "stream",
     "text": [
      "<class 'selenium.webdriver.remote.webelement.WebElement'>\n",
      "카페\n"
     ]
    }
   ],
   "source": [
    "from selenium.webdriver import Chrome\n",
    "from selenium.webdriver.chrome.service import Service\n",
    "from webdriver_manager.chrome import ChromeDriverManager\n",
    "from selenium.webdriver.common.by import By\n",
    "\n",
    "# Chrome 웹 드라이버 동적 다운로드 및 설정\n",
    "driver = Chrome(service=Service(ChromeDriverManager().install()))\n",
    "\n",
    "# 다음 웹 페이지에 접속\n",
    "driver.get('https://www.daum.net')\n",
    "html = driver.page_source 싹긁어\n",
    "# 링크 텍스트가 '카페'인 요소를 찾기\n",
    "ele = driver.find_element(By.LINK_TEXT, '카페')\n",
    "\n",
    "# 요소의 타입과 텍스트 내용 출력\n",
    "print(type(ele))\n",
    "print(ele.text)"
   ]
  },
  {
   "cell_type": "markdown",
   "id": "9ad3f479-5e41-412e-94a2-dbb0e04bf680",
   "metadata": {},
   "source": [
    "## 이벤트 제어하기"
   ]
  },
  {
   "cell_type": "markdown",
   "id": "931f8871-44a6-404b-ba95-2958719586e1",
   "metadata": {},
   "source": [
    "### click()"
   ]
  },
  {
   "cell_type": "code",
   "execution_count": 19,
   "id": "3d3ef7b3-cf5d-41e5-b767-c57379b5481f",
   "metadata": {},
   "outputs": [],
   "source": [
    "from selenium.webdriver import Chrome, ChromeOptions\n",
    "from selenium.webdriver.chrome.service import Service\n",
    "from selenium.webdriver.common.by import By\n",
    "from webdriver_manager.chrome import ChromeDriverManager\n",
    "\n",
    "driver = Chrome(service=Service(ChromeDriverManager().install()), options=Options())\n",
    "\n",
    "# 네이버 웹 페이지로 이동\n",
    "driver.get('https://www.naver.com')\n",
    "\n",
    "# CSS 선택자를 사용하여 요소 찾기\n",
    "ele = driver.find_element(By.CSS_SELECTOR, 'div.shortcut_area > ul > li:nth-child(5) > a')\n",
    "\n",
    "# 요소 클릭\n",
    "ele.click()"
   ]
  },
  {
   "cell_type": "markdown",
   "id": "3598c265-444b-4878-9f17-a42f25aef96a",
   "metadata": {},
   "source": [
    "### send_keys()"
   ]
  },
  {
   "cell_type": "code",
   "execution_count": 21,
   "id": "191af92c-f627-41c2-a9fc-5ec752b3529b",
   "metadata": {},
   "outputs": [],
   "source": [
    "from selenium.webdriver import Chrome, ChromeOptions\n",
    "from selenium.webdriver.chrome.service import Service\n",
    "from selenium.webdriver.common.by import By\n",
    "from webdriver_manager.chrome import ChromeDriverManager\n",
    "from selenium.webdriver.common.keys import Keys\n",
    "\n",
    "driver = Chrome(service=Service(ChromeDriverManager().install()), options=Options())\n",
    "driver.get('https://www.naver.com')\n",
    "\n",
    "ele = driver.find_element(By.ID, 'query')\n",
    "ele.send_keys('python')\n",
    "ele.send_keys(Keys.ENTER)"
   ]
  },
  {
   "cell_type": "code",
   "execution_count": null,
   "id": "bbbe7a6d-5fcd-4a73-8bb3-d241db924f59",
   "metadata": {},
   "outputs": [],
   "source": [
    "[실습] 네이버 로그인하기"
   ]
  },
  {
   "cell_type": "code",
   "execution_count": 40,
   "id": "4849e9c7-0c80-40d9-b227-bd57d107cdba",
   "metadata": {},
   "outputs": [],
   "source": [
    "from selenium.webdriver import Chrome, ChromeOptions\n",
    "from selenium.webdriver.chrome.service import Service\n",
    "from selenium.webdriver.common.by import By\n",
    "from webdriver_manager.chrome import ChromeDriverManager\n",
    "from selenium.webdriver.common.keys import Keys\n",
    "\n",
    "driver = Chrome(service=Service(ChromeDriverManager().install()), options=Options())\n",
    "driver.get('https://www.naver.com')\n",
    "ele = driver.find_element(By.CLASS_NAME, 'MyView-module__link_login___HpHMW')\n",
    "ele.click()\n",
    "\n",
    "my_id = 'abcdef'\n",
    "my_pw = 'abcdef9978'\n",
    "\n",
    "ele = driver.find_element(By.ID,'id')\n",
    "ele.send_keys(my_id)\n",
    "\n",
    "ele = driver.find_element(By.ID, 'pw')\n",
    "ele.send_keys(my_pw)\n",
    "\n",
    "time.sleep(3)\n",
    "driver.execute_script(f\"document.getElementById('id').value = '{my_id}'\")\n",
    "driver.execute_script(f\"document.getElementById('pw').value = '{my_pw}'\")\n",
    "\n",
    "#로그인 유지 체크박스 클릭 \n",
    "driver.execute_script(\"document.getElementById('keep').checked = true\")\n",
    "\n",
    "ele = driver.find_element(By.CLASS_NAME, 'btn_login')\n",
    "ele.click()"
   ]
  },
  {
   "cell_type": "markdown",
   "id": "6fe84bb8-242e-410f-adb4-39c461ff388d",
   "metadata": {},
   "source": [
    "## 웹 브라우저 자동 스크롤"
   ]
  },
  {
   "cell_type": "markdown",
   "id": "a7a1f9eb-734e-4c17-a787-9b66019a3166",
   "metadata": {},
   "source": [
    "### 구글에서 이미지 검색 후 검색 결과 6번 스크롤 하기"
   ]
  },
  {
   "cell_type": "code",
   "execution_count": 48,
   "id": "545ea951-971e-4391-9a5c-87f20f5e01c1",
   "metadata": {},
   "outputs": [
    {
     "name": "stdout",
     "output_type": "stream",
     "text": [
      "last height:  7126\n",
      "new height:  13915\n",
      "new height:  20611\n",
      "new height:  27059\n",
      "new height:  30401\n",
      "new height:  30401\n",
      "new height:  30401\n"
     ]
    }
   ],
   "source": [
    "from selenium.webdriver import Chrome, ChromeOptions\n",
    "from selenium.webdriver.chrome.service import Service\n",
    "from selenium.webdriver.common.keys import Keys\n",
    "from selenium.webdriver.common.by import By\n",
    "from webdriver_manager.chrome import ChromeDriverManager\n",
    "import time\n",
    "\n",
    "#페이지가 로드될때까지 기다리는 시간\n",
    "SCROLL_PAUSE_TIME = 3\n",
    "\n",
    "driver = Chrome(service=Service(ChromeDriverManager().install(), options = ChromeOptions()))\n",
    "driver.get('https://www.google.co.kr')\n",
    "ele = driver.find_element(By.CLASS_NAME,'gLFyf')\n",
    "ele.send_keys('python')\n",
    "ele.submit()\n",
    "\n",
    "ele = driver.find_element(By.LINK_TEXT,'이미지').click()\n",
    "\n",
    "#페이지가 로드될때까지 기다림\n",
    "time.sleep(SCROLL_PAUSE_TIME)\n",
    "last_height = driver.execute_script('return document.body.scrollHeight')\n",
    "\n",
    "print('last height: ', last_height)\n",
    "for i in range(6):\n",
    "    #윈도우의 스크롤 바를 0에서 가장 및 까지 이동\n",
    "\n",
    "driver.execute_script('window.scrollTo(0, document.body.scrollHeight)')스크롤 1\n",
    "    time.sleep (SCROLL_PAUSE_TIME)\n",
    "    #새로운 검색결과 로딩후 변경된 스크롤 바의 높이\n",
    "    new_height = driver.execute_script('return document.body.scrollHeight')\n",
    "    print('new height: ',new_height)\n",
    "# 더 이상 스크롤 될 페이지가 없을 경우 scrollHeight 값의 변화가 없음"
   ]
  },
  {
   "cell_type": "markdown",
   "id": "defbe8a3-56a3-480b-8a49-a0c411327d84",
   "metadata": {},
   "source": [
    "# 구글에서 이미지 검색 후 검색 결과 무한 스크롤 하기"
   ]
  },
  {
   "cell_type": "code",
   "execution_count": 52,
   "id": "d422d4bb-cd18-46d2-807a-35caebeb4e1a",
   "metadata": {},
   "outputs": [
    {
     "name": "stdout",
     "output_type": "stream",
     "text": [
      "last height: 7126, new height:13915, scroll count: 1\n",
      "last height: 13915, new height:20611, scroll count: 2\n",
      "last height: 20611, new height:26966, scroll count: 3\n",
      "last height: 26966, new height:30401, scroll count: 4\n",
      "last height: 30401, new height:30401, scroll count: 5\n"
     ]
    }
   ],
   "source": [
    "from selenium.webdriver import Chrome, ChromeOptions\n",
    "from selenium.webdriver.chrome.service import Service\n",
    "from selenium.webdriver.common.keys import Keys\n",
    "from selenium.webdriver.common.by import By\n",
    "from webdriver_manager.chrome import ChromeDriverManager\n",
    "import time\n",
    "\n",
    "# 페이지가 로드될 때까지 기다리는 시간\n",
    "SCROLL_PAUSE_TIME = 3\n",
    "\n",
    "# 변수 이름을 수정하여 올바른 드라이버를 생성합니다.\n",
    "driver = Chrome(service=Service(ChromeDriverManager().install()), options=ChromeOptions())\n",
    "driver.get('https://www.google.co.kr')\n",
    "ele = driver.find_element(By.NAME, 'q')  # 검색어 입력란의 name 속성은 'q'입니다.\n",
    "ele.send_keys('python')\n",
    "ele.submit()\n",
    "\n",
    "# 이미지 링크를 클릭합니다.\n",
    "driver.find_element(By.LINK_TEXT, '이미지').click()\n",
    "\n",
    "# 페이지가 로드될 때까지 기다립니다.\n",
    "time.sleep(SCROLL_PAUSE_TIME)\n",
    "last_height = driver.execute_script('return document.body.scrollHeight')\n",
    "\n",
    "scroll_cnt = 0\n",
    "\n",
    "while True:\n",
    "    driver.execute_script('window.scrollTo(0, document.body.scrollHeight)')\n",
    "    scroll_cnt += 1\n",
    "    time.sleep(SCROLL_PAUSE_TIME)\n",
    "   \n",
    "    new_height = driver.execute_script('return document.body.scrollHeight')\n",
    "    print(f'last height: {last_height}, new height:{new_height}, scroll count: {scroll_cnt}')\n",
    "    if last_height != new_height: \n",
    "        last_height = new_height\n",
    "    else: # 더이상 new height 값이 변동이 없다면\n",
    "        break  # 들여쓰기 오류 수정"
   ]
  },
  {
   "cell_type": "markdown",
   "id": "2af6cc73-90cd-48d2-a5a6-4d2605ddab17",
   "metadata": {},
   "source": [
    "### 구글에서 이미지 검색 후 썸네일 이미지 클릭하고 원본 이미지 주소 수정하기"
   ]
  },
  {
   "cell_type": "code",
   "execution_count": null,
   "id": "d8b66330-51ad-446a-84b9-edf77461e29b",
   "metadata": {},
   "outputs": [],
   "source": [
    "from selenium.webdriver import Chrome, ChromeOptions\n",
    "from selenium.webdriver.chrome.service import Service\n",
    "from selenium.webdriver.common.by import By\n",
    "from selenium.webdriver.common.keys import Keys \n",
    "from webdriver_manager.chrome import ChromeDriverManager\n",
    "import time \n",
    "\n",
    "SCROLL_PAUSE_TIME = 2   #페이지가 로드될 때까지 기다리는 시간\n",
    "IMAGE_EXTRACT_NUM = 20 #이미지 추출 개수\n",
    "SEARCH_KEYWORD = '보더콜리'\n",
    "\n",
    "\n",
    "#############  웹 드라이버 실행 및 구글 접속  #######################\n",
    "driver = Chrome(service=Service(ChromeDriverManager().install()),options=ChromeOptions())\n",
    "driver.get('https://www.google.com')\n",
    "\n",
    "\n",
    "#############  검색  #######################\n",
    "ele=driver.find_element(by=By.CLASS_NAME,value='gLFyf')\n",
    "ele.send_keys(SEARCH_KEYWORD)\n",
    "ele.submit()\n",
    "\n",
    "#############  이미지 검색 결과 페이지 이동  #######################\n",
    "driver.find_element(By.LINK_TEXT,'이미지').click()\n",
    "\n",
    "#페이지가 로드될 때까지 기다림\n",
    "time.sleep(SCROLL_PAUSE_TIME)\n",
    "\n",
    "#############  이미지 검색결과 페이지 스크롤  #######################\n",
    "#최초 스크롤 바의 높이 값 읽기\n",
    "last_height = driver.execute_script('return document.body.scrollHeight')\n",
    "\n",
    "#스크롤 횟수\n",
    "scroll_cnt=0\n",
    "\n",
    "while True:\n",
    "    #윈도우의 스크롤 바를 0에서부터 가장 밑(scrollHeight)까지 이동\n",
    "    driver.execute_script('window.scrollTo(0,document.body.scrollHeight)')\n",
    "    scroll_cnt += 1\n",
    "    time.sleep(SCROLL_PAUSE_TIME)\n",
    "    #스크롤 바 이동으로 새로운 검색 결과가 로딩 후 변경된 새로운 스크롤 바의 높이값 읽\n",
    "    new_height = driver.execute_script('return document.body.scrollHeight')\n",
    "    print(f'last height: {last_height}, new height: {new_height}, scroll count: {scroll_cnt}')\n",
    "    if last_height != new_height: #계속해서 new_height값이 변경 되면\n",
    "        last_height = new_height\n",
    "    else:   #더 이상 new_height 값의 변동이 없다면\n",
    "        break \n",
    "\n",
    "#############  이미지 선택 및 해당 이미지 src 추출abs  #######################\n",
    "# imgs = driver.find_elements(By.CLASS_NAME, 'YQ4gaf')\n",
    "# print(len(imgs))\n",
    "imgs = driver.find_elements(By.CSS_SELECTOR, '#rso > div > div > div.wH6SXe.u32vCb > div > div > div > div.czzyk.XOEbc > h3 > a')\n",
    "print(len(imgs))\n",
    "\n",
    "img_src_list = []\n",
    "img_cnt = 0\n",
    "for img in imgs:\n",
    "    try:\n",
    "        img_cnt += 1\n",
    "        img.click()\n",
    "        img_src=driver.find_element(By.XPATH,'//*[@id=\"Sva75c\"]/div[2]/div[2]/div[2]/div[2]/c-wiz/div/div/div/div/div[3]/div[1]/a/img[1]').get_attribute('src')\n",
    "        #해당 태그의 경로를 나타내는xpath 표시법\n",
    "        print(f'[{img_cnt}.{img_src}]')\n",
    "        img_src_list.append(img_src)\n",
    "        if img_cnt == IMAGE_EXTRACT_NUM:\n",
    "            break\n",
    "    except:\n",
    "        img_cnt -= 1"
   ]
  },
  {
   "cell_type": "markdown",
   "id": "5dd3bb41-e37c-4a7a-ba1e-8a929108d1cf",
   "metadata": {},
   "source": [
    "### 구글에서 이미지 검색 후 파일로 저장하기"
   ]
  },
  {
   "cell_type": "code",
   "execution_count": 1,
   "id": "fe1318b7-63c3-410e-b6cf-9accc8c14115",
   "metadata": {
    "scrolled": true
   },
   "outputs": [
    {
     "name": "stdout",
     "output_type": "stream",
     "text": [
      "last height: 6134, new height: 6134, scroll count: 1\n",
      "100\n",
      "[1.https://encrypted-tbn0.gstatic.com/images?q=tbn:ANd9GcRsIYC2tX7-thWnRsLLQdhMAQvzJZegPIfysbLXpD0tiA&s]\n",
      "[2.https://encrypted-tbn0.gstatic.com/images?q=tbn:ANd9GcRsIYC2tX7-thWnRsLLQdhMAQvzJZegPIfysbLXpD0tiA&s]\n",
      "[3.https://encrypted-tbn0.gstatic.com/images?q=tbn:ANd9GcRsIYC2tX7-thWnRsLLQdhMAQvzJZegPIfysbLXpD0tiA&s]\n",
      "[4.https://encrypted-tbn0.gstatic.com/images?q=tbn:ANd9GcRsIYC2tX7-thWnRsLLQdhMAQvzJZegPIfysbLXpD0tiA&s]\n",
      "[5.https://encrypted-tbn0.gstatic.com/images?q=tbn:ANd9GcRsIYC2tX7-thWnRsLLQdhMAQvzJZegPIfysbLXpD0tiA&s]\n",
      "[6.https://encrypted-tbn0.gstatic.com/images?q=tbn:ANd9GcRsIYC2tX7-thWnRsLLQdhMAQvzJZegPIfysbLXpD0tiA&s]\n",
      "[7.https://encrypted-tbn0.gstatic.com/images?q=tbn:ANd9GcR6HpYO647wK-Qp8vNieYQ2dRyc2AA779huXpN_IwOnrQ&s]\n",
      "[8.https://encrypted-tbn0.gstatic.com/images?q=tbn:ANd9GcTh-VwcRLO2qz6b1M1BFAOKqx9gM5pi8OcQ5oxXFVY85Q&s]\n",
      "[9.https://encrypted-tbn0.gstatic.com/images?q=tbn:ANd9GcShmjTP1k_rGXzB3rmXEptxG9XnQyJbRGEulysW19GsXg&s]\n",
      "[10.https://encrypted-tbn0.gstatic.com/images?q=tbn:ANd9GcSlWL650Cjp1sV1JyUtOU5rIX3rYIAT8RsO45Nc8CFmPw&s]\n",
      "[11.https://encrypted-tbn0.gstatic.com/images?q=tbn:ANd9GcRfJ6HbhHLN6Jng4pgifKa8chQNoPRzi8q2sCrO41kFeQ&s]\n",
      "[12.https://encrypted-tbn0.gstatic.com/images?q=tbn:ANd9GcRvAm7wNpwuTruynUMgtTTXOjH7IiIMa9GYqJrMyh79tQ&s]\n",
      "[13.https://encrypted-tbn0.gstatic.com/images?q=tbn:ANd9GcQWc8_8OiVPiRtDcQMOyQ6MLpvnwyXWJkgmscAza3vQgQ&s]\n",
      "[14.https://encrypted-tbn0.gstatic.com/images?q=tbn:ANd9GcQDjafryOT34LfApApfD_GVBI9-maCz9HboQ6vJMhdRKg&s]\n",
      "[15.https://encrypted-tbn0.gstatic.com/images?q=tbn:ANd9GcRXmWeWyq9td9f3XwBxMSoM4e9WdxL4FNsYAvUj7doCYA&s]\n",
      "[16.https://encrypted-tbn0.gstatic.com/images?q=tbn:ANd9GcQq9J2faFOuEtAjKP1xy1EPCByb0YipVjA0EaBqQiAREg&s]\n",
      "[17.https://encrypted-tbn0.gstatic.com/images?q=tbn:ANd9GcSmb5GAXvXyPyT_xcnVCbNvjqP88Xbe6AdpHns21OqyHg&s]\n",
      "[18.https://encrypted-tbn0.gstatic.com/images?q=tbn:ANd9GcT4tZldM0laz-NUIVquDxjVgcfGqGeLPDnOBpScivUllQ&s]\n",
      "[19.https://encrypted-tbn0.gstatic.com/images?q=tbn:ANd9GcR4Q2TH-7LiQ3YPYj5W9WIJwbCluq_TGTi4I9Gv6WtF-g&s]\n",
      "[20.https://encrypted-tbn0.gstatic.com/images?q=tbn:ANd9GcQho_nOPmn9udL2L5GXAhs_DTFoka1bkgVMP_pKQOO8bw&s]\n"
     ]
    }
   ],
   "source": [
    "from selenium.webdriver import Chrome, ChromeOptions\n",
    "from selenium.webdriver.chrome.service import Service\n",
    "from selenium.webdriver.common.by import By\n",
    "from selenium.webdriver.common.keys import Keys \n",
    "from webdriver_manager.chrome import ChromeDriverManager\n",
    "import time \n",
    "\n",
    "SCROLL_PAUSE_TIME = 2   #페이지가 로드될 때까지 기다리는 시간\n",
    "IMAGE_EXTRACT_NUM = 20 #이미지 추출 개수\n",
    "SEARCH_KEYWORD = '보더콜리'\n",
    "\n",
    "\n",
    "#############  웹 드라이버 실행 및 구글 접속  #######################\n",
    "driver = Chrome(service=Service(ChromeDriverManager().install()),options=ChromeOptions())\n",
    "driver.get('https://www.google.com')\n",
    "\n",
    "\n",
    "#############  검색  #######################\n",
    "ele=driver.find_element(by=By.CLASS_NAME,value='gLFyf')\n",
    "ele.send_keys(SEARCH_KEYWORD)\n",
    "ele.submit()\n",
    "\n",
    "#############  이미지 검색 결과 페이지 이동  #######################\n",
    "driver.find_element(By.LINK_TEXT,'이미지').click()\n",
    "\n",
    "#페이지가 로드될 때까지 기다림\n",
    "time.sleep(SCROLL_PAUSE_TIME)\n",
    "\n",
    "#############  이미지 검색결과 페이지 스크롤  #######################\n",
    "#최초 스크롤 바의 높이 값 읽기\n",
    "last_height = driver.execute_script('return document.body.scrollHeight')\n",
    "\n",
    "#스크롤 횟수\n",
    "scroll_cnt=0\n",
    "\n",
    "while True:\n",
    "    #윈도우의 스크롤 바를 0에서부터 가장 밑(scrollHeight)까지 이동\n",
    "    driver.execute_script('window.scrollTo(0,document.body.scrollHeight)')\n",
    "    scroll_cnt += 1\n",
    "    time.sleep(SCROLL_PAUSE_TIME)\n",
    "    #스크롤 바 이동으로 새로운 검색 결과가 로딩 후 변경된 새로운 스크롤 바의 높이값 읽\n",
    "    new_height = driver.execute_script('return document.body.scrollHeight')\n",
    "    print(f'last height: {last_height}, new height: {new_height}, scroll count: {scroll_cnt}')\n",
    "    if last_height != new_height: #계속해서 new_height값이 변경 되면\n",
    "        last_height = new_height\n",
    "    else:   #더 이상 new_height 값의 변동이 없다면\n",
    "        break \n",
    "\n",
    "#############  이미지 선택 및 해당 이미지 src 추출abs  #######################\n",
    "# imgs = driver.find_elements(By.CLASS_NAME, 'YQ4gaf')\n",
    "# print(len(imgs))\n",
    "imgs = driver.find_elements(By.CSS_SELECTOR, '#rso > div > div > div.wH6SXe.u32vCb > div > div > div > div.czzyk.XOEbc > h3 > a')\n",
    "print(len(imgs))\n",
    "\n",
    "img_src_list = []\n",
    "img_cnt = 0\n",
    "for img in imgs:\n",
    "    try:\n",
    "        img_cnt += 1\n",
    "        img.click()\n",
    "        img_src=driver.find_element(By.XPATH,'//*[@id=\"Sva75c\"]/div[2]/div[2]/div[2]/div[2]/c-wiz/div/div/div/div/div[3]/div[1]/a/img[1]').get_attribute('src')\n",
    "        #해당 태그의 경로를 나타내는xpath 표시법\n",
    "        print(f'[{img_cnt}.{img_src}]')\n",
    "        img_src_list.append(img_src)\n",
    "        if img_cnt == IMAGE_EXTRACT_NUM:\n",
    "            break\n",
    "    except:\n",
    "        img_cnt -= 1\n",
    "import os\n",
    "import requests\n",
    "\n",
    "ts=time.localtime()\n",
    "path = 'c:/Temp/'\n",
    "now = '{}.{}.{}.{}.{}.{}'.format(ts.tm_year, ts.tm_mon, ts.tm_mday, ts.tm_hour, ts.tm_min, ts.tm_sec)\n",
    "dir = SEARCH_KEYWORD + '/' + now + '/'\n",
    "os.chdir(path)\n",
    "if not os.path.exists(dir):\n",
    "    os.mkdir(dir)\n",
    "file_no = 1\n",
    "os.chdir(path + dir)\n",
    "for url in img_src_list:\n",
    "    extension = url.split('.')[-1]\n",
    "    ext = ''\n",
    "    if extension in ['jpg', 'JPG', 'JPEG', 'jpeg', 'png', 'PNG', 'gif', 'GIF']:\n",
    "        ext = '.' + extension\n",
    "    else:\n",
    "        ext = '.jpg'\n",
    "    file_name = str(file_no) + '-' + SEARCH_KEYWORD + ext\n",
    "    file_no += 1\n",
    "    res = requests.get(url)\n",
    "    with open(file_name, 'wb') as f:\n",
    "        f.write(res.content)\n",
    "driver.close()"
   ]
  },
  {
   "cell_type": "markdown",
   "id": "af5d0f8e-bdb9-4ec2-b9db-837baf847ba1",
   "metadata": {},
   "source": [
    "## select 태그 선택"
   ]
  },
  {
   "cell_type": "code",
   "execution_count": 5,
   "id": "1e047d15-c82c-40a5-aaea-9e232aa9d3d4",
   "metadata": {},
   "outputs": [],
   "source": [
    "from selenium.webdriver import Chrome, ChromeOptions\n",
    "from selenium.webdriver.chrome.service import Service\n",
    "from selenium.webdriver.common.by import By\n",
    "from selenium.webdriver.common.keys import Keys \n",
    "from webdriver_manager.chrome import ChromeDriverManager\n",
    "from selenium.webdriver.support.ui import Select\n",
    "\n",
    "URL = 'https://www.selenium.dev/selenium/web/formPage.html'\n",
    "driver = Chrome(service=Service(ChromeDriverManager().install()),options=ChromeOptions())\n",
    "driver.get(URL)\n",
    "\n",
    "ele = driver.find_element(By.NAME, 'selectomatic')\n",
    "select = Select(ele)\n",
    "\n",
    "# 인덱스 기준으로 선택하기\n",
    "select.select_by_index (2)\n",
    "\n",
    "# 보여지는 선택값 텍스트로 선택하기\n",
    "select.select_by_visible_text ('Four')\n",
    "\n",
    "# option 요소의 값으로 선택하기\n",
    "select.select_by_value('four')\n",
    "\n",
    "# select 태그에 onchange 속성이 있어서 Select 클래스를 사용할 수 없을 때\n",
    "driver.find_element(By.CSS_SELECTOR, 'option[value=\"four\"]').click()"
   ]
  },
  {
   "cell_type": "markdown",
   "id": "f76b4367-93d3-4269-8007-a0f847fa44db",
   "metadata": {},
   "source": [
    "[실습] yes24에서 파이썬 도서 검색하기\n",
    "- yes24 사이트에서 파이썬 도서 검색 -> 검색 결과를 120 선택\n",
    "- 검색 결과에서 도서 평점이 9.6 이상인 도서 제목과 가격, 평점 출력한다."
   ]
  },
  {
   "cell_type": "code",
   "execution_count": null,
   "id": "740f63fd-3f5a-4a6f-8e6e-458909aa639c",
   "metadata": {},
   "outputs": [],
   "source": [
    "from selenium.webdriver import Chrome, ChromeOptions\n",
    "from selenium.webdriver.chrome.service import Service\n",
    "from selenium.webdriver.common.by import By\n",
    "from selenium.webdriver.common.keys import Keys \n",
    "from webdriver_manager.chrome import ChromeDriverManager\n",
    "\n",
    "import requests\n",
    "from bs4 import BeautifulSoup\n",
    "URL = 'https://www.yes24.com/notice/eBookGuide/guide_pc.aspx'\n",
    "driver = Chrome(service=Service(ChromeDriverManager().install()),options=ChromeOptions())\n",
    "driver.get(URL)\n",
    "\n",
    "soup = BeautifulSoup(driver.page_source, 'html.parser')\n",
    "\n",
    "ele = driver.find_element(By.ID,'query')\n",
    "ele.send_keys('파이썬')\n",
    "ele.send_keys (Keys.ENTER)\n",
    "driver.find_element(By.CSS_SELECTOR, '#stat_gb > option[value=\"120\"]').click()\n",
    "#데이터 가져오기\n",
    "import requests\n",
    "from bs4 import BeautifulSoup\n",
    "\n",
    "\n",
    "book_list = soup.find('ul', attrs = {'id':'yesSchList'})\n",
    "books = book_list.find_all ('li')\n",
    "count = 0\n",
    "for i, book in enumerate(books,1) :\n",
    "    rating = book.find('span', attrs={'class':'rating_grade'})\n",
    "    if not rating: \n",
    "        continue # 평점이 없는 도서일 경우 이하 내용 실행 skip (평점없는 도서 떄문에)\n",
    "    \n",
    "    rating = float(rating.find('em').get_text())\n",
    "    if rating >= 9.6 :\n",
    "        count += 1\n",
    "        title = book.find('a', attrs = {'class':'gd_name'}).get_text()\n",
    "        price = book.find('strong', attrs = {'class':'txt_num'}).get_text()\n",
    "        print(f'{count:03d} | {title} | {price} | {rating}')"
   ]
  },
  {
   "cell_type": "code",
   "execution_count": 27,
   "id": "672dc194-d408-4972-a358-206e32e257e3",
   "metadata": {},
   "outputs": [],
   "source": [
    "now_URL = driver.current_url"
   ]
  },
  {
   "cell_type": "code",
   "execution_count": 20,
   "id": "1d1bc280-1c37-4505-affe-830a9812eb09",
   "metadata": {},
   "outputs": [
    {
     "name": "stdout",
     "output_type": "stream",
     "text": [
      "2555\n",
      "1페이지 평점 및 리뷰 정보 수집\n",
      "2페이지 평점 및 리뷰 정보 수집\n",
      "3페이지 평점 및 리뷰 정보 수집\n",
      "4페이지 평점 및 리뷰 정보 수집\n",
      "5페이지 평점 및 리뷰 정보 수집\n",
      "6페이지 평점 및 리뷰 정보 수집\n",
      "7페이지 평점 및 리뷰 정보 수집\n",
      "8페이지 평점 및 리뷰 정보 수집\n",
      "9페이지 평점 및 리뷰 정보 수집\n",
      "10페이지 평점 및 리뷰 정보 수집\n",
      "11페이지 평점 및 리뷰 정보 수집\n",
      "12페이지 평점 및 리뷰 정보 수집\n",
      "13페이지 평점 및 리뷰 정보 수집\n",
      "14페이지 평점 및 리뷰 정보 수집\n",
      "15페이지 평점 및 리뷰 정보 수집\n",
      "16페이지 평점 및 리뷰 정보 수집\n",
      "17페이지 평점 및 리뷰 정보 수집\n",
      "18페이지 평점 및 리뷰 정보 수집\n",
      "19페이지 평점 및 리뷰 정보 수집\n",
      "20페이지 평점 및 리뷰 정보 수집\n"
     ]
    }
   ],
   "source": [
    "from selenium.webdriver import Chrome, ChromeOptions\n",
    "from selenium.webdriver.chrome.service import Service\n",
    "from selenium.webdriver.common.by import By\n",
    "from selenium.webdriver.common.keys import Keys \n",
    "from webdriver_manager.chrome import ChromeDriverManager\n",
    "from selenium.webdriver.support.ui import Select\n",
    "import time\n",
    "import requests\n",
    "from bs4 import BeautifulSoup\n",
    "\n",
    "PAUSE_TIME = 4\n",
    "\n",
    "URL = 'https://www.megabox.co.kr'\n",
    "driver = Chrome(service=Service(ChromeDriverManager().install()),options=ChromeOptions())\n",
    "driver.get(URL)\n",
    "movie = driver.find_element(By.CSS_SELECTOR ,'#main_section01 > div.cont-area > div.main-movie-list > ol > li:nth-child(4) > a').click()\n",
    "time.sleep(PAUSE_TIME)\n",
    "driver.find_element(By.LINK_TEXT,'실관람평').click()\n",
    "#페이지 번호 클릭 테스트\n",
    "time.sleep(PAUSE_TIME)\n",
    "driver.find_element (By.CSS_SELECTOR, '#contentData > div > div.movie-idv-story > nav > a.control.last').click()\n",
    "time.sleep(PAUSE_TIME)\n",
    "total_page_num = int(driver.find_element(By.CSS_SELECTOR, '#contentData > div > div.movie-idv-story > nav > strong').text)\n",
    "print(total_page_num)\n",
    "driver.find_element(By.CSS_SELECTOR,'#contentData > div > div.movie-idv-story > nav > a.control.first').click()\n",
    "\n",
    "ratings = []\n",
    "comments = []\n",
    "\n",
    "THE_LAST_PAGE = 20\n",
    "next_a_tag = 2 # 다음 클릭이 이뤄질 a 태그 순서, 첫페이지는 a 태그가 아닌 strong 태그 \n",
    "for i in range(1, total_page_num+1):\n",
    "    if i > THE_LAST_PAGE : break\n",
    "    print(f'{i}페이지 평점 및 리뷰 정보 수집')\n",
    "    bs = BeautifulSoup(driver.page_source, 'lxml')\n",
    "    result = bs.find_all('li', attrs = {'class': 'type01 oneContentTag'})\n",
    "    for c in result :\n",
    "        rating = int(c.find('div',attrs = {'class': 'story-point'}).text)\n",
    "        comment = c.find('div', attrs = { 'class' : 'story-txt'}).text.strip()\n",
    "        ratings.append (rating) \n",
    "        comments.append(comment)\n",
    "    if not i%10: #10번째 페이지 평점 정보 수집이 끝나면\n",
    "        driver.find_element(By.CSS_SELECTOR, '#contentData > div > div.movie-idv-story > nav > a.control.next').click()\n",
    "        time.sleep(PAUSE_TIME)\n",
    "        next_a_tag = 4 #다음 10페이지에서 그다음 클릭이 이루어질 a 태그의 순서\n",
    "#다음페이지 번호 클릭\n",
    "driver.find_element(By.CSS_SELECTOR,f'#contentData > div > div.movie-idv-story > nav > a:nth-child({next_a_tag}').click()\n",
    "time.sleep(PAUSE_TIME)\n",
    "next_a_tag += 1\n",
    "driver.close()"
   ]
  },
  {
   "cell_type": "code",
   "execution_count": 15,
   "id": "c11e6efe-4ce9-4cfd-b98b-74c17a13b6c4",
   "metadata": {},
   "outputs": [
    {
     "name": "stdout",
     "output_type": "stream",
     "text": [
      "관람객 평점:9.2점\n",
      "평점저장완료\n",
      "감상평 저장완료\n"
     ]
    }
   ],
   "source": [
    "print(f'관람객 평점:{sum(ratings)/len(ratings):.1f}점')\n",
    "\n",
    "import csv\n",
    "import os\n",
    "with open('ratings.csv', 'w') as f:\n",
    "    writer = csv.writer(f)\n",
    "    for rating in ratings:\n",
    "        writer.writerow([rating])\n",
    "print('평점저장완료')\n",
    "\n",
    "with open ('comment.txt', 'w', encoding='utf-8') as f :\n",
    "    for comment in comments:\n",
    "        f.write(comment+'\\n')\n",
    "print('감상평 저장완료')"
   ]
  }
 ],
 "metadata": {
  "kernelspec": {
   "display_name": "Python 3 (ipykernel)",
   "language": "python",
   "name": "python3"
  },
  "language_info": {
   "codemirror_mode": {
    "name": "ipython",
    "version": 3
   },
   "file_extension": ".py",
   "mimetype": "text/x-python",
   "name": "python",
   "nbconvert_exporter": "python",
   "pygments_lexer": "ipython3",
   "version": "3.11.7"
  }
 },
 "nbformat": 4,
 "nbformat_minor": 5
}
