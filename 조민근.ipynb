{
 "cells": [
  {
   "cell_type": "markdown",
   "id": "dd922a48-d8d5-4614-ac47-aa105264936a",
   "metadata": {},
   "source": [
    "1. 2\n",
    "   인터프리터 방식 : 한 줄씩 명령어를 번역해서 실행\n",
    "   실행속도는 느림 < 컴파일러 언어, 시스템 프로그래밍에 적합\n",
    "   링크 과정이 없어 구조 간단"
   ]
  },
  {
   "cell_type": "markdown",
   "id": "d844ec5d-7cae-47bb-bee7-459aa2b6296f",
   "metadata": {},
   "source": [
    "2. 3\n",
    "파이썬 지원 라이브러리가 많다 "
   ]
  },
  {
   "cell_type": "markdown",
   "id": "d1ef1c33-66a0-4325-bf66-6bdceeeb4411",
   "metadata": {},
   "source": [
    "3. 4"
   ]
  },
  {
   "cell_type": "code",
   "execution_count": 1,
   "id": "6e201f7a-3a13-4cb1-ae1e-8da4965b6b2a",
   "metadata": {},
   "outputs": [
    {
     "name": "stdin",
     "output_type": "stream",
     "text": [
      "사각형의 폭을 입력하세요:  3\n",
      "사각형의 높이를 입력하세요:  4\n"
     ]
    },
    {
     "name": "stdout",
     "output_type": "stream",
     "text": [
      "사각형의 면적은 12입니다.\n"
     ]
    }
   ],
   "source": [
    "4. \n",
    "w = int(input('사각형의 폭을 입력하세요: '))\n",
    "h = int(input('사각형의 높이를 입력하세요: '))\n",
    "print(f'사각형의 면적은 {w*h}입니다.')"
   ]
  },
  {
   "cell_type": "code",
   "execution_count": 4,
   "id": "456ac5ca-186f-47b3-a118-917662e8570d",
   "metadata": {},
   "outputs": [
    {
     "name": "stdout",
     "output_type": "stream",
     "text": [
      "--DIMA4기 전자 출결 시스템--\n"
     ]
    },
    {
     "name": "stdin",
     "output_type": "stream",
     "text": [
      "ID를 입력 하세요:  digitalmaster\n",
      "PW를 입력 하세요:  123abc\n"
     ]
    },
    {
     "name": "stdout",
     "output_type": "stream",
     "text": [
      "ID,PW를 확인하세요.\n"
     ]
    }
   ],
   "source": [
    "5.\n",
    "print('--DIMA4기 전자 출결 시스템--')\n",
    "id = 'digitalmaster'\n",
    "pw = '12345678'\n",
    "my_id = input('ID를 입력 하세요: ')\n",
    "my_pw = input('PW를 입력 하세요: ')\n",
    "if id == my_id and pw == my_pw :\n",
    "    print('정상적으로 출결 되었습니다.')\n",
    "else:\n",
    "    print('ID,PW를 확인하세요.')"
   ]
  },
  {
   "cell_type": "code",
   "execution_count": 8,
   "id": "fcc40fb1-83bb-4e1d-ace2-fdeb1309a4be",
   "metadata": {},
   "outputs": [
    {
     "name": "stdout",
     "output_type": "stream",
     "text": [
      "성적입력 (100점 단위): \n"
     ]
    },
    {
     "name": "stdin",
     "output_type": "stream",
     "text": [
      "출석점수:  49\n",
      "과제점수:  100\n",
      "중간고사:  100\n",
      "기말프로젝트:  100\n"
     ]
    },
    {
     "name": "stdout",
     "output_type": "stream",
     "text": [
      "94.9\n",
      "F학점\n"
     ]
    }
   ],
   "source": [
    "6.\n",
    "print('성적입력 (100점 단위): ')\n",
    "attend = int(input('출석점수: '))\n",
    "hw = int(input('과제점수: '))\n",
    "mid = int(input('중간고사: '))\n",
    "final = int(input('기말프로젝트: '))\n",
    "total = attend*0.1+hw*0.2+mid*0.4+final*0.3\n",
    "i = 0\n",
    "if attend < 50 :\n",
    "        i = 'F'\n",
    "elif total >= 90 :\n",
    "        i = 'A'\n",
    "elif total >= 80 :\n",
    "        i = 'B'\n",
    "elif total >= 70 :\n",
    "        i = 'C'\n",
    "elif total >= 60 :\n",
    "        i = 'D'\n",
    "else : \n",
    "        i = 'F'\n",
    "print(total)\n",
    "print(f'{i}학점')"
   ]
  },
  {
   "cell_type": "code",
   "execution_count": 3,
   "id": "5bda1d27-d41e-409b-9dc5-00b6257179f5",
   "metadata": {
    "scrolled": true
   },
   "outputs": [
    {
     "name": "stdin",
     "output_type": "stream",
     "text": [
      "숫자 입력:  42\n",
      "숫자 입력:  12\n",
      "숫자 입력:  4\n",
      "숫자 입력:  5\n",
      "숫자 입력:  32\n",
      "숫자 입력:  14\n",
      "숫자 입력:  59\n",
      "숫자 입력:  98\n",
      "숫자 입력:  52\n",
      "숫자 입력:  11\n"
     ]
    },
    {
     "name": "stdout",
     "output_type": "stream",
     "text": [
      "[4, 5, 11, 12, 14, 32, 42, 52, 59, 98]\n",
      "42\n",
      "12\n"
     ]
    }
   ],
   "source": [
    "7.\n",
    "list = []\n",
    "n = 0\n",
    "while True:\n",
    "        try:\n",
    "            n = int(input('숫자 입력: '))\n",
    "            list.append(n)\n",
    "            if len(list) == 10:\n",
    "                break\n",
    "        except ValueError as e:\n",
    "            print('정수만 입력하세요.')\n",
    "print(sorted(list))\n",
    "for n in list :\n",
    "    if n % 3 == 0 :\n",
    "        print(n)"
   ]
  },
  {
   "cell_type": "code",
   "execution_count": 63,
   "id": "1e8f1d1a-ac00-4102-91c7-42fba359fc0a",
   "metadata": {},
   "outputs": [
    {
     "name": "stdout",
     "output_type": "stream",
     "text": [
      "{'서울': '02', '경기': '031', '강원': '033', '충남': '041', '충북': '043', '경북': '054', '경남': '055', '전남': '061'}\n"
     ]
    }
   ],
   "source": [
    "8.\n",
    "phone = \"서울 02 ~경기 031 ~강원 033 ~충남 041 ~충북 043 ~경북 054 ~경남 055 ~전남 061 ~전북 063\"\n",
    "list=phone.replace('~',\"\")\n",
    "list1 = list.replace(' ',':') \n",
    "a = list1.split(':')\n",
    "x =[]\n",
    "y =[]\n",
    "for i in range (0,16,2):\n",
    "    x.append(a[i])\n",
    "    \n",
    "for i in range (1,17,2):\n",
    "    y.append(a[i])\n",
    "\n",
    "lux = dict(zip(x,y))\n",
    "print(lux)"
   ]
  },
  {
   "cell_type": "code",
   "execution_count": 77,
   "id": "9ab81b83-b673-452c-b308-e0917550a5bc",
   "metadata": {},
   "outputs": [
    {
     "name": "stdin",
     "output_type": "stream",
     "text": [
      "웹 주소 입력:  www.naver.com\n"
     ]
    },
    {
     "name": "stdout",
     "output_type": "stream",
     "text": [
      "kr 도메인이 아닙니다.\n"
     ]
    }
   ],
   "source": [
    "9.\n",
    "email = input('웹 주소 입력: ')\n",
    "if email[-2]=='k' and email[-1] =='r' :\n",
    "    print('kr 도메인이 맞습니다')\n",
    "else:\n",
    "    print('kr 도메인이 아닙니다.')"
   ]
  },
  {
   "cell_type": "code",
   "execution_count": 79,
   "id": "4e85935f-aa5b-43c8-a6c1-e2585475c29d",
   "metadata": {},
   "outputs": [
    {
     "name": "stdout",
     "output_type": "stream",
     "text": [
      "[2, 4, 6, 8, 10, 12, 14, 16, 18, 20, 22, 24, 26, 28, 30, 32, 34, 36, 38, 40, 42, 44, 46, 48, 50, 52, 54, 56, 58, 60, 62, 64, 66, 68, 70, 72, 74, 76, 78, 80, 82, 84, 86, 88, 90, 92, 94, 96, 98, 100]\n"
     ]
    }
   ],
   "source": [
    "10.\n",
    "list = [i for i in range(1,101) if not i % 2]\n",
    "print(list)"
   ]
  },
  {
   "cell_type": "code",
   "execution_count": 117,
   "id": "440a47d4-ec92-41fb-a18f-2d3f855d38c5",
   "metadata": {},
   "outputs": [
    {
     "name": "stdout",
     "output_type": "stream",
     "text": [
      "[348.0, 960.0, 712.0, 1080.0, 796.0]\n"
     ]
    }
   ],
   "source": [
    "11.\n",
    "price = [435, 1200, 890, 1350, 995]\n",
    "discount = [(lambda x: x * 0.8)(x) for x in price]\n",
    "print (discount)"
   ]
  },
  {
   "cell_type": "code",
   "execution_count": 124,
   "id": "652d7d10-8f91-4f68-b92e-6647926cde59",
   "metadata": {},
   "outputs": [
    {
     "name": "stdin",
     "output_type": "stream",
     "text": [
      "값[0]:  1\n",
      "값[1]:  5\n",
      "값[2]:  10\n",
      "값[3]:  25\n",
      "값[4]:  -40\n",
      "값[5]:  -25\n",
      "값[6]:  100\n",
      "값[7]:  3\n",
      "값[8]:  5\n",
      "값[9]:  7\n"
     ]
    },
    {
     "name": "stdout",
     "output_type": "stream",
     "text": [
      "평균: 9.1\n",
      "평균과 10 이상 차이나는 수 : [25, -40, -25, 100]\n"
     ]
    }
   ],
   "source": [
    "12.\n",
    "list = []\n",
    "list2 = []\n",
    "sum = 0\n",
    "for i in range(0,10) :\n",
    "    a = int(input(f'값{[i]}: '))\n",
    "    list.append(a)\n",
    "    sum += a\n",
    "print(f'평균: {sum/10}')\n",
    "for a in list :\n",
    "    if abs(int(a)-(sum/10)) >= 10 :\n",
    "        list2.append(a)\n",
    "print(f'평균과 10 이상 차이나는 수 : {list2}')"
   ]
  },
  {
   "cell_type": "code",
   "execution_count": null,
   "id": "36d78e79-672a-461b-bea4-32a97df95de2",
   "metadata": {},
   "outputs": [],
   "source": [
    "13.\n",
    "list=[]\n",
    "new = []\n",
    "while True:\n",
    "    num = int(input('정수를 입력하세요(종료:0): '))\n",
    "    list.append(num)\n",
    "    if num == 0:\n",
    "        break\n",
    "rank = int(input('검색할 순위: '))\n",
    "while True:\n",
    "    if rank in range(1,len(list)+1) :\n",
    "        break\n",
    "    elif rank \n",
    "        print('리스트의 범위를 벗어났습니다. 다시 입력하세요 : ')\n",
    "    else:\n",
    "        print('리스트의 범위를 벗어났습니다. 다시 입력하세요 : ')\n",
    "        \n",
    "new = sorted(list)\n",
    "\n",
    "print(f'{rank}번째로 큰 수는 {new[len(list)-rank]}입니다.')"
   ]
  },
  {
   "cell_type": "code",
   "execution_count": null,
   "id": "67e90965-e7cd-407c-930d-735977219070",
   "metadata": {},
   "outputs": [],
   "source": [
    "14.\n",
    "year = int(input('연도: '))\n",
    "month = int(input('월: '))\n",
    "date = int(input('일: '))\n",
    "sum = 0\n",
    "\n",
    "for i in range(1,year)\n",
    "    if ((year % 4 == 0 and year % 4 != 100) or (year % 400 == 0)) :\n",
    "       sum += (i*366)\n",
    "    else :\n",
    "       sum += (i*365)\n",
    "daysInMonth1 = [31,28,31,30,31,30,31,31,30,31,30,31]\n",
    "daysInMonth2 = [31,29,31,30,31,30,31,31,30,31,30,31]\n",
    "days = []\n",
    "for i in range(1,year)\n",
    "    if ((year % 4 == 0 and year % 4 != 100) or (year % 400 == 0)) :\n",
    "       for day in range daysInMonth1\n",
    "    else :\n",
    "       days = \n",
    "total = sum + days + date\n",
    "print(f'1년 1월 1일 ~ {year}년 {month}월 {date}일까지는 총 {total}일 입니다.')"
   ]
  }
 ],
 "metadata": {
  "kernelspec": {
   "display_name": "Python 3 (ipykernel)",
   "language": "python",
   "name": "python3"
  },
  "language_info": {
   "codemirror_mode": {
    "name": "ipython",
    "version": 3
   },
   "file_extension": ".py",
   "mimetype": "text/x-python",
   "name": "python",
   "nbconvert_exporter": "python",
   "pygments_lexer": "ipython3",
   "version": "3.11.7"
  }
 },
 "nbformat": 4,
 "nbformat_minor": 5
}
