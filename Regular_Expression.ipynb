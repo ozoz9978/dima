{
 "cells": [
  {
   "cell_type": "markdown",
   "id": "c2e52df3-d37c-497c-98cf-3eaa99ce9bf3",
   "metadata": {},
   "source": [
    "# 정규식 비사용 vs 사용"
   ]
  },
  {
   "cell_type": "markdown",
   "id": "c9a9c3c6-93af-4510-a73f-1d973d8f4cd5",
   "metadata": {},
   "source": [
    "1. 정규식 : 특정한 규칙을 가진 문자열 집합을 표현하는데 사용\n",
    "문자열 검색과 치환에 사용\n",
    "ex. 많은 for문이나 else문 사용해야하는 불편\n",
    ". : 공백 제외 모든 문자 a. = af, ar, ax...\n",
    "[] : 가로 안의 문자와 매치 [a,b,c] = a,b,c\n",
    "* + : 반복문자(1회라도 나오냐 안나오냐 차이)ab* = a, ab, abbb.. ab+ = ab, abb\n",
    "? : ab? = a, ab b가 나올수 안나올수\n",
    "{m,n} : m이상 n이하 반복 a{1,2} = a, aa (m이나 n생략가능)\n",
    "| : 여러 경우 중 하나 a|b|c = a,b,c\n",
    "\\ : 특수기호표현 .프린트원할때 = \\.\n",
    "\\s 공백\n",
    "\\w 단어반복 (문자+숫자)\n",
    "\\d 숫자 0~9\n",
    "\n",
    "\n",
    "[예시] 그림파일 찾고 싶을 때 (이름. 그림확장자 bmp,jpg,gif,png)) \n",
    "=> .+\\.(jpg|png|gif|bmp)\n",
    "\n",
    "2. 파이썬에서 정규식 사용하고 싶을 때\n",
    "re 모듈 사용 : 패턴 만들기 p=re.compile('패턴'), 패턴 찾기 m = p.match('패턴을 찾고싶은 문자열')\n",
    "group() 매치된 문자열을 리턴\n",
    "start() 매치된 시작 위치 리턴\n",
    "end() 매치된 끝 위치 리턴\n",
    "span() 매치된 (시작,끝) 튜플로 리턴\n",
    "\n",
    "\n",
    "4. 컴파일 옵션\n",
    "   DOTALL : 줄바꿈문자도 포함해서 매칭\n",
    "   IGNORECASE : 대소문자 무시 매칭\n",
    "   MULTILINE : 한줄마다 매칭\n",
    "   VERBOSE : 긴정규표현식을 줄바꿈으로 나눠도 돼\n",
    "\n",
    "5. \\section = ection r'\\\\section' = \\포함검색이 정상적작동\n",
    "6. | = or\n",
    "7. ^ : 맨처음에 나오는지 매칭 (순서중요)\n",
    "8. $ : 맨 끝에 나오는지 매칭 (순서중요) 아니면 none\n",
    "9. \\b : 공백\n",
    "10. search() 문자열 전체를 검색하여 처음으로 매치되는 문자열을 찾기만 함\n",
    "11. group() 안의 문자열 전체를 묶어줌 한글자말고\n",
    ".group(1) = 해당 그룹 반환\n",
    "group의 결과를 사용할 수도 있음 ((?P<그룹이름>)) -> .group('그룹이름')\n",
    "12. 전방탐색 : (?= 빼기원하는 문자만) 빼기 원하는 문자만 빼고 거기까출력가능\n",
    "    (?!빼기 원하는 문자열)빼기 원하는 문자열 포함되면 아예 제외\n",
    "13. re.compile('바꾸고싶은 기존 단어 또는 열') => p.sub('바꿀려는', '기존식')\n",
    "14. greedy = <조건?> 하면 조건을 최소한도로 쫍혀서 적용 한단어씩 한목록으로 안보고\n",
    "15. findall() : 정규식과 매치되는 모든 문자열을 찾아 리스트로 반환한다.re.findall('조건', '기존 문자열') = [''...]"
   ]
  },
  {
   "cell_type": "code",
   "execution_count": 2,
   "id": "2eba33be-009d-48a6-8a65-febc355f4a3e",
   "metadata": {},
   "outputs": [
    {
     "name": "stdout",
     "output_type": "stream",
     "text": [
      "park 800904-*******\n",
      "kim 841204-*******\n"
     ]
    }
   ],
   "source": [
    "data = \"\"\"\n",
    "park 800904-1234567\n",
    "kim 841204-1234543\n",
    "\"\"\"\n",
    "\n",
    "result =[]\n",
    "for line in data.split('\\n'):\n",
    "    word_result =[]\n",
    "    for word in line.split():\n",
    "        if len(word)==14 and word[:6].isdigit() and word[7:].isdigit():\n",
    "            word = word[:6] + '-' + '*******'\n",
    "        word_result.append(word)\n",
    "    result.append(' '.join(word_result))\n",
    "print('\\n'.join(result).strip())"
   ]
  },
  {
   "cell_type": "code",
   "execution_count": 4,
   "id": "aa432e4f-359c-418e-b072-890bc15d14d3",
   "metadata": {},
   "outputs": [
    {
     "name": "stdout",
     "output_type": "stream",
     "text": [
      "park 800904-*******\n",
      "kim 841204-*******\n"
     ]
    }
   ],
   "source": [
    "import re\n",
    "\n",
    "pat = re.compile('(\\d{6})[-](\\d{7})')\n",
    "print(pat.sub(r'\\1-*******',data).strip())"
   ]
  },
  {
   "cell_type": "markdown",
   "id": "d7c2867f-b009-4e25-a663-9ff4cfcc2ff8",
   "metadata": {},
   "source": [
    "# 문자열 검색"
   ]
  },
  {
   "cell_type": "code",
   "execution_count": 9,
   "id": "2672a4f1-5ff1-4205-ae34-8ba5ae1a6b79",
   "metadata": {},
   "outputs": [],
   "source": [
    "import re\n",
    "\n",
    "p = re.compile('[a-z]+') #알파벳 소문자 1개 이상"
   ]
  },
  {
   "cell_type": "markdown",
   "id": "19776587-99e8-4bf5-b60b-5cd48845bb53",
   "metadata": {},
   "source": [
    "## match ()\n",
    "- 문자열의 처음부터 정규식과 매치되는지 조사"
   ]
  },
  {
   "cell_type": "code",
   "execution_count": 15,
   "id": "cebf94e2-1e2a-4196-abcd-83742eff14a5",
   "metadata": {},
   "outputs": [
    {
     "name": "stdout",
     "output_type": "stream",
     "text": [
      "<re.Match object; span=(0, 6), match='python'>\n",
      "<re.Match object; span=(0, 1), match='p'>\n",
      "None\n",
      "Match found: python\n"
     ]
    }
   ],
   "source": [
    "m1 = p.match('python')\n",
    "print(m1)\n",
    "m2 = p.match('pYthon')\n",
    "print(m2)\n",
    "m3 = p.match('3 python') #앞부터 나와야함\n",
    "print(m3)\n",
    "if m1:\n",
    "    print('Match found:', m1.group()) # group(): 매치된 문자열 반환\n",
    "else:\n",
    "    print('Not Match')"
   ]
  },
  {
   "cell_type": "markdown",
   "id": "c2eba047-d221-4bc1-a683-6cb98f7feb9d",
   "metadata": {},
   "source": [
    "## search()\n",
    "- 문자열 전체를 검색하여 처음으로 매치되는 문자열을 찾는다."
   ]
  },
  {
   "cell_type": "code",
   "execution_count": 16,
   "id": "194a3d8e-6b28-4b21-8920-eeb6ae2a0808",
   "metadata": {
    "scrolled": true
   },
   "outputs": [
    {
     "name": "stdout",
     "output_type": "stream",
     "text": [
      "<re.Match object; span=(2, 8), match='python'>\n"
     ]
    }
   ],
   "source": [
    "m = p.search('3 python')\n",
    "print(m)"
   ]
  },
  {
   "cell_type": "code",
   "execution_count": null,
   "id": "7b8fd9cc-eac4-4a8d-911c-560c6bb55d07",
   "metadata": {},
   "outputs": [],
   "source": [
    "[문제] 전화번호 추출하기  \n",
    "다음의 전화번호 데이터에서 전화번호만 추출하는 정규표현식을 작성하세요."
   ]
  },
  {
   "cell_type": "code",
   "execution_count": 22,
   "id": "9261733b-403b-42b4-a54e-a5132e38b21d",
   "metadata": {},
   "outputs": [
    {
     "name": "stdout",
     "output_type": "stream",
     "text": [
      "010-1234-5555\n",
      "02-555-3333\n"
     ]
    }
   ],
   "source": [
    "phone = ['홍길동:010-1234-5555', '우리집,02-555-3333']\n",
    "pat = re.compile('\\d{2,3}-\\d{3,4}-\\d{4}')\n",
    "for p in phone:\n",
    "    m = pat.search(p)\n",
    "    print(m.group())"
   ]
  },
  {
   "cell_type": "markdown",
   "id": "4960e438-d7f2-4446-a5c0-439d1bf32af7",
   "metadata": {},
   "source": [
    "## findall()\n",
    "- 정규식과 매치되는 모든 문자열을 찾아 리스트로 반환한다."
   ]
  },
  {
   "cell_type": "code",
   "execution_count": 24,
   "id": "4f009cb1-a74d-4fca-bb10-964e24105c0e",
   "metadata": {},
   "outputs": [
    {
     "name": "stdout",
     "output_type": "stream",
     "text": [
      "['life', 'is', 'too', 'short']\n"
     ]
    }
   ],
   "source": [
    "result = re.findall('[a-z]+', 'life is too short')\n",
    "print(result)"
   ]
  },
  {
   "cell_type": "markdown",
   "id": "647060e4-e295-41ff-9a43-c5bae1c5215e",
   "metadata": {},
   "source": [
    "# Match 객체 함수"
   ]
  },
  {
   "cell_type": "code",
   "execution_count": 26,
   "id": "b7f96649-38b8-4c23-b838-25fe7bd23fe0",
   "metadata": {},
   "outputs": [
    {
     "name": "stdout",
     "output_type": "stream",
     "text": [
      "python\n",
      "0\n",
      "6\n",
      "(0, 6)\n"
     ]
    }
   ],
   "source": [
    "import re\n",
    "\n",
    "p = re.compile('[a-z]+')\n",
    "m = p.search('python')\n",
    "print(m.group())\n",
    "print(m.start())\n",
    "print(m.end())\n",
    "print(m.span())"
   ]
  },
  {
   "cell_type": "markdown",
   "id": "134a1444-7da2-499a-9c56-9ac11d410890",
   "metadata": {},
   "source": [
    "# 컴파일 옵션"
   ]
  },
  {
   "cell_type": "markdown",
   "id": "325588e2-6f33-4954-99f4-791094e349fa",
   "metadata": {},
   "source": [
    "## DOTALL\n",
    "- dot(.) 메타 문자가 줄바꿈 문자(\\n)를 포함하여 모든 문자와 일치한다."
   ]
  },
  {
   "cell_type": "code",
   "execution_count": 28,
   "id": "f0443e51-1348-4fb0-a3ec-95e7c67de46f",
   "metadata": {},
   "outputs": [
    {
     "name": "stdout",
     "output_type": "stream",
     "text": [
      "None\n",
      "<re.Match object; span=(0, 3), match='a\\nb'>\n"
     ]
    }
   ],
   "source": [
    "m = re.match('a.b', 'a\\nb')\n",
    "print(m)\n",
    "p = re.compile('a.b', re.DOTALL)\n",
    "m = p.match('a\\nb')\n",
    "print(m)"
   ]
  },
  {
   "cell_type": "code",
   "execution_count": 30,
   "id": "a817cf54-63eb-4f8f-9129-e2687fe80691",
   "metadata": {},
   "outputs": [
    {
     "name": "stdout",
     "output_type": "stream",
     "text": [
      "<re.Match object; span=(0, 12), match='hello\\npython'>\n"
     ]
    }
   ],
   "source": [
    "s = '''hello\n",
    "python'''\n",
    "p = re.compile('hello.python', re.DOTALL)\n",
    "print(p.match(s))"
   ]
  },
  {
   "cell_type": "markdown",
   "id": "2bfe77fb-b9d5-446f-8f41-433a94ec0e8d",
   "metadata": {},
   "source": [
    "## IGNORECASE\n",
    "- 대소문자에 관계 없이 일치한다."
   ]
  },
  {
   "cell_type": "code",
   "execution_count": 32,
   "id": "009f431a-b84a-4bd1-b8bb-f569e9816bab",
   "metadata": {},
   "outputs": [
    {
     "name": "stdout",
     "output_type": "stream",
     "text": [
      "<re.Match object; span=(0, 6), match='python'>\n",
      "<re.Match object; span=(0, 6), match='PYTHON'>\n"
     ]
    }
   ],
   "source": [
    "p = re.compile('[a-z]+', re.IGNORECASE)\n",
    "print(p.match('python'))\n",
    "print(p.match('PYTHON'))"
   ]
  },
  {
   "cell_type": "markdown",
   "id": "8fb45822-6827-455d-875d-06b68b6c64cb",
   "metadata": {},
   "source": [
    "## MULTILINE\n",
    "- 여러 줄의 문자열에 대해 ^, $ 메타문자를 적용할 수 있다."
   ]
  },
  {
   "cell_type": "code",
   "execution_count": 33,
   "id": "ce5be8f0-e9ba-4cb3-864b-6c5d9e4c9056",
   "metadata": {},
   "outputs": [
    {
     "name": "stdout",
     "output_type": "stream",
     "text": [
      "['python one']\n"
     ]
    }
   ],
   "source": [
    "p = re.compile('^python\\s\\w+')\n",
    "\n",
    "text = '''python one\n",
    "life is too short\n",
    "python two\n",
    "you need python\n",
    "python three'''\n",
    "m = p.findall(text)\n",
    "print(m)"
   ]
  },
  {
   "cell_type": "code",
   "execution_count": 34,
   "id": "e83058c8-9b9b-445c-8938-cae99ea2d7fe",
   "metadata": {},
   "outputs": [
    {
     "name": "stdout",
     "output_type": "stream",
     "text": [
      "['python one', 'python two', 'python\\npython']\n"
     ]
    }
   ],
   "source": [
    "p = re.compile('python\\s\\w+')\n",
    "\n",
    "text = '''python one\n",
    "life is too shortp\n",
    "python two\n",
    "you need python\n",
    "python three'''\n",
    "m = p.findall(text)\n",
    "print(m)"
   ]
  },
  {
   "cell_type": "code",
   "execution_count": 35,
   "id": "e396f850-c2b0-46d8-81cc-d5109f83772f",
   "metadata": {},
   "outputs": [
    {
     "name": "stdout",
     "output_type": "stream",
     "text": [
      "['python one', 'python two', 'python three']\n"
     ]
    }
   ],
   "source": [
    "#MULTILINE은 ^, $ 메타문자를 문자열의 각 줄마다 적용한다.\n",
    "p = re.compile('^python\\s\\w+', re.MULTILINE)\n",
    "\n",
    "text = '''python one\n",
    "life is too shortp\n",
    "python two\n",
    "you need python\n",
    "python three'''\n",
    "m = p.findall(text)\n",
    "print(m)"
   ]
  },
  {
   "cell_type": "markdown",
   "id": "a80e252b-3f72-4a87-a6c0-94316a5f0d89",
   "metadata": {},
   "source": [
    "# 백슬래시 문제"
   ]
  },
  {
   "cell_type": "code",
   "execution_count": 1,
   "id": "e046f34d-5f94-4fbb-aaa0-88029dc7c331",
   "metadata": {},
   "outputs": [
    {
     "name": "stdout",
     "output_type": "stream",
     "text": [
      "None\n",
      "<re.Match object; span=(8, 16), match='\\\\section'>\n"
     ]
    }
   ],
   "source": [
    "import re\n",
    "\n",
    "p = re.compile('\\\\section') #\\section으로 해석된 문자열이 전달되어 [\\t\\n\\r\\f\\v]ection 과 같은 의미로 해석\n",
    "\n",
    "m = p.search('What is \\section and example?')\n",
    "print(m)\n",
    "\n",
    "p = re.compile(r'\\\\section') \n",
    "m = p.search('What is \\section and example?')\n",
    "print(m)"
   ]
  },
  {
   "cell_type": "markdown",
   "id": "0fc5ddf3-cf34-4a32-ab4b-f43990aacf6a",
   "metadata": {},
   "source": [
    "# 메타문자"
   ]
  },
  {
   "cell_type": "markdown",
   "id": "a9b94f5a-6881-4870-b5b3-2b9225c0fe4f",
   "metadata": {},
   "source": [
    "## |\n",
    "- or 의 의미"
   ]
  },
  {
   "cell_type": "code",
   "execution_count": 38,
   "id": "ac5d6c6f-9c79-4f83-baf3-112d03543d87",
   "metadata": {},
   "outputs": [
    {
     "name": "stdout",
     "output_type": "stream",
     "text": [
      "<re.Match object; span=(0, 5), match='Servo'>\n"
     ]
    }
   ],
   "source": [
    "import re\n",
    "p = re.compile('Crow|Servo')\n",
    "m = p.match('ServoHello')\n",
    "print(m)"
   ]
  },
  {
   "cell_type": "code",
   "execution_count": null,
   "id": "bf104455-9d88-48ee-9a90-e47dbc976a10",
   "metadata": {},
   "outputs": [],
   "source": [
    "## \\A\n",
    "- 문자열의 처음과 일치함을 의미\n",
    "- MULTILINE 옵션 안먹힘"
   ]
  },
  {
   "cell_type": "code",
   "execution_count": 44,
   "id": "6aadd734-002f-43f4-b194-a02237afdd9a",
   "metadata": {},
   "outputs": [
    {
     "name": "stdout",
     "output_type": "stream",
     "text": [
      "['python one']\n"
     ]
    }
   ],
   "source": [
    "p = re.compile('\\Apython\\s\\w+', re.MULTILINE)\n",
    "\n",
    "text = '''python one\n",
    "life is too short\n",
    "python two\n",
    "you need python\n",
    "python three'''\n",
    "m = p.findall(text)\n",
    "print(m)"
   ]
  },
  {
   "cell_type": "code",
   "execution_count": null,
   "id": "61997254-882d-4926-82ba-f082ca8703e6",
   "metadata": {},
   "outputs": [],
   "source": [
    "## \\b\n",
    "- 단어 경계를 나타낸다.\n",
    "- 공백으로 구분된 단어를 찾는다.\n",
    "- \\s는 공백을 포함하는지를 검사\n",
    "- raw string 문자(r)를 붙여줘야 함"
   ]
  },
  {
   "cell_type": "code",
   "execution_count": 42,
   "id": "871890fe-e23e-4500-96e4-abbe38ee8c9f",
   "metadata": {},
   "outputs": [
    {
     "name": "stdout",
     "output_type": "stream",
     "text": [
      "<re.Match object; span=(2, 9), match=' class '>\n",
      "None\n"
     ]
    }
   ],
   "source": [
    "p = re.compile(r'\\bclass\\b')# 공백을 포함하지 않고 매치결과 반환\n",
    "p = re.compile(r'\\sclass\\s') # CLASS 단어 앞 뒤에 공백이 있으면 MATCH, 공백을 포함해서 매치 결과를 반환\n",
    "print(p.search('no class at all'))\n",
    "print(p.search('class at all'))"
   ]
  },
  {
   "cell_type": "code",
   "execution_count": null,
   "id": "6b44f832-441e-4222-a015-50afac4e0be6",
   "metadata": {},
   "outputs": [],
   "source": [
    "# dog라는 독립된 단어를 찾는다.\n",
    "#\\b는 단어문자와 비단어 문자 사이의 경계를 의미\n",
    "m = re.search('r\\bdog\\b', 'I have a dog.')\n",
    "print(m)"
   ]
  },
  {
   "cell_type": "code",
   "execution_count": 45,
   "id": "52420251-a774-4fb0-b3db-956b70e1f0c5",
   "metadata": {},
   "outputs": [
    {
     "name": "stdout",
     "output_type": "stream",
     "text": [
      "<re.Match object; span=(6, 8), match='단어'>\n"
     ]
    }
   ],
   "source": [
    "p = re.compile(r'\\b단어\\b')\n",
    "print(p.search('한글에서 \"단어\"문자 찾기'))"
   ]
  },
  {
   "cell_type": "markdown",
   "id": "fcd1d292-a10e-46d9-ae7d-057b695ed08e",
   "metadata": {},
   "source": [
    "## \\\n",
    "- 정규표현식에서 사용하는 문자 그대로 표현하려면 앞에 \\를 붙임\n",
    "- 즉, 문자열 안에 포함된 메타문자(.?$ 등)을 원래 문자로 사용"
   ]
  },
  {
   "cell_type": "code",
   "execution_count": 46,
   "id": "e97b7519-ecfb-404e-8a4f-49f8e58b897b",
   "metadata": {},
   "outputs": [
    {
     "name": "stdout",
     "output_type": "stream",
     "text": [
      "<re.Match object; span=(5, 10), match='안녕하세요'>\n"
     ]
    }
   ],
   "source": [
    "m = re.search('안녕하세요?', '여러분, 안녕하세요?')\n",
    "print(m)"
   ]
  },
  {
   "cell_type": "markdown",
   "id": "095d4a0e-6084-4ef7-a7ff-7e9c6ad7a64b",
   "metadata": {},
   "source": [
    "# 그룹핑"
   ]
  },
  {
   "cell_type": "code",
   "execution_count": 48,
   "id": "803ad144-c943-4f9c-9b90-4af87c3ac466",
   "metadata": {},
   "outputs": [
    {
     "name": "stdout",
     "output_type": "stream",
     "text": [
      "<re.Match object; span=(0, 12), match='ABCABCABCABC'>\n",
      "ABCABCABCABC\n",
      "ABC\n"
     ]
    }
   ],
   "source": [
    "import re\n",
    "\n",
    "p = re.compile('(ABC)+')\n",
    "m = p.search('ABCABCABCABC OK?')\n",
    "print(m)\n",
    "print(m.group(0)) # 일치된 전체 문자열 or m.group()과 동일\n",
    "print(m.group(1)) #첫 번째 그룹에 해당하는 문자열"
   ]
  },
  {
   "cell_type": "code",
   "execution_count": 53,
   "id": "5b7c0e83-6b6b-450c-a1b5-0d2ced8db166",
   "metadata": {},
   "outputs": [
    {
     "name": "stdout",
     "output_type": "stream",
     "text": [
      "park\n",
      "010-1234-5678\n"
     ]
    }
   ],
   "source": [
    "p = re.compile('(\\w+)\\s+(\\d+[-]\\d+[-]\\d+)')\n",
    "m = p.search('park 010-1234-5678')\n",
    "#print(m)\n",
    "print(m.group(1))\n",
    "print(m.group(2))"
   ]
  },
  {
   "cell_type": "code",
   "execution_count": 55,
   "id": "bce34a6c-ffe4-4f53-b90f-0a12e01c0797",
   "metadata": {},
   "outputs": [
    {
     "name": "stdout",
     "output_type": "stream",
     "text": [
      "010\n"
     ]
    }
   ],
   "source": [
    "# 그룹이 중첩되어 있는 경우는 바깥쪽부터 시작하여 안쪽으로 들어갈 수록 인덱스가 증가한다.\n",
    "p = re.compile('(\\w+)\\s+((\\d+)[-]\\d+[-]\\d+)')\n",
    "m = p.search('park 010-1234-5678')\n",
    "print(m.group(3))"
   ]
  },
  {
   "cell_type": "code",
   "execution_count": null,
   "id": "612a53d9-3e31-4f04-9339-647b5ef7a4de",
   "metadata": {},
   "outputs": [],
   "source": [
    "- '\\번호'를 이용한 그룹 재참조"
   ]
  },
  {
   "cell_type": "code",
   "execution_count": 1,
   "id": "72487844-f23b-4777-8604-b3966c04287a",
   "metadata": {},
   "outputs": [
    {
     "data": {
      "text/plain": [
       "<re.Match object; span=(0, 4), match='abab'>"
      ]
     },
     "execution_count": 1,
     "metadata": {},
     "output_type": "execute_result"
    }
   ],
   "source": [
    "import re\n",
    "re.match(r'(a)(b)\\1\\2','abab') #a,b가 들어간 문자열 찾고 "
   ]
  },
  {
   "cell_type": "code",
   "execution_count": null,
   "id": "f91ee729-b40c-41d1-8d0d-6ee7714429e6",
   "metadata": {},
   "outputs": [],
   "source": [
    "- 동일한 단어가 연속적으로 사용된 문자열 찾기"
   ]
  },
  {
   "cell_type": "code",
   "execution_count": 3,
   "id": "406fd788-d1b4-44c6-b1d9-966a59703b68",
   "metadata": {},
   "outputs": [
    {
     "data": {
      "text/plain": [
       "'dog dog'"
      ]
     },
     "execution_count": 3,
     "metadata": {},
     "output_type": "execute_result"
    }
   ],
   "source": [
    "# \\b(\\w+)\\b : 단어 경계를 기준으로 한 단어를 찾는다.\n",
    "# \\s+ : 하나 이상의 공백 문자를 찾는다.\n",
    "# \\b \\b :단어 경계를 기준으로 한 단어를 찾으며 그룹 참조를 통해 이전에 그룹화된 단어와 동일한 단어를 찾는다.\n",
    "p = re.compile(r'\\b(\\w+)\\b\\s\\b\\1\\b')#단어경계를 기준으로 독립된 단어를 찾을때 단어 또는 숫자가 한글자 이상 반복이다\n",
    "p.search('I have a dog dog in my house').group()"
   ]
  },
  {
   "cell_type": "code",
   "execution_count": 4,
   "id": "14c7f8a0-1432-4c13-9afa-d3ab27b64181",
   "metadata": {},
   "outputs": [
    {
     "name": "stdout",
     "output_type": "stream",
     "text": [
      "park\n"
     ]
    }
   ],
   "source": [
    "# 그룹에 이름 붙이기:(?P<그룹이름>)\n",
    "p = re.compile('(?P<name>\\w+)\\s+(\\d+[-]\\d+[-]\\d+)')\n",
    "m = p.search('park 010-1234-5678')\n",
    "print(m.group('name'))"
   ]
  },
  {
   "cell_type": "markdown",
   "id": "b5a74675-b69d-4111-9706-20188876b45c",
   "metadata": {},
   "source": [
    "# 전방탐색/후방탐색"
   ]
  },
  {
   "cell_type": "markdown",
   "id": "52a8ff6c-245b-48c5-9bb4-237741234974",
   "metadata": {},
   "source": [
    "## 긍정 전방 탐색"
   ]
  },
  {
   "cell_type": "code",
   "execution_count": 13,
   "id": "3d23d87e-cca6-42ab-b14a-94167bba3000",
   "metadata": {},
   "outputs": [
    {
     "name": "stdout",
     "output_type": "stream",
     "text": [
      "http\n"
     ]
    }
   ],
   "source": [
    "import re\n",
    "# url 에서 프로토콜 이름만 검색할때 쓰임\n",
    "p = re.compile('.+(?=:)') #.은 뭔 글자든 상관없음 +는 1글자이상이면 돼고 : 콜론 나와야함)\n",
    "#p = re.compile('.+:') -> 얘는 :콜론까지 나오는 법\n",
    "# : 콜론 문자는 매치 결과로 반환하지 않는다. \n",
    "m = p.search('http://www.google.com')\n",
    "print(m.group())\n"
   ]
  },
  {
   "cell_type": "code",
   "execution_count": null,
   "id": "cec3b934-9423-42ae-a099-65799f3e791e",
   "metadata": {},
   "outputs": [],
   "source": [
    "## 부정 전방 탐색 첫번쨰만 일치되고 두번째는 일치되지 않아야 함"
   ]
  },
  {
   "cell_type": "code",
   "execution_count": 15,
   "id": "4a5f6f14-1e1c-4cfb-9ca4-1a46ba02ad36",
   "metadata": {},
   "outputs": [
    {
     "name": "stdout",
     "output_type": "stream",
     "text": [
      "python.exe\n",
      "sysinfo.cf\n"
     ]
    }
   ],
   "source": [
    "# 파일이름의 확장자 중 bat파일만 제외하고 추출하기\n",
    "file_names = ['autoexe.bat','python.exe', 'sysinfo.cf']\n",
    "p = re.compile('[a-zA-Z]+\\w*[.](?!bat)[a-zA-Z]+') #알파벳으로 시작하고(파일이름은 문자로 시작해야하기때문 숫자 안돼) 하나이상 뒤에 이어진다음 점 필수글고 뒤에 이어짐 \n",
    "for file_name in file_names:\n",
    "    m = p.search(file_name)\n",
    "    if m:\n",
    "        print(m.group())"
   ]
  },
  {
   "cell_type": "markdown",
   "id": "13715bb0-8f70-4b53-bb0e-1d4f747f6a44",
   "metadata": {},
   "source": [
    "## 후방 긍정 탐색"
   ]
  },
  {
   "cell_type": "code",
   "execution_count": 17,
   "id": "d89360b8-9696-4b2c-a435-368c3b16435c",
   "metadata": {},
   "outputs": [
    {
     "name": "stdout",
     "output_type": "stream",
     "text": [
      "23.45\n"
     ]
    }
   ],
   "source": [
    "p = re.compile('(?<=\\$)[0-9]+[.][0-9]+') # $는 문자열의 끝과 일치함을 나타내는 문자지만  \\$로만들어 $문자로 인식되게함\n",
    "#숫자하나이상 . 포함 숫자하나이상\n",
    "m = p.search('ABC01: $23.45')\n",
    "print(m.group())"
   ]
  },
  {
   "cell_type": "markdown",
   "id": "ddc08027-c523-4e7b-8bd4-f3890a91ce73",
   "metadata": {},
   "source": [
    "# 문자열 바꾸기"
   ]
  },
  {
   "cell_type": "code",
   "execution_count": 18,
   "id": "dd645b28-0484-4a6e-a434-41e01778928a",
   "metadata": {},
   "outputs": [
    {
     "data": {
      "text/plain": [
       "'color socks and red shoes'"
      ]
     },
     "execution_count": 18,
     "metadata": {},
     "output_type": "execute_result"
    }
   ],
   "source": [
    "p = re.compile('blue|white|%reload_ext')\n",
    "p.sub('color','blue socks and red shoes')#, count=1)"
   ]
  },
  {
   "cell_type": "markdown",
   "id": "c4174fb4-1350-42f9-8f96-72d9ded5e40d",
   "metadata": {},
   "source": [
    "[실습] 이메일 형식 검증"
   ]
  },
  {
   "cell_type": "code",
   "execution_count": 24,
   "id": "cbcc5320-849a-4eac-bfe1-f90d6fdfb7a1",
   "metadata": {},
   "outputs": [
    {
     "name": "stdout",
     "output_type": "stream",
     "text": [
      "mysite.com:invalid email\n",
      "mike.lee@google.com:valid email\n"
     ]
    }
   ],
   "source": [
    "import re #* 0개이상 + 1개이상\n",
    "def valid_email(email): #hyunsoo.ji@google.co.kr .점이 포함될수도 있고 아닐수도있다 [,]?로 표시\n",
    "    regex = '[a-zA-z]+\\w*[.]?\\w+[@]\\w+[.]\\w+[.]?\\w{2,3}'\n",
    "    valid = re.search(regex,email)\n",
    "    if valid:\n",
    "        print('valid email')\n",
    "    else:\n",
    "        print('invalid email')\n",
    "email = 'mysite.com'\n",
    "print(email, end =':')\n",
    "valid_email(email)\n",
    "\n",
    "email = 'mike.lee@google.com'\n",
    "print(email, end =':')\n",
    "valid_email(email)"
   ]
  },
  {
   "cell_type": "markdown",
   "id": "de369378-0c6a-47c8-ad45-449ffae76f3a",
   "metadata": {},
   "source": [
    "[실습] 한글찾기 / 한글제거"
   ]
  },
  {
   "cell_type": "code",
   "execution_count": 26,
   "id": "502c147d-84af-4073-8a70-f162dbbf2113",
   "metadata": {},
   "outputs": [
    {
     "name": "stdout",
     "output_type": "stream",
     "text": [
      "['good', 'morning']\n"
     ]
    }
   ],
   "source": [
    "s = '한글이에요. good morning. 안녕하세요'\n",
    "#m = re.findall('[ㄱ-힣]+', s)\n",
    "m = re.findall('[a-zA-Z]+', s) #한글 제거 버전\n",
    "print(m)"
   ]
  },
  {
   "cell_type": "markdown",
   "id": "9cc44971-d6a3-42bd-84c9-5f572f32c300",
   "metadata": {},
   "source": [
    "[문제] 입력받은 주민번호의 유효성 검증하기\n",
    "- 키보드로 입력 받은 주민번호의 유효성을 검증하여 그 결과를 출력한다.\n",
    " 유효한 월과 일인지까지"
   ]
  },
  {
   "cell_type": "code",
   "execution_count": 2,
   "id": "9f0464ca-f3a9-41c3-901b-7bbe7f714652",
   "metadata": {},
   "outputs": [
    {
     "name": "stdin",
     "output_type": "stream",
     "text": [
      "주민번호를 입력하세요:  990708-2173526\n"
     ]
    },
    {
     "name": "stdout",
     "output_type": "stream",
     "text": [
      "유효한 주민번호 형식입니다.\n"
     ]
    }
   ],
   "source": [
    "import re\n",
    "\n",
    "num = input('주민번호를 입력하세요: ')\n",
    "#p = re.compile('\\d{6}-\\d{7}(?!\\d+)')\n",
    "p = re.compile('\\d{2}(0[1-9]|1[0-2])(0[1-9]|1[0-9]|2[0-9]|3[0-1])-[1-4]\\d{6}')\n",
    "m = p.search(num)\n",
    "if m:\n",
    "    print('유효한 주민번호 형식입니다.')\n",
    "else :\n",
    "    print('유효하지 않은 주민번호 형식입니다.')"
   ]
  }
 ],
 "metadata": {
  "kernelspec": {
   "display_name": "Python 3 (ipykernel)",
   "language": "python",
   "name": "python3"
  },
  "language_info": {
   "codemirror_mode": {
    "name": "ipython",
    "version": 3
   },
   "file_extension": ".py",
   "mimetype": "text/x-python",
   "name": "python",
   "nbconvert_exporter": "python",
   "pygments_lexer": "ipython3",
   "version": "3.11.7"
  }
 },
 "nbformat": 4,
 "nbformat_minor": 5
}
