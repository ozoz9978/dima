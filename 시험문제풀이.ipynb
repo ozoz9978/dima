{
 "cells": [
  {
   "cell_type": "markdown",
   "id": "198f650f-65ed-412a-89be-175c0c20bcaa",
   "metadata": {},
   "source": [
    "# [문제 -4]"
   ]
  },
  {
   "cell_type": "code",
   "execution_count": null,
   "id": "de612ce7-d331-4e9c-a71e-a9efa9261eda",
   "metadata": {},
   "outputs": [],
   "source": [
    "width = int(input('width: '))\n",
    "height = int(input('height: '))\n",
    "print(f'폭{width}, 높이{height}의 사각형 넓이는: {width*height}')"
   ]
  },
  {
   "cell_type": "markdown",
   "id": "bfec052d-dc70-406e-85b8-d8c39fb6cb28",
   "metadata": {},
   "source": [
    "# [문제 -5]"
   ]
  },
  {
   "cell_type": "code",
   "execution_count": null,
   "id": "37eeda4b-3cd9-4dde-b1db-9d484be7f0e2",
   "metadata": {},
   "outputs": [],
   "source": [
    "id = 'digitalmaster'\n",
    "pwd = '12345678'\n",
    "print('--DIMA4기 전자출결 시스템--')\n",
    "user_id = input('id를 입력하세요: ')\n",
    "user_pwd = input('pw를 입력하세요: ')\n",
    "if id == user_id and pwd == user_pwd:\n",
    "    print('정상적으로 출결되었습니다.')\n",
    "else:\n",
    "    print('ID, PW를 확인하세요.')"
   ]
  },
  {
   "cell_type": "markdown",
   "id": "747f5519-5e52-4112-8433-3e13b7b5543a",
   "metadata": {},
   "source": [
    "# [문제 -6]"
   ]
  },
  {
   "cell_type": "code",
   "execution_count": 2,
   "id": "db56ea43-3db5-4958-a8a6-ca54e7a75a81",
   "metadata": {
    "collapsed": true,
    "jupyter": {
     "outputs_hidden": true
    }
   },
   "outputs": [
    {
     "name": "stdout",
     "output_type": "stream",
     "text": [
      "성적입력 (100점 단위)\n"
     ]
    },
    {
     "name": "stdin",
     "output_type": "stream",
     "text": [
      "출석점수:  45\n",
      "과제점수:  45\n",
      "중간점수:  45\n",
      "기말프로젝트:  454\n"
     ]
    },
    {
     "name": "stdout",
     "output_type": "stream",
     "text": [
      "총점:167.70\n",
      "F 학점\n"
     ]
    }
   ],
   "source": [
    "print('성적입력 (100점 단위)')\n",
    "attendance = int(input('출석점수: '))\n",
    "homework= int(input('과제점수: '))\n",
    "mid_term= int(input('중간점수: '))\n",
    "final_project = int(input('기말프로젝트: '))\n",
    "\n",
    "total = (attendance*0.1) + (homework *0.2) + (mid_term*0.4) +(final_project * 0.3)\n",
    "if attendance < 50:\n",
    "    grade = 'F'\n",
    "else:\n",
    "    if total >=90:\n",
    "        grade = 'A'\n",
    "    elif total >=80:\n",
    "        grade = 'B'\n",
    "    elif total >=70:\n",
    "        grade = 'C'\n",
    "    elif total >=60:\n",
    "        grade = 'D'\n",
    "    else :\n",
    "        grade = 'F'\n",
    "\n",
    "print(f'총점:{total:.2f}')\n",
    "print(f'{grade} 학점')"
   ]
  },
  {
   "cell_type": "markdown",
   "id": "9cf04657-2a25-49b8-a51f-c06e9762c3be",
   "metadata": {},
   "source": [
    "# [문제 -7]"
   ]
  },
  {
   "cell_type": "code",
   "execution_count": null,
   "id": "d0c43a65-5d85-468d-bfee-d53b4dcdccd0",
   "metadata": {},
   "outputs": [],
   "source": [
    "num = []\n",
    "for i in range(10) :\n",
    "    num.append(int(input('숫자입력: ')))\n",
    "num.sort()\n",
    "print(num)\n",
    "for n in num:\n",
    "    if not n%3: print(n)"
   ]
  },
  {
   "cell_type": "markdown",
   "id": "f047beea-5bf9-466c-9dae-0541ff840b7f",
   "metadata": {},
   "source": [
    "# [문제 -8]"
   ]
  },
  {
   "cell_type": "code",
   "execution_count": 5,
   "id": "82279c93-f736-4425-ae1f-668734f33207",
   "metadata": {},
   "outputs": [
    {
     "name": "stdout",
     "output_type": "stream",
     "text": [
      "{'서울': '02', '경기': '031', '강원': '033', '충남': '041', '충북': '043', '경북': '054', '경남': '055', '전남': '061', '전북': '063'}\n"
     ]
    }
   ],
   "source": [
    "phone = \"서울 02 ~경기 031 ~강원 033 ~충남 041 ~충북 043 ~경북 054 ~경남 055 ~전남 061 ~전북 063\"\n",
    "splited_phone = phone.split('~')\n",
    "#print('splited phone')\n",
    "mydic = {s.split()[0]:s.split()[1] for s in splited_phone}\n",
    "print(mydic)"
   ]
  },
  {
   "cell_type": "markdown",
   "id": "c2693413-42fb-47be-8bb7-32599b1b14de",
   "metadata": {},
   "source": [
    "# [문제 -9]"
   ]
  },
  {
   "cell_type": "code",
   "execution_count": null,
   "id": "a508ab54-62f2-4339-8c26-17a6b15b22d4",
   "metadata": {},
   "outputs": [],
   "source": [
    "url = input('웹 주소 입력: ')\n",
    "if url[-2:] == 'kr' :\n",
    "    print('kr 도메인 입니다.')\n",
    "else:\n",
    "    print('kr 도메인이 아닙니다')"
   ]
  },
  {
   "cell_type": "markdown",
   "id": "f08c2629-f10b-483d-83d5-2df7b6afc4f1",
   "metadata": {},
   "source": [
    "# [문제 -10]"
   ]
  },
  {
   "cell_type": "code",
   "execution_count": null,
   "id": "9b71a3f6-59ee-41ad-bd98-d757c5f1bcf8",
   "metadata": {},
   "outputs": [],
   "source": [
    "value = [ i for i in range(1,101) if not i%2]\n",
    "print(value)"
   ]
  },
  {
   "cell_type": "markdown",
   "id": "c189b490-57f9-4033-90d3-56fc442017a7",
   "metadata": {},
   "source": [
    "# [문제 -11]"
   ]
  },
  {
   "cell_type": "code",
   "execution_count": 8,
   "id": "d1e6e38b-c9db-4396-8c4c-ed052048a312",
   "metadata": {},
   "outputs": [
    {
     "name": "stdout",
     "output_type": "stream",
     "text": [
      "348\n",
      "960\n",
      "712\n",
      "1080\n",
      "796\n"
     ]
    }
   ],
   "source": [
    "price = [435, 1200, 890, 1350, 995]\n",
    "for sale_price in map(lambda x:x*0.8, price) :\n",
    "    print(f'{sale_price:.0f}')"
   ]
  },
  {
   "cell_type": "markdown",
   "id": "cc7fbb84-5ffc-4e78-92d4-a06ea1e93a2b",
   "metadata": {},
   "source": [
    "# [문제 -12]"
   ]
  },
  {
   "cell_type": "code",
   "execution_count": 13,
   "id": "e92076db-8949-4590-b120-4b439a02e34f",
   "metadata": {},
   "outputs": [
    {
     "name": "stdin",
     "output_type": "stream",
     "text": [
      "값[1]: 1\n",
      "값[2]: 2\n",
      "값[3]: 23\n",
      "값[4]: 4\n",
      "값[5]: 5\n",
      "값[6]: 56\n",
      "값[7]: 6\n",
      "값[8]: 7\n",
      "값[9]: 8\n",
      "값[10]: 8\n"
     ]
    },
    {
     "name": "stdout",
     "output_type": "stream",
     "text": [
      "평균: 12.00\n",
      "평균과 10이상 차이나는 수: 122356"
     ]
    }
   ],
   "source": [
    "nums = []\n",
    "for i in range (1,11):\n",
    "    nums.append(int(input(f'값[{i}]:')))\n",
    "\n",
    "avg = sum(nums) / len(nums)\n",
    "print(f'평균: {avg:.2f}')\n",
    "print('평균과 10이상 차이나는 수: ',end = '')\n",
    "for n in nums:\n",
    "    if n-avg <= -10 or n-avg >= 10:\n",
    "        print(n, end= '')"
   ]
  },
  {
   "cell_type": "markdown",
   "id": "e65a89a8-b5fd-4ad0-af80-acc351f81cf5",
   "metadata": {},
   "source": [
    "# [문제 -13]"
   ]
  },
  {
   "cell_type": "code",
   "execution_count": 12,
   "id": "06f8faa2-593e-4c63-a4cd-cdc1792415a0",
   "metadata": {
    "collapsed": true,
    "jupyter": {
     "outputs_hidden": true
    }
   },
   "outputs": [
    {
     "name": "stdout",
     "output_type": "stream",
     "text": [
      "정수를 입력하세요 (종료 0)\n"
     ]
    },
    {
     "name": "stdin",
     "output_type": "stream",
     "text": [
      " 1\n",
      " 2\n",
      " 3\n",
      " 4\n",
      " 0\n",
      "검색할 순위:  4\n"
     ]
    },
    {
     "name": "stdout",
     "output_type": "stream",
     "text": [
      "리스트의 범위를 벗어났습니다. 다시 입력하세요.\n"
     ]
    },
    {
     "name": "stdin",
     "output_type": "stream",
     "text": [
      "검색할 순위:  3\n"
     ]
    },
    {
     "name": "stdout",
     "output_type": "stream",
     "text": [
      "3번째로 큰 수는 2입니다\n"
     ]
    }
   ],
   "source": [
    "nums = []\n",
    "print('정수를 입력하세요 (종료 0)')\n",
    "while True:\n",
    "    num = int(input())\n",
    "    if num == 0: \n",
    "        break\n",
    "    nums.append(num)\n",
    "\n",
    "nums.sort(reverse=True)\n",
    "\n",
    "while True:\n",
    "    rank = int(input('검색할 순위: '))\n",
    "    if 0 < rank <= len(nums) :\n",
    "        break\n",
    "    else:\n",
    "        print('리스트의 범위를 벗어났습니다. 다시 입력하세요.')\n",
    "print(f'{rank}번째로 큰 수는 {nums[rank-1]}입니다')"
   ]
  },
  {
   "cell_type": "markdown",
   "id": "b60e7f5d-98e5-4499-8476-f00d3b4f0b00",
   "metadata": {},
   "source": [
    "# [문제 -14]"
   ]
  },
  {
   "cell_type": "code",
   "execution_count": 19,
   "id": "1852fca5-5076-4b05-82af-8abb278718d0",
   "metadata": {},
   "outputs": [
    {
     "name": "stdin",
     "output_type": "stream",
     "text": [
      "연도:  1999\n",
      "월:  7\n",
      "일:  8\n"
     ]
    },
    {
     "name": "stdout",
     "output_type": "stream",
     "text": [
      "1년 1월 1일 ~ 1999년 7월 8일까지는 총 729,943일 입니다.\n"
     ]
    }
   ],
   "source": [
    "monthly_date= [31,28,31,30,31,30,31,31,30,31,30,31]\n",
    "\n",
    "year = int(input('연도: '))\n",
    "month = int(input('월: '))\n",
    "day = int(input('일: '))\n",
    "\n",
    "\n",
    "\n",
    "\n",
    "def isLeapYear(year):\n",
    "    return (not year%4 and year%100) or not year%400\n",
    "\n",
    "# 전년도까지 총 일수\n",
    "for i in range(1, year):\n",
    "    if isLeapYear(i):\n",
    "        total += 366\n",
    "    else:\n",
    "        total += 365\n",
    "\n",
    "#전월까지 총 일수\n",
    "for i in range(month-1) :\n",
    "    total += monthly_date[i]\n",
    "# 날짜 더하기\n",
    "total += day\n",
    "\n",
    "if isLeapYear(year) and month > 2: \n",
    "    total += 1\n",
    "\n",
    "print(f'1년 1월 1일 ~ {year}년 {month}월 {day}일까지는 총 {total:,}일 입니다.')"
   ]
  },
  {
   "cell_type": "markdown",
   "id": "0073c979-14d2-4c54-bb8c-1edcaabb5f87",
   "metadata": {},
   "source": [
    "# [문제 -15]"
   ]
  },
  {
   "cell_type": "code",
   "execution_count": 22,
   "id": "8c1d27c7-154d-46c5-a76d-d48c79da355d",
   "metadata": {},
   "outputs": [
    {
     "name": "stdout",
     "output_type": "stream",
     "text": [
      "[3, 17, 8, 4, 18]\n",
      "|X|X|X|X|X|"
     ]
    },
    {
     "name": "stdin",
     "output_type": "stream",
     "text": [
      "X 위치의 숫자를 맞혀보세요:  3\n"
     ]
    },
    {
     "name": "stdout",
     "output_type": "stream",
     "text": [
      "정답입니다!\n",
      "|3|X|X|X|X|"
     ]
    },
    {
     "name": "stdin",
     "output_type": "stream",
     "text": [
      "X 위치의 숫자를 맞혀보세요:  17\n"
     ]
    },
    {
     "name": "stdout",
     "output_type": "stream",
     "text": [
      "정답입니다!\n",
      "|3|17|X|X|X|"
     ]
    },
    {
     "name": "stdin",
     "output_type": "stream",
     "text": [
      "X 위치의 숫자를 맞혀보세요:  8\n"
     ]
    },
    {
     "name": "stdout",
     "output_type": "stream",
     "text": [
      "정답입니다!\n",
      "|3|17|8|X|X|"
     ]
    },
    {
     "name": "stdin",
     "output_type": "stream",
     "text": [
      "X 위치의 숫자를 맞혀보세요:  4\n"
     ]
    },
    {
     "name": "stdout",
     "output_type": "stream",
     "text": [
      "정답입니다!\n",
      "|3|17|8|4|X|"
     ]
    },
    {
     "name": "stdin",
     "output_type": "stream",
     "text": [
      "X 위치의 숫자를 맞혀보세요:  0\n"
     ]
    },
    {
     "name": "stdout",
     "output_type": "stream",
     "text": [
      "없는 숫자입니다.\n",
      "|3|17|8|4|X|"
     ]
    },
    {
     "name": "stdin",
     "output_type": "stream",
     "text": [
      "X 위치의 숫자를 맞혀보세요:  9\n"
     ]
    },
    {
     "name": "stdout",
     "output_type": "stream",
     "text": [
      "없는 숫자입니다.\n",
      "|3|17|8|4|X|"
     ]
    },
    {
     "name": "stdin",
     "output_type": "stream",
     "text": [
      "X 위치의 숫자를 맞혀보세요:  18\n"
     ]
    },
    {
     "name": "stdout",
     "output_type": "stream",
     "text": [
      "정답입니다!\n",
      "7회만에 성공!\n"
     ]
    }
   ],
   "source": [
    "import random\n",
    "\n",
    "nums = random.sample(range(1,21),5)\n",
    "print(nums)\n",
    "\n",
    "mark = ['X']*5\n",
    "count = 0\n",
    "while True:\n",
    "    count += 1\n",
    "    print('|',end ='')\n",
    "    for m in mark:\n",
    "        print(f'{m}|', end='')\n",
    "\n",
    "    user_input = int(input('X 위치의 숫자를 맞혀보세요: '))\n",
    "    for i,n in enumerate (nums) : #enumerate :리스트의 원소와 인덱스를 튜플로 반환\n",
    "        if n == user_input:\n",
    "            print('정답입니다!')\n",
    "            mark[i] = str(n)\n",
    "            break\n",
    "    else: print('없는 숫자입니다.')\n",
    "    if mark.count('X') == 0: break\n",
    "print(f'{count}회만에 성공!')"
   ]
  }
 ],
 "metadata": {
  "kernelspec": {
   "display_name": "Python 3 (ipykernel)",
   "language": "python",
   "name": "python3"
  },
  "language_info": {
   "codemirror_mode": {
    "name": "ipython",
    "version": 3
   },
   "file_extension": ".py",
   "mimetype": "text/x-python",
   "name": "python",
   "nbconvert_exporter": "python",
   "pygments_lexer": "ipython3",
   "version": "3.11.7"
  }
 },
 "nbformat": 4,
 "nbformat_minor": 5
}
