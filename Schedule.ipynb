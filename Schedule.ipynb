{
 "cells": [
  {
   "cell_type": "markdown",
   "id": "d9b44426-34fd-4e59-ae3b-ce8a25c0b68a",
   "metadata": {},
   "source": [
    "# Schedule 모듈"
   ]
  },
  {
   "cell_type": "code",
   "execution_count": 1,
   "id": "98300cb2-310c-486b-b6f5-0d0f9021b943",
   "metadata": {},
   "outputs": [
    {
     "name": "stdout",
     "output_type": "stream",
     "text": [
      "Collecting Schedule\n",
      "  Downloading schedule-1.2.1-py2.py3-none-any.whl.metadata (3.3 kB)\n",
      "Downloading schedule-1.2.1-py2.py3-none-any.whl (11 kB)\n",
      "Installing collected packages: Schedule\n",
      "Successfully installed Schedule-1.2.1\n"
     ]
    }
   ],
   "source": [
    "!pip install Schedule"
   ]
  },
  {
   "cell_type": "markdown",
   "id": "5e0c7187-d08e-4a12-9fe5-74730345799e",
   "metadata": {},
   "source": [
    "# Schedule 모듈 활용\n",
    "- while 반복문을 활용하여 꾸준히 스케쥴을 유지\n",
    "- 특정시간이나 주기별로 프로그램 동작 실현\n",
    "- [스케줄 설정 예시] :\n",
    "    - schedule.every(20).minutes.do(job) : 매 20분마다 실행\n",
    "    - schedule.every().hour.do(job) : 매 시간마다 실행\n",
    "    - schedule.every().day.at('10:30') : 매일 10시 30q분에 실행\n",
    "    - schedule.every().monday.do(job) : 매주 월요일 실행\n",
    "    - schedule.every().wednesday.at('13:15').do(job) : 매주 수요일 13:15에 실행"
   ]
  },
  {
   "cell_type": "code",
   "execution_count": null,
   "id": "0c4e615a-500b-400b-a9c8-c8f1017bbfd3",
   "metadata": {},
   "outputs": [],
   "source": [
    "import schedule\n",
    "import time\n",
    "\n",
    "def job ():\n",
    "    print(\"I'm working\")\n",
    "    now = time.localtime()\n",
    "    print(f'{now.tm_year}-{now.tm_mon}-{now.tm_mday} {now.tm_hour}:{now.tm_min}:{now.tm_sec}')\n",
    "\n",
    "schedule.every().minute.at(':23').do(job) #23초\n",
    "schedule.every().hour.at(':23').do(job) # 23분\n",
    "\n",
    "schedule.every(5).hour.at('20:30').do(job) # 매 5시간째 20분 30초마다 job 함수 실행 6시 20분 30초에 실행\n",
    "    \n",
    "\n",
    "\n",
    "\n",
    "schedule.run_pending()"
   ]
  },
  {
   "cell_type": "markdown",
   "id": "dbce86f0-f156-4877-9147-e0826e63321d",
   "metadata": {},
   "source": [
    "## 매월 특정일 특정 시간에 job 실행"
   ]
  },
  {
   "cell_type": "code",
   "execution_count": null,
   "id": "5da8b6f5-60cf-466c-ba32-31049b0a5095",
   "metadata": {},
   "outputs": [],
   "source": [
    "from datetime import date\n",
    "# 매월 1일 2시에 작업 실행\n",
    "def job ():\n",
    "    if date.today().day != 1:\n",
    "        return\n",
    "\n",
    "schedule.every().day.at('02:00').do(jab)"
   ]
  },
  {
   "cell_type": "markdown",
   "id": "4c02a70c-c653-46b8-8298-ae4ab94e8726",
   "metadata": {},
   "source": [
    "# job 함수에 인수 값 전달"
   ]
  },
  {
   "cell_type": "code",
   "execution_count": null,
   "id": "2f9e8a83-cb57-4db3-a489-7ef0dac3a29e",
   "metadata": {},
   "outputs": [],
   "source": [
    "import schedule\n",
    "import time\n",
    "\n",
    "def greet(name):\n",
    "    print('Hello', name)\n",
    "    now = time.localtime()\n",
    "    #print(f'{now.tm_year}-{now.tm_mon}-{now.tm_mday} {now.tm_hour}:{now.tm_min}:{now.tm_sec}')\n",
    "\n",
    "#schedule.every().second.do(greet,name='Alice')\n",
    "\n",
    "while True:\n",
    "    schedule.run_pending()\n",
    "    time.sleep(1) # 각 반복 사이에 1초의 지연을 넣음 cpu 사용량은 줄어들지만 없을때랑 결과는 동일 "
   ]
  },
  {
   "cell_type": "markdown",
   "id": "8101ff54-7aba-4f63-a7a3-3abea5f0e850",
   "metadata": {},
   "source": [
    "# job 실행 취소하기"
   ]
  },
  {
   "cell_type": "code",
   "execution_count": null,
   "id": "95df45b5-637b-472a-8f67-271a43df6088",
   "metadata": {
    "scrolled": true
   },
   "outputs": [],
   "source": [
    "import schedule\n",
    "import time\n",
    "\n",
    "def message1():\n",
    "    print('매 1초마다 스케쥴 1 실행')\n",
    "def message2():\n",
    "    print('매 2초마다 스케쥴 2 실행')\n",
    "\n",
    "job1 = schedule.every().second.do(message1)\n",
    "job2 = schedule.every(2).seconds.do(message2)\n",
    "\n",
    "count = 0\n",
    "while True:\n",
    "    schedule.run_pending()\n",
    "    time.sleep(1)\n",
    "    count += 1\n",
    "    if count > 5 :\n",
    "        schedule.cancel_job(job1)"
   ]
  },
  {
   "cell_type": "markdown",
   "id": "2b6929ad-a98d-4c72-ba17-50af0e8fea91",
   "metadata": {},
   "source": [
    "# 지정된 시간까지 job 실행"
   ]
  },
  {
   "cell_type": "code",
   "execution_count": null,
   "id": "38f97026-ff6d-4da1-a88d-a9138db60e7b",
   "metadata": {
    "scrolled": true
   },
   "outputs": [],
   "source": [
    "import schedule\n",
    "import time\n",
    "\n",
    "def job ():\n",
    "    print(\"I'm working\")\n",
    "    now = time.localtime()\n",
    "    print(f'{now.tm_year}-{now.tm_mon}-{now.tm_mday} {now.tm_hour}:{now.tm_min}:{now.tm_sec}')\n",
    "\n",
    "schedule.every().second.until('14:45:30').do(job)\n",
    "\n",
    "while True:\n",
    "    if not schedule.jobs :\n",
    "        break\n",
    "    schedule.run_pending()\n",
    "    time.sleep(1)"
   ]
  }
 ],
 "metadata": {
  "kernelspec": {
   "display_name": "Python 3 (ipykernel)",
   "language": "python",
   "name": "python3"
  },
  "language_info": {
   "codemirror_mode": {
    "name": "ipython",
    "version": 3
   },
   "file_extension": ".py",
   "mimetype": "text/x-python",
   "name": "python",
   "nbconvert_exporter": "python",
   "pygments_lexer": "ipython3",
   "version": "3.11.7"
  }
 },
 "nbformat": 4,
 "nbformat_minor": 5
}
